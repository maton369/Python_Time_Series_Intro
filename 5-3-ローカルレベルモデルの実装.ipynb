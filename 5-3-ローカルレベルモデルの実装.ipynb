{
 "cells": [
  {
   "cell_type": "code",
   "execution_count": 1,
   "id": "c21614d8",
   "metadata": {},
   "outputs": [],
   "source": [
    "# 数値計算に使うライブラリ\n",
    "import numpy as np\n",
    "import pandas as pd\n",
    "from scipy import stats\n",
    "from scipy.optimize import minimize\n",
    "\n",
    "# 統計モデルを推定するライブラリ\n",
    "import statsmodels.api as sm\n",
    "import statsmodels.tsa.api as tsa\n",
    "\n",
    "# グラフを描画するライブラリ\n",
    "from matplotlib import pylab as plt\n",
    "import seaborn as sns\n",
    "\n",
    "sns.set()"
   ]
  },
  {
   "cell_type": "code",
   "execution_count": 13,
   "id": "670c1f27",
   "metadata": {},
   "outputs": [],
   "source": [
    "# 表示設定\n",
    "np.set_printoptions(linewidth=60)\n",
    "pd.set_option(\"display.width\", 80)\n",
    "\n",
    "from matplotlib.pylab import rcParams\n",
    "\n",
    "rcParams[\"font.family\"] = \"IPAexGothic\"\n",
    "rcParams[\"figure.figsize\"] = 8, 4"
   ]
  },
  {
   "cell_type": "code",
   "execution_count": 3,
   "id": "8b570ac6",
   "metadata": {},
   "outputs": [],
   "source": [
    "# 乱数の種\n",
    "np.random.seed(1)\n",
    "\n",
    "# 正規分布に従う乱数の累積和を作成し、ランダムウォーク系列を作る\n",
    "sim_size = 100\n",
    "mu = np.cumsum(stats.norm.rvs(loc=0, scale=1, size=sim_size).round(1)) + 30\n",
    "\n",
    "# 観測値の作成\n",
    "y = mu + stats.norm.rvs(loc=0, scale=5, size=sim_size).round(1)\n",
    "\n",
    "# 時系列インデックスの付与\n",
    "y_ts = pd.Series(y, index=pd.date_range(start=\"2020-01-01\", periods=sim_size, freq=\"D\"))"
   ]
  },
  {
   "cell_type": "code",
   "execution_count": 4,
   "id": "4084cfdc",
   "metadata": {},
   "outputs": [],
   "source": [
    "class LocalLevel:\n",
    "    # データを格納(pd.Seriesで、日付インデックスがついている想定)\n",
    "    def __init__(self, ts_data):\n",
    "        self.ts_data = ts_data\n",
    "        self.a = pd.Series(np.zeros(len(ts_data)), index=ts_data.index)\n",
    "        self.P = pd.Series(np.zeros(len(ts_data)), index=ts_data.index)\n",
    "        self.v = pd.Series(np.zeros(len(ts_data)), index=ts_data.index)\n",
    "        self.F = pd.Series(np.zeros(len(ts_data)), index=ts_data.index)\n",
    "        self.K = pd.Series(np.zeros(len(ts_data)), index=ts_data.index)\n",
    "        self.s_level = None  # 過程誤差の分散\n",
    "        self.s_irregular = None  # 観測誤差の分散\n",
    "\n",
    "    # 状態の初期値を設定する\n",
    "    def initialize(self, initial_a, initial_P):\n",
    "        self.initial_a = initial_a\n",
    "        self.initial_P = initial_P\n",
    "\n",
    "    # 1時点先の予測値を計算する\n",
    "    def _forecast_step(self, a_pre, P_pre, s_irregular, s_level, first=False):\n",
    "        if first:\n",
    "            a_forecast = self.initial_a  # 初回に限り、初期値を代入\n",
    "            P_forecast = self.initial_P  # 初回に限り、初期値を代入\n",
    "        else:\n",
    "            a_forecast = a_pre  # 状態の予測値\n",
    "            P_forecast = P_pre + s_level  # 状態の予測値の分散\n",
    "\n",
    "        y_forecast = a_forecast  # 観測値の予測値\n",
    "        F = P_forecast + s_irregular  # 観測値の予測値の残差の分散\n",
    "\n",
    "        return pd.Series(\n",
    "            [a_forecast, P_forecast, y_forecast, F], index=[\"a\", \"P\", \"y\", \"F\"]\n",
    "        )\n",
    "\n",
    "    # 1時点のフィルタリングをする\n",
    "    def _filter_step(self, forecasted, y, s_irregular):\n",
    "        v = y - forecasted.y  # 観測値の1時点先予測値の残差\n",
    "        K = forecasted.P / forecasted.F  # カルマンゲイン\n",
    "        a_filter = forecasted.a + K * v  # フィルタ化推定量（更新後の状態推定値）\n",
    "        P_filter = (1 - K) * forecasted.P  # フィルタ化推定量の分散（更新後の不確実性）\n",
    "\n",
    "        return pd.Series([a_filter, P_filter, v, K], index=[\"a\", \"P\", \"v\", \"K\"])\n",
    "\n",
    "    # フィルタリングを行う\n",
    "    def filter(self, s_irregular, s_level):\n",
    "        for i in range(0, len(self.ts_data)):\n",
    "            if i == 0:\n",
    "                # 初回のみ、初期値の値を利用して予測する\n",
    "                forecast_loop = self._forecast_step(\n",
    "                    a_pre=None,\n",
    "                    P_pre=None,\n",
    "                    s_irregular=s_irregular,\n",
    "                    s_level=s_level,\n",
    "                    first=True,\n",
    "                )\n",
    "            else:\n",
    "                # 2時点目以降は、1時点前の推定結果を参照して予測する\n",
    "                forecast_loop = self._forecast_step(\n",
    "                    a_pre=self.a.iloc[i - 1],\n",
    "                    P_pre=self.P.iloc[i - 1],\n",
    "                    s_irregular=s_irregular,\n",
    "                    s_level=s_level,\n",
    "                )\n",
    "\n",
    "            # フィルタリングの実行（予測と観測の融合）\n",
    "            filter_loop = self._filter_step(\n",
    "                forecasted=forecast_loop,\n",
    "                y=self.ts_data.iloc[i],\n",
    "                s_irregular=s_irregular,\n",
    "            )\n",
    "\n",
    "            # 結果の保存\n",
    "            self.a.iloc[i] = filter_loop.a  # 更新後の状態推定値\n",
    "            self.P.iloc[i] = filter_loop.P  # 更新後の分散\n",
    "            self.F.iloc[i] = forecast_loop.F  # 残差分散\n",
    "            self.K.iloc[i] = filter_loop.K  # カルマンゲイン\n",
    "            self.v.iloc[i] = filter_loop.v  # 観測誤差（残差）\n",
    "\n",
    "    # 対数尤度の計算\n",
    "    def llf(self):\n",
    "        # 正規分布を仮定した尤度の対数和\n",
    "        return np.sum(np.log(stats.norm.pdf(x=self.v, loc=0, scale=np.sqrt(self.F))))\n",
    "\n",
    "    # パラメータの推定と状態の再当てはめ\n",
    "    def fit(self, start_params):\n",
    "        # 内部関数：パラメータを指定して対数尤度の-1倍を計算\n",
    "        def calc_llf(params):\n",
    "            self.filter(\n",
    "                np.exp(params[0]), np.exp(params[1])\n",
    "            )  # 対数パラメータを指数変換\n",
    "            return self.llf() * -1  # 最適化では最小化を行うため、負の対数尤度を返す\n",
    "\n",
    "        # Nelder-Mead法による最適化\n",
    "        opt_res = minimize(\n",
    "            calc_llf,\n",
    "            start_params,\n",
    "            method=\"Nelder-Mead\",\n",
    "            tol=1e-6,\n",
    "            options={\"maxiter\": 2000},\n",
    "        )\n",
    "\n",
    "        # 推定されたパラメータの保存\n",
    "        self.s_irregular = np.exp(opt_res.x[0])  # 観測誤差の分散\n",
    "        self.s_level = np.exp(opt_res.x[1])  # 過程誤差の分散\n",
    "\n",
    "        # 最適パラメータで再度フィルタリングを実行\n",
    "        self.filter(self.s_irregular, self.s_level)\n",
    "\n",
    "    # 推定された状態の可視化\n",
    "    def plot_level(self):\n",
    "        # 観測値とフィルタ化推定値を並べてプロット\n",
    "        plot_df = pd.concat([self.a, self.ts_data], axis=1)\n",
    "        plot_df.columns = [\"filtered\", \"y\"]\n",
    "        plot_df.plot(title=\"状態推定値（filtered）と観測値（y）\")"
   ]
  },
  {
   "cell_type": "code",
   "execution_count": 5,
   "id": "1e9f333c",
   "metadata": {},
   "outputs": [],
   "source": [
    "# データを格納\n",
    "local_level = LocalLevel(y_ts)\n",
    "# → LocalLevelクラスのインスタンスを作成し、対象の時系列データ（y_ts）を内部に保持する。\n",
    "\n",
    "# 初期化\n",
    "local_level.initialize(initial_a=0, initial_P=1000000)\n",
    "# → 状態の初期値を設定する。\n",
    "#   - initial_a : 状態（レベル）の初期推定値（ここでは0）\n",
    "#   - initial_P : 状態分散（初期の不確実性を非常に大きくしている）\n",
    "\n",
    "# フィルタリング\n",
    "local_level.filter(s_irregular=10, s_level=1)\n",
    "# → カルマンフィルタを適用して、各時点での状態（レベル）を推定する。\n",
    "#   - s_irregular : 観測誤差の分散 (σ_ε²)\n",
    "#   - s_level     : 過程誤差の分散 (σ_η²)\n",
    "#\n",
    "# この操作により、local_level.a（状態推定値）や local_level.v（残差）などが更新される。\n",
    "# つまり、「観測値 y_t」から「真のレベル μ_t」を逐次推定する過程である。"
   ]
  },
  {
   "cell_type": "code",
   "execution_count": 6,
   "id": "24f8f79d",
   "metadata": {},
   "outputs": [
    {
     "data": {
      "text/plain": [
       "2020-01-01    29.39971\n",
       "2020-01-02    33.43318\n",
       "2020-01-03    33.07468\n",
       "Freq: D, dtype: float64"
      ]
     },
     "execution_count": 6,
     "metadata": {},
     "output_type": "execute_result"
    }
   ],
   "source": [
    "# フィルタ化推定量を小数点第5位まで丸めて上位3行を表示\n",
    "local_level.a.round(5).head(3)\n",
    "\n",
    "# ▼説明\n",
    "# local_level.a は「各時点におけるフィルタ化された状態推定値（level成分 μ_t）」を表す。\n",
    "# これはカルマンフィルタを通して得られた「その時点までの情報を用いた最良の推定値」である。\n",
    "#\n",
    "# 例えば：\n",
    "#   - t=1 の a₁ は、初期値と第1観測 y₁ をもとに更新された状態推定値。\n",
    "#   - t=2 の a₂ は、a₁ と y₂ の情報を使って更新された推定値。\n",
    "#\n",
    "# この推定値系列 a_t は、観測値 y_t よりもノイズが少なく、滑らかに変化する特徴を持つ。"
   ]
  },
  {
   "cell_type": "code",
   "execution_count": 7,
   "id": "07cae774",
   "metadata": {},
   "outputs": [
    {
     "data": {
      "text/plain": [
       "2020-01-01    9.99990\n",
       "2020-01-02    5.23807\n",
       "2020-01-03    3.84163\n",
       "Freq: D, dtype: float64"
      ]
     },
     "execution_count": 7,
     "metadata": {},
     "output_type": "execute_result"
    }
   ],
   "source": [
    "# フィルタ化推定量の分散を小数点第5位まで丸めて上位3行を表示\n",
    "local_level.P.round(5).head(3)\n",
    "\n",
    "# ▼説明\n",
    "# local_level.P は「各時点におけるフィルタ化された状態推定値 a_t の分散（不確実性）」を表す。\n",
    "# これはカルマンフィルタが持つ「推定の信頼度」を数値で示しており、\n",
    "# 値が小さいほど、その時点の推定値 a_t が観測値 y_t によって十分に確定していることを意味する。\n",
    "#\n",
    "# 一般的な挙動：\n",
    "#   - 観測誤差分散 s_irregular が小さい場合 → P_t は急速に減少（推定精度が高まる）\n",
    "#   - 状態誤差分散 s_level が大きい場合 → P_t は大きくなる（状態変動が激しく信頼度が低下）\n",
    "#\n",
    "# したがって、P_t の推移を見ることで「時系列モデルの不確実性がどのように変化しているか」を確認できる。"
   ]
  },
  {
   "cell_type": "code",
   "execution_count": 8,
   "id": "042c2b97",
   "metadata": {},
   "outputs": [
    {
     "data": {
      "text/plain": [
       "2020-01-01    29.40000\n",
       "2020-01-02     7.70029\n",
       "2020-01-03    -0.93318\n",
       "Freq: D, dtype: float64"
      ]
     },
     "execution_count": 8,
     "metadata": {},
     "output_type": "execute_result"
    }
   ],
   "source": [
    "# 観測値の1時点先予測値の残差を小数点第5位まで丸めて上位3行を表示\n",
    "local_level.v.round(5).head(3)\n",
    "\n",
    "# ▼説明\n",
    "# local_level.v は「観測値の1時点先予測誤差（innovation）」を表す。\n",
    "# 具体的には、以下の式で計算される：\n",
    "#\n",
    "#     v_t = y_t − ŷ_t|t−1\n",
    "#\n",
    "# ここで、\n",
    "#   - y_t       : 実際の観測値（観測系列）\n",
    "#   - ŷ_t|t−1  : 1時点前までの情報による観測値の予測値\n",
    "#\n",
    "# この v_t は、カルマンフィルタにおける「新しい情報」を意味する。\n",
    "# v_t が大きい場合、その時点で予測と実際の観測値の差が大きく、\n",
    "# 状態推定に強く影響を与える。\n",
    "#\n",
    "# なお、v_t の系列の分散は F_t（予測誤差分散）として local_level.F に保存されている。"
   ]
  },
  {
   "cell_type": "code",
   "execution_count": 9,
   "id": "953e89f5",
   "metadata": {},
   "outputs": [
    {
     "data": {
      "text/plain": [
       "2020-01-01    1.000010e+06\n",
       "2020-01-02    2.099990e+01\n",
       "2020-01-03    1.623807e+01\n",
       "Freq: D, dtype: float64"
      ]
     },
     "execution_count": 9,
     "metadata": {},
     "output_type": "execute_result"
    }
   ],
   "source": [
    "# 観測値の1時点先予測値の残差の分散を小数点第5位まで丸めて上位3行を表示\n",
    "local_level.F.round(5).head(3)\n",
    "\n",
    "# ▼説明\n",
    "# local_level.F は「観測値の1時点先予測値の残差の分散（予測誤差分散）」を表す。\n",
    "# これはカルマンフィルタの更新ステップで重要な役割を持ち、\n",
    "# 以下の式で定義される：\n",
    "#\n",
    "#     F_t = P_t|t−1 + σ_ε²\n",
    "#\n",
    "# ここで、\n",
    "#   - P_t|t−1 : 状態（レベル成分）の1時点先予測分散\n",
    "#   - σ_ε²    : 観測誤差の分散（observation noise variance）\n",
    "#\n",
    "# F_t は、観測された値 y_t が予測値 ŷ_t|t−1 からどれほどばらつくかを表す尺度であり、\n",
    "# カルマンゲイン K_t の算出にも用いられる：\n",
    "#\n",
    "#     K_t = P_t|t−1 / F_t\n",
    "#\n",
    "# よって、F_t が大きいほど観測値の信頼性が低く、\n",
    "# 状態更新（a_t の修正）に対して観測データの影響が小さくなる。"
   ]
  },
  {
   "cell_type": "code",
   "execution_count": 10,
   "id": "a816d453",
   "metadata": {},
   "outputs": [
    {
     "data": {
      "text/plain": [
       "2020-01-01    0.99999\n",
       "2020-01-02    0.52381\n",
       "2020-01-03    0.38416\n",
       "Freq: D, dtype: float64"
      ]
     },
     "execution_count": 10,
     "metadata": {},
     "output_type": "execute_result"
    }
   ],
   "source": [
    "# カルマンゲインを小数点第5位まで丸めて上位3行を表示\n",
    "local_level.K.round(5).head(3)\n",
    "\n",
    "# ▼説明\n",
    "# local_level.K は「カルマンゲイン（Kalman Gain）」を表す。\n",
    "# カルマンゲインは、観測値 y_t に基づいて\n",
    "# 状態推定値 a_t をどの程度修正すべきかを決める重みであり、\n",
    "# 以下の式で定義される：\n",
    "#\n",
    "#     K_t = P_t|t−1 / F_t\n",
    "#\n",
    "# ここで、\n",
    "#   - P_t|t−1 : 状態（レベル成分）の1時点先予測分散\n",
    "#   - F_t      : 観測値の予測誤差分散（= P_t|t−1 + σ_ε²）\n",
    "#\n",
    "# K_t の値が大きい場合：\n",
    "#   → 観測値の信頼性が高く、観測値を強く反映して状態を修正する。\n",
    "#\n",
    "# K_t の値が小さい場合：\n",
    "#   → モデル（予測）の信頼性が高く、観測値による修正は小さくなる。\n",
    "#\n",
    "# したがって、K_t はカルマンフィルタの「観測とモデルのバランス」を\n",
    "# 動的に調整する重要なパラメータである。"
   ]
  },
  {
   "cell_type": "code",
   "execution_count": 14,
   "id": "e1173d0f",
   "metadata": {},
   "outputs": [
    {
     "data": {
      "image/png": "[encoded data removed]",
      "text/plain": [
       "<Figure size 800x400 with 1 Axes>"
      ]
     },
     "metadata": {},
     "output_type": "display_data"
    }
   ],
   "source": [
    "# 推定された状態（フィルタ化推定量）の可視化\n",
    "local_level.plot_level()\n",
    "\n",
    "# ▼説明\n",
    "# この関数では、推定された状態（a_t: filtered state）と実際の観測値（y_t）を\n",
    "# 同じグラフ上に重ねて描画する。\n",
    "#\n",
    "# - 青線（y）：観測値（実際のデータ）\n",
    "# - オレンジ線（filtered）：フィルタによって推定された「真の状態（レベル）」の時系列\n",
    "#\n",
    "# 状態空間モデルの文脈では、観測値 y_t は次のように表される：\n",
    "#\n",
    "#     y_t = a_t + ε_t\n",
    "#\n",
    "# （ε_t は観測誤差）\n",
    "#\n",
    "# 一方、状態 a_t は以下のように時系列的に変化する：\n",
    "#\n",
    "#     a_t = a_{t-1} + η_t\n",
    "#\n",
    "# （η_t は過程誤差）\n",
    "#\n",
    "# このプロットを通して、\n",
    "# - 観測値 y_t がノイズを含む実データであるのに対し、\n",
    "# - フィルタ化推定量 a_t はその背後にある滑らかなトレンド（潜在状態）を表していることが確認できる。\n",
    "#\n",
    "# よって、このグラフはカルマンフィルタの推定結果を直感的に理解する上で重要である。"
   ]
  },
  {
   "cell_type": "code",
   "execution_count": null,
   "id": "0a3c8690",
   "metadata": {},
   "outputs": [],
   "source": []
  }
 ],
 "metadata": {
  "kernelspec": {
   "display_name": "py_tsa_venv",
   "language": "python",
   "name": "python3"
  },
  "language_info": {
   "codemirror_mode": {
    "name": "ipython",
    "version": 3
   },
   "file_extension": ".py",
   "mimetype": "text/x-python",
   "name": "python",
   "nbconvert_exporter": "python",
   "pygments_lexer": "ipython3",
   "version": "3.10.13"
  }
 },
 "nbformat": 4,
 "nbformat_minor": 5
}
