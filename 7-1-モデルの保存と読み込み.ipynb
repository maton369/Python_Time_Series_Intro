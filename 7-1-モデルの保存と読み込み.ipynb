{
 "cells": [
  {
   "cell_type": "code",
   "execution_count": 1,
   "id": "64988fd4",
   "metadata": {},
   "outputs": [],
   "source": [
    "# 基本のライブラリを読み込む\n",
    "import numpy as np\n",
    "import pandas as pd\n",
    "import scipy as sp\n",
    "from scipy import stats\n",
    "\n",
    "# 統計モデルを推定するライブラリ\n",
    "import statsmodels.api as sm\n",
    "import statsmodels.tsa.api as tsa\n",
    "\n",
    "# グラフを描画するライブラリ\n",
    "from matplotlib import pylab as plt\n",
    "import seaborn as sns\n",
    "import matplotlib.dates as mdates\n",
    "\n",
    "sns.set()\n",
    "\n",
    "# グラフの日本語表記\n",
    "from matplotlib import rcParams\n",
    "\n",
    "rcParams[\"font.family\"] = \"IPAexGothic\"\n",
    "rcParams[\"font.sans-serif\"] = \"Meiryo\""
   ]
  },
  {
   "cell_type": "code",
   "execution_count": 2,
   "id": "d4c87e5e",
   "metadata": {},
   "outputs": [],
   "source": [
    "# 表示設定\n",
    "np.set_printoptions(linewidth=60)\n",
    "pd.set_option(\"display.width\", 80)\n",
    "\n",
    "from matplotlib.pylab import rcParams\n",
    "\n",
    "rcParams[\"figure.figsize\"] = 8, 4"
   ]
  },
  {
   "cell_type": "code",
   "execution_count": 3,
   "id": "6dd8a770",
   "metadata": {},
   "outputs": [
    {
     "name": "stdout",
     "output_type": "stream",
     "text": [
      "                     y\n",
      "date                  \n",
      "2000-05-01  182.079325\n",
      "2000-05-02  141.334794\n",
      "                     y\n",
      "date                  \n",
      "2000-08-07  264.246774\n",
      "2000-08-08  214.887515\n"
     ]
    }
   ],
   "source": [
    "# データの読み込み\n",
    "train_sample = pd.read_csv(\n",
    "    \"7-1-1-train-sample-1.csv\", index_col=\"date\", parse_dates=True, dtype=\"float\"\n",
    ")\n",
    "\n",
    "# 日データであることの指定\n",
    "train_sample.index.freq = \"D\"\n",
    "\n",
    "# 結果の確認\n",
    "print(train_sample.head(2))\n",
    "print(train_sample.tail(2))"
   ]
  },
  {
   "cell_type": "code",
   "execution_count": 4,
   "id": "7c5096bf",
   "metadata": {},
   "outputs": [
    {
     "name": "stdout",
     "output_type": "stream",
     "text": [
      "RUNNING THE L-BFGS-B CODE\n",
      "\n",
      "           * * *\n",
      "\n",
      "Machine precision = 2.220D-16\n",
      " N =            4     M =           10\n",
      "\n",
      "At X0         0 variables are exactly at the bounds\n",
      "\n",
      "At iterate    0    f=  5.34797D+00    |proj g|=  1.06009D-02\n",
      "\n",
      "At iterate    5    f=  3.06172D+00    |proj g|=  7.34555D-02\n",
      "\n",
      "At iterate   10    f=  2.96718D+00    |proj g|=  8.73561D-03\n",
      "\n",
      "At iterate   15    f=  2.93725D+00    |proj g|=  3.43616D-02\n",
      "\n",
      "At iterate   20    f=  2.90440D+00    |proj g|=  1.72459D-02\n",
      "\n",
      "At iterate   25    f=  2.90263D+00    |proj g|=  5.42255D-04\n",
      "\n",
      "At iterate   30    f=  2.90262D+00    |proj g|=  2.36588D-05\n",
      "\n",
      "           * * *\n",
      "\n",
      "Tit   = total number of iterations\n",
      "Tnf   = total number of function evaluations\n",
      "Tnint = total number of segments explored during Cauchy searches\n",
      "Skip  = number of BFGS updates skipped\n",
      "Nact  = number of active bounds at final generalized Cauchy point\n",
      "Projg = norm of the final projected gradient\n",
      "F     = final function value\n",
      "\n",
      "           * * *\n",
      "\n",
      "   N    Tit     Tnf  Tnint  Skip  Nact     Projg        F\n",
      "    4     31     44      1     0     0   2.438D-05   2.903D+00\n",
      "  F =   2.9026176673676525     \n",
      "\n",
      "CONVERGENCE: REL_REDUCTION_OF_F_<=_FACTR*EPSMCH             \n",
      "sigma2.irregular     0.104168\n",
      "sigma2.level        23.397227\n",
      "sigma2.trend         0.175135\n",
      "sigma2.seasonal      0.092465\n",
      "dtype: float64\n"
     ]
    },
    {
     "name": "stderr",
     "output_type": "stream",
     "text": [
      " This problem is unconstrained.\n"
     ]
    }
   ],
   "source": [
    "# ==============================================================\n",
    "# 季節変動ありのローカル線形トレンドモデル（Local Linear Trend Model with Seasonality）\n",
    "# ==============================================================\n",
    "\n",
    "# UnobservedComponents（観測されない成分モデル）は、\n",
    "# 状態空間モデル（State Space Model）をベースに、\n",
    "# トレンド成分・季節成分・外生変数・誤差構造などを統合的に扱うクラスである。\n",
    "#\n",
    "# ここでは「ローカル線形トレンド」＋「季節変動（周期7）」をモデル化している。\n",
    "# --------------------------------------------------------------\n",
    "\n",
    "mod_sample = tsa.UnobservedComponents(\n",
    "    endog=train_sample[\"y\"],  # 対象の時系列データ\n",
    "    level=\"local linear trend\",  # 時間とともに変化する水準＋トレンド\n",
    "    seasonal=7,  # 季節周期（7日周期の週次変動）\n",
    ").fit()  # パラメータを最尤法（MLE）で推定\n",
    "\n",
    "# ==============================================================\n",
    "# 推定されたパラメータの確認\n",
    "# ==============================================================\n",
    "\n",
    "# .params で推定された分散パラメータなどを確認できる。\n",
    "# 一般に、ローカル線形トレンドモデルでは以下が推定される：\n",
    "#   - σ²_ε : 観測誤差（Irregular component）の分散\n",
    "#   - σ²_η : 水準（Level component）の変動分散\n",
    "#   - σ²_ζ : トレンド（Slope component）の変動分散\n",
    "#   - （必要に応じて）季節成分の分散\n",
    "#\n",
    "# モデル構造の背後にある数式は次のように表される：\n",
    "#\n",
    "# 【状態空間表現】\n",
    "# 観測方程式（Observation equation）:\n",
    "#     y_t = μ_t + γ_t + ε_t,     ε_t ~ N(0, σ²_ε)\n",
    "#\n",
    "# 状態方程式（State equations）:\n",
    "#     μ_t = μ_{t-1} + β_{t-1} + η_t,   η_t ~ N(0, σ²_η)\n",
    "#     β_t = β_{t-1} + ζ_t,            ζ_t ~ N(0, σ²_ζ)\n",
    "#     γ_t = -Σ_{i=1}^{s-1} γ_{t-i} + ω_t, ω_t ~ N(0, σ²_γ)   （季節性成分）\n",
    "#\n",
    "# ここで：\n",
    "#   μ_t : 水準（Level）\n",
    "#   β_t : トレンド（Slope）\n",
    "#   γ_t : 季節性（Seasonal）\n",
    "#   ε_t : 観測誤差\n",
    "# --------------------------------------------------------------\n",
    "\n",
    "print(mod_sample.params)"
   ]
  },
  {
   "cell_type": "code",
   "execution_count": 5,
   "id": "0a2b0848",
   "metadata": {},
   "outputs": [
    {
     "data": {
      "text/plain": [
       "2000-08-09    246.808962\n",
       "2000-08-10    277.554573\n",
       "2000-08-11    296.189758\n",
       "2000-08-12    325.585518\n",
       "2000-08-13    317.301612\n",
       "2000-08-14    269.799431\n",
       "2000-08-15    221.201080\n",
       "Freq: D, Name: predicted_mean, dtype: float64"
      ]
     },
     "execution_count": 5,
     "metadata": {},
     "output_type": "execute_result"
    }
   ],
   "source": [
    "# 予測\n",
    "forecast_sample = mod_sample.forecast(7)\n",
    "\n",
    "# 予測結果の確認\n",
    "forecast_sample"
   ]
  },
  {
   "cell_type": "code",
   "execution_count": null,
   "id": "4c673bfa",
   "metadata": {},
   "outputs": [],
   "source": []
  }
 ],
 "metadata": {
  "kernelspec": {
   "display_name": "py_tsa_venv",
   "language": "python",
   "name": "python3"
  },
  "language_info": {
   "codemirror_mode": {
    "name": "ipython",
    "version": 3
   },
   "file_extension": ".py",
   "mimetype": "text/x-python",
   "name": "python",
   "nbconvert_exporter": "python",
   "pygments_lexer": "ipython3",
   "version": "3.10.13"
  }
 },
 "nbformat": 4,
 "nbformat_minor": 5
}
