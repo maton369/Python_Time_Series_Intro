{
 "cells": [
  {
   "cell_type": "code",
   "execution_count": 1,
   "id": "64988fd4",
   "metadata": {},
   "outputs": [],
   "source": [
    "# 基本のライブラリを読み込む\n",
    "import numpy as np\n",
    "import pandas as pd\n",
    "import scipy as sp\n",
    "from scipy import stats\n",
    "\n",
    "# 統計モデルを推定するライブラリ\n",
    "import statsmodels.api as sm\n",
    "import statsmodels.tsa.api as tsa\n",
    "\n",
    "# グラフを描画するライブラリ\n",
    "from matplotlib import pylab as plt\n",
    "import seaborn as sns\n",
    "import matplotlib.dates as mdates\n",
    "\n",
    "sns.set()\n",
    "\n",
    "# グラフの日本語表記\n",
    "from matplotlib import rcParams\n",
    "\n",
    "rcParams[\"font.family\"] = \"IPAexGothic\"\n",
    "rcParams[\"font.sans-serif\"] = \"Meiryo\""
   ]
  },
  {
   "cell_type": "code",
   "execution_count": 2,
   "id": "d4c87e5e",
   "metadata": {},
   "outputs": [],
   "source": [
    "# 表示設定\n",
    "np.set_printoptions(linewidth=60)\n",
    "pd.set_option(\"display.width\", 80)\n",
    "\n",
    "from matplotlib.pylab import rcParams\n",
    "\n",
    "rcParams[\"figure.figsize\"] = 8, 4"
   ]
  },
  {
   "cell_type": "code",
   "execution_count": 3,
   "id": "6dd8a770",
   "metadata": {},
   "outputs": [
    {
     "name": "stdout",
     "output_type": "stream",
     "text": [
      "                     y\n",
      "date                  \n",
      "2000-05-01  182.079325\n",
      "2000-05-02  141.334794\n",
      "                     y\n",
      "date                  \n",
      "2000-08-07  264.246774\n",
      "2000-08-08  214.887515\n"
     ]
    }
   ],
   "source": [
    "# データの読み込み\n",
    "train_sample = pd.read_csv(\n",
    "    \"7-1-1-train-sample-1.csv\", index_col=\"date\", parse_dates=True, dtype=\"float\"\n",
    ")\n",
    "\n",
    "# 日データであることの指定\n",
    "train_sample.index.freq = \"D\"\n",
    "\n",
    "# 結果の確認\n",
    "print(train_sample.head(2))\n",
    "print(train_sample.tail(2))"
   ]
  },
  {
   "cell_type": "code",
   "execution_count": 4,
   "id": "7c5096bf",
   "metadata": {},
   "outputs": [
    {
     "name": "stdout",
     "output_type": "stream",
     "text": [
      "RUNNING THE L-BFGS-B CODE\n",
      "\n",
      "           * * *\n",
      "\n",
      "Machine precision = 2.220D-16\n",
      " N =            4     M =           10\n",
      "\n",
      "At X0         0 variables are exactly at the bounds\n",
      "\n",
      "At iterate    0    f=  5.34797D+00    |proj g|=  1.06009D-02\n",
      "\n",
      "At iterate    5    f=  3.06172D+00    |proj g|=  7.34555D-02\n",
      "\n",
      "At iterate   10    f=  2.96718D+00    |proj g|=  8.73561D-03\n",
      "\n",
      "At iterate   15    f=  2.93725D+00    |proj g|=  3.43616D-02\n",
      "\n",
      "At iterate   20    f=  2.90440D+00    |proj g|=  1.72459D-02\n",
      "\n",
      "At iterate   25    f=  2.90263D+00    |proj g|=  5.42255D-04\n",
      "\n",
      "At iterate   30    f=  2.90262D+00    |proj g|=  2.36588D-05\n",
      "\n",
      "           * * *\n",
      "\n",
      "Tit   = total number of iterations\n",
      "Tnf   = total number of function evaluations\n",
      "Tnint = total number of segments explored during Cauchy searches\n",
      "Skip  = number of BFGS updates skipped\n",
      "Nact  = number of active bounds at final generalized Cauchy point\n",
      "Projg = norm of the final projected gradient\n",
      "F     = final function value\n",
      "\n",
      "           * * *\n",
      "\n",
      "   N    Tit     Tnf  Tnint  Skip  Nact     Projg        F\n",
      "    4     31     44      1     0     0   2.438D-05   2.903D+00\n",
      "  F =   2.9026176673676525     \n",
      "\n",
      "CONVERGENCE: REL_REDUCTION_OF_F_<=_FACTR*EPSMCH             \n",
      "sigma2.irregular     0.104168\n",
      "sigma2.level        23.397227\n",
      "sigma2.trend         0.175135\n",
      "sigma2.seasonal      0.092465\n",
      "dtype: float64\n"
     ]
    },
    {
     "name": "stderr",
     "output_type": "stream",
     "text": [
      " This problem is unconstrained.\n"
     ]
    }
   ],
   "source": [
    "# ==============================================================\n",
    "# 季節変動ありのローカル線形トレンドモデル（Local Linear Trend Model with Seasonality）\n",
    "# ==============================================================\n",
    "\n",
    "# UnobservedComponents（観測されない成分モデル）は、\n",
    "# 状態空間モデル（State Space Model）をベースに、\n",
    "# トレンド成分・季節成分・外生変数・誤差構造などを統合的に扱うクラスである。\n",
    "#\n",
    "# ここでは「ローカル線形トレンド」＋「季節変動（周期7）」をモデル化している。\n",
    "# --------------------------------------------------------------\n",
    "\n",
    "mod_sample = tsa.UnobservedComponents(\n",
    "    endog=train_sample[\"y\"],  # 対象の時系列データ\n",
    "    level=\"local linear trend\",  # 時間とともに変化する水準＋トレンド\n",
    "    seasonal=7,  # 季節周期（7日周期の週次変動）\n",
    ").fit()  # パラメータを最尤法（MLE）で推定\n",
    "\n",
    "# ==============================================================\n",
    "# 推定されたパラメータの確認\n",
    "# ==============================================================\n",
    "\n",
    "# .params で推定された分散パラメータなどを確認できる。\n",
    "# 一般に、ローカル線形トレンドモデルでは以下が推定される：\n",
    "#   - σ²_ε : 観測誤差（Irregular component）の分散\n",
    "#   - σ²_η : 水準（Level component）の変動分散\n",
    "#   - σ²_ζ : トレンド（Slope component）の変動分散\n",
    "#   - （必要に応じて）季節成分の分散\n",
    "#\n",
    "# モデル構造の背後にある数式は次のように表される：\n",
    "#\n",
    "# 【状態空間表現】\n",
    "# 観測方程式（Observation equation）:\n",
    "#     y_t = μ_t + γ_t + ε_t,     ε_t ~ N(0, σ²_ε)\n",
    "#\n",
    "# 状態方程式（State equations）:\n",
    "#     μ_t = μ_{t-1} + β_{t-1} + η_t,   η_t ~ N(0, σ²_η)\n",
    "#     β_t = β_{t-1} + ζ_t,            ζ_t ~ N(0, σ²_ζ)\n",
    "#     γ_t = -Σ_{i=1}^{s-1} γ_{t-i} + ω_t, ω_t ~ N(0, σ²_γ)   （季節性成分）\n",
    "#\n",
    "# ここで：\n",
    "#   μ_t : 水準（Level）\n",
    "#   β_t : トレンド（Slope）\n",
    "#   γ_t : 季節性（Seasonal）\n",
    "#   ε_t : 観測誤差\n",
    "# --------------------------------------------------------------\n",
    "\n",
    "print(mod_sample.params)"
   ]
  },
  {
   "cell_type": "code",
   "execution_count": 5,
   "id": "0a2b0848",
   "metadata": {},
   "outputs": [
    {
     "data": {
      "text/plain": [
       "2000-08-09    246.808962\n",
       "2000-08-10    277.554573\n",
       "2000-08-11    296.189758\n",
       "2000-08-12    325.585518\n",
       "2000-08-13    317.301612\n",
       "2000-08-14    269.799431\n",
       "2000-08-15    221.201080\n",
       "Freq: D, Name: predicted_mean, dtype: float64"
      ]
     },
     "execution_count": 5,
     "metadata": {},
     "output_type": "execute_result"
    }
   ],
   "source": [
    "# 予測\n",
    "forecast_sample = mod_sample.forecast(7)\n",
    "\n",
    "# 予測結果の確認\n",
    "forecast_sample"
   ]
  },
  {
   "cell_type": "code",
   "execution_count": 6,
   "id": "4c673bfa",
   "metadata": {},
   "outputs": [],
   "source": [
    "# モデルの保存\n",
    "# 事前にmodフォルダを作っておくこと\n",
    "mod_sample.save(\"./mod/bsts_sample.pickle\")"
   ]
  },
  {
   "cell_type": "code",
   "execution_count": 7,
   "id": "cf5d614a",
   "metadata": {},
   "outputs": [
    {
     "data": {
      "text/plain": [
       "sigma2.irregular    True\n",
       "sigma2.level        True\n",
       "sigma2.trend        True\n",
       "sigma2.seasonal     True\n",
       "dtype: bool"
      ]
     },
     "execution_count": 7,
     "metadata": {},
     "output_type": "execute_result"
    }
   ],
   "source": [
    "# モデルの読み込み\n",
    "mod_loaded = tsa.statespace.MLEResults.load(\"./mod/bsts_sample.pickle\")\n",
    "\n",
    "# パラメータが一致していることの確認\n",
    "mod_loaded.params == mod_sample.params"
   ]
  },
  {
   "cell_type": "code",
   "execution_count": 8,
   "id": "350c5639",
   "metadata": {},
   "outputs": [],
   "source": [
    "# パラメータの出力\n",
    "mod_sample.params.to_csv(\"./mod/params_sample.csv\", header=False)"
   ]
  },
  {
   "cell_type": "code",
   "execution_count": 9,
   "id": "ea087220",
   "metadata": {},
   "outputs": [
    {
     "data": {
      "text/plain": [
       "0\n",
       "sigma2.irregular    True\n",
       "sigma2.level        True\n",
       "sigma2.trend        True\n",
       "sigma2.seasonal     True\n",
       "dtype: bool"
      ]
     },
     "execution_count": 9,
     "metadata": {},
     "output_type": "execute_result"
    }
   ],
   "source": [
    "# パラメータの読み込み\n",
    "imported_params = (\n",
    "    pd.read_csv(\"./mod/params_sample.csv\", header=None, index_col=0, dtype=object)\n",
    "    .squeeze(1)\n",
    "    .astype(\"float64\")\n",
    ")\n",
    "\n",
    "# パラメータが一致していることの確認\n",
    "imported_params == mod_sample.params"
   ]
  },
  {
   "cell_type": "code",
   "execution_count": 10,
   "id": "711cdf5a",
   "metadata": {},
   "outputs": [
    {
     "data": {
      "text/plain": [
       "True"
      ]
     },
     "execution_count": 10,
     "metadata": {},
     "output_type": "execute_result"
    }
   ],
   "source": [
    "# ==============================================================\n",
    "# 既存パラメータを使ったローカル線形トレンドモデルの再フィルタリング\n",
    "# ==============================================================\n",
    "\n",
    "# UnobservedComponents は、状態空間モデル（State Space Model）を構築し、\n",
    "# トレンド・季節・ノイズ構造を同時に扱うことができるクラスである。\n",
    "# 今回は、既に推定済みのパラメータ（imported_params）を用いて、\n",
    "# 別インスタンスのモデルに「再利用」する処理を行う。\n",
    "# --------------------------------------------------------------\n",
    "\n",
    "# 1. モデル構造の定義\n",
    "mod_sample_useparams = tsa.UnobservedComponents(\n",
    "    endog=train_sample[\"y\"],  # 対象の時系列データ\n",
    "    level=\"local linear trend\",  # 時間的に滑らかに変化する水準＋トレンド\n",
    "    seasonal=7,  # 7時点周期（週次の季節成分）\n",
    ")\n",
    "\n",
    "# 2. 既に別モデルで推定したパラメータを用いてフィルタリングを実施\n",
    "# --------------------------------------------------------------\n",
    "# .filter(params=...) により、最尤推定を再度行わずに、\n",
    "# 指定したパラメータ値でカルマンフィルタを適用する。\n",
    "#\n",
    "# imported_params は、以前に fit() により推定された分散パラメータ群であり、\n",
    "# 以下のような要素を含むことが多い：\n",
    "#   - σ²_ε : 観測誤差（Irregular component）の分散\n",
    "#   - σ²_η : 水準成分（Level component）の分散\n",
    "#   - σ²_ζ : トレンド成分（Slope component）の分散\n",
    "#   - σ²_γ : 季節成分（Seasonal component）の分散\n",
    "# --------------------------------------------------------------\n",
    "\n",
    "mod_sample_useparams = mod_sample_useparams.filter(\n",
    "    params=imported_params  # 他モデルから引き継いだパラメータ\n",
    ")\n",
    "\n",
    "# 3. 理論的背景（カルマンフィルタ再適用）\n",
    "# --------------------------------------------------------------\n",
    "# UnobservedComponents.filter() は以下の処理を行う：\n",
    "#\n",
    "# (1) 予測ステップ（Prediction Step）\n",
    "#     状態方程式：\n",
    "#         α_{t|t-1} = T * α_{t-1|t-1}\n",
    "#         P_{t|t-1} = T * P_{t-1|t-1} * T' + Q\n",
    "#\n",
    "# (2) 更新ステップ（Update Step）\n",
    "#     観測方程式：\n",
    "#         v_t = y_t - Z * α_{t|t-1}\n",
    "#         F_t = Z * P_{t|t-1} * Z' + H\n",
    "#         K_t = P_{t|t-1} * Z' * F_t^{-1}\n",
    "#         α_{t|t} = α_{t|t-1} + K_t * v_t\n",
    "#         P_{t|t} = P_{t|t-1} - K_t * F_t * K_t'\n",
    "#\n",
    "# この計算により、各時点でのフィルタ化推定量（a_t, P_t）が再帰的に得られる。\n",
    "# --------------------------------------------------------------\n",
    "\n",
    "# 4. 予測の一致確認\n",
    "# --------------------------------------------------------------\n",
    "# imported_params に基づく再フィルタリング後のモデルで、\n",
    "# forecast(7)（7時点先予測）を実行し、\n",
    "# 以前の結果 forecast_sample と完全一致することを確認する。\n",
    "#\n",
    "# これは、同一のモデル構造と同一パラメータを用いた場合、\n",
    "# フィルタリングと予測の結果が理論的に再現可能であることを示す。\n",
    "\n",
    "all(mod_sample_useparams.forecast(7) == forecast_sample)"
   ]
  },
  {
   "cell_type": "code",
   "execution_count": 11,
   "id": "4cbd4761",
   "metadata": {},
   "outputs": [
    {
     "name": "stdout",
     "output_type": "stream",
     "text": [
      "                     y\n",
      "date                  \n",
      "2000-05-01  182.079325\n",
      "2000-05-02  141.334794\n",
      "                     y\n",
      "date                  \n",
      "2000-08-14  294.948285\n",
      "2000-08-15  243.335236\n"
     ]
    }
   ],
   "source": [
    "# データの読み込み\n",
    "train_sample_2 = pd.read_csv(\n",
    "    \"7-1-2-train-sample-2.csv\", index_col=\"date\", parse_dates=True, dtype=\"float\"\n",
    ")\n",
    "\n",
    "# 日データであることの指定\n",
    "train_sample_2.index.freq = \"D\"\n",
    "\n",
    "# 結果の確認\n",
    "print(train_sample_2.head(2))\n",
    "print(train_sample_2.tail(2))"
   ]
  },
  {
   "cell_type": "code",
   "execution_count": 12,
   "id": "99292eb5",
   "metadata": {},
   "outputs": [
    {
     "data": {
      "text/plain": [
       "sigma2.irregular    True\n",
       "sigma2.level        True\n",
       "sigma2.trend        True\n",
       "sigma2.seasonal     True\n",
       "dtype: bool"
      ]
     },
     "execution_count": 12,
     "metadata": {},
     "output_type": "execute_result"
    }
   ],
   "source": [
    "# パラメータを設定\n",
    "mod_newdata = tsa.UnobservedComponents(\n",
    "    train_sample_2[\"y\"],  # 対象データ(新しいデータに変更)\n",
    "    level=\"local linear trend\",  # ローカル線形トレンド\n",
    "    seasonal=7,  # 周期\n",
    ")\n",
    "\n",
    "# パラメータを指定してフィルタリング\n",
    "mod_newdata = mod_newdata.filter(params=imported_params)\n",
    "\n",
    "# パラメータが一致していることの確認\n",
    "mod_newdata.params == mod_sample.params"
   ]
  },
  {
   "cell_type": "code",
   "execution_count": 13,
   "id": "ed720b31",
   "metadata": {},
   "outputs": [
    {
     "data": {
      "text/plain": [
       "True"
      ]
     },
     "execution_count": 13,
     "metadata": {},
     "output_type": "execute_result"
    }
   ],
   "source": [
    "# フィルター化推定量の比較\n",
    "all(mod_newdata.level[\"filtered\"][0:100] == mod_sample.level[\"filtered\"])"
   ]
  },
  {
   "cell_type": "code",
   "execution_count": 14,
   "id": "43fb54aa",
   "metadata": {},
   "outputs": [
    {
     "data": {
      "image/png": "[encoded data removed]",
      "text/plain": [
       "<Figure size 800x400 with 1 Axes>"
      ]
     },
     "metadata": {},
     "output_type": "display_data"
    }
   ],
   "source": [
    "# 古いデータを使ったモデルで2週間先まで予測\n",
    "old_forecast = mod_sample.forecast(14)\n",
    "\n",
    "# 新しいデータを使ったモデルで1週間先まで予測\n",
    "new_forecast = mod_newdata.forecast(7)\n",
    "\n",
    "# グラフサイズの指定\n",
    "fig, ax = plt.subplots(figsize=(8, 4))\n",
    "\n",
    "# 折れ線グラフを描く\n",
    "ax.plot(train_sample_2, label=\"実際の売り上げ\")\n",
    "ax.plot(old_forecast, label=\"古いデータを用いた予測値\")\n",
    "ax.plot(new_forecast, label=\"新しいデータを用いた予測値\")\n",
    "\n",
    "# 凡例\n",
    "ax.legend()\n",
    "\n",
    "# 軸の指定\n",
    "ax.xaxis.set_major_locator(mdates.MonthLocator(interval=1))\n",
    "\n",
    "# 軸ラベルのフォーマット\n",
    "ax.xaxis.set_major_formatter(mdates.DateFormatter(\"%m月%d日\"))\n",
    "\n",
    "# plt.savefig('../図/図/7-1-1-データを追加することで変化する予測結果.svg')"
   ]
  },
  {
   "cell_type": "code",
   "execution_count": null,
   "id": "3c3f4549",
   "metadata": {},
   "outputs": [],
   "source": []
  }
 ],
 "metadata": {
  "kernelspec": {
   "display_name": "py_tsa_venv",
   "language": "python",
   "name": "python3"
  },
  "language_info": {
   "codemirror_mode": {
    "name": "ipython",
    "version": 3
   },
   "file_extension": ".py",
   "mimetype": "text/x-python",
   "name": "python",
   "nbconvert_exporter": "python",
   "pygments_lexer": "ipython3",
   "version": "3.10.13"
  }
 },
 "nbformat": 4,
 "nbformat_minor": 5
}
