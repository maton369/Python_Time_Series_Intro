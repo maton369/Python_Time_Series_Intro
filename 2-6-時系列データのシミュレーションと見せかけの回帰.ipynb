{
 "cells": [
  {
   "cell_type": "code",
   "execution_count": 1,
   "id": "1f18f77e",
   "metadata": {},
   "outputs": [],
   "source": [
    "# ================================================\n",
    "# 必要なライブラリのインポートと表示設定\n",
    "# ================================================\n",
    "\n",
    "# 数値計算に使うライブラリ\n",
    "import numpy as np\n",
    "import pandas as pd\n",
    "\n",
    "# グラフ描画用ライブラリ\n",
    "from matplotlib import pyplot as plt\n",
    "import matplotlib.dates as mdates  # 日付データを扱うための補助ツール\n",
    "import seaborn as sns\n",
    "\n",
    "sns.set()  # Seabornのデフォルトスタイルを有効化（見やすいグラフにする）\n",
    "\n",
    "# 統計モデルを推定するライブラリ\n",
    "import statsmodels.api as sm\n",
    "import statsmodels.formula.api as smf\n",
    "import statsmodels.tsa.api as tsa  # 時系列解析用のモジュール\n",
    "\n",
    "# --------------------------------\n",
    "# グラフの日本語表記設定\n",
    "# --------------------------------\n",
    "from matplotlib import rcParams\n",
    "\n",
    "rcParams[\"font.family\"] = \"IPAexGothic\"\n",
    "rcParams[\"font.sans-serif\"] = \"Meiryo\"  # 日本語を「メイリオ」で表示\n",
    "\n",
    "# --------------------------------\n",
    "# DataFrame の全角文字（日本語など）の出力を整形\n",
    "# --------------------------------\n",
    "pd.set_option(\"display.unicode.east_asian_width\", True)\n",
    "# これにより、DataFrameを print したときに\n",
    "# 全角文字がきれいに整列して表示される"
   ]
  },
  {
   "cell_type": "code",
   "execution_count": null,
   "id": "83e0ae35",
   "metadata": {},
   "outputs": [],
   "source": [
    "# -------------------------------------------------------\n",
    "# 📊 表示設定（出力結果やグラフの見やすさを調整）\n",
    "# -------------------------------------------------------\n",
    "\n",
    "# numpy の配列出力設定：\n",
    "#   - linewidth：配列を1行に収める最大文字数を設定。\n",
    "#   - 長い配列でも折り返されずに横方向に出力されるようにする。\n",
    "np.set_printoptions(linewidth=60)\n",
    "\n",
    "# pandas の表示設定：\n",
    "#   - display.width：DataFrame の横幅を文字数で指定。\n",
    "#   - 長いカラム名や複数列を表示する際に、横方向で折り返しが発生しにくくなる。\n",
    "pd.set_option(\"display.width\", 60)\n",
    "\n",
    "# matplotlib のデフォルト描画サイズ設定：\n",
    "#   - rcParams は matplotlib の全体設定（runtime configuration）を管理する辞書。\n",
    "#   - figure.figsize でグラフの初期サイズを指定（幅=8インチ, 高さ=4インチ）。\n",
    "from matplotlib.pylab import rcParams\n",
    "\n",
    "rcParams[\"figure.figsize\"] = 8, 4\n",
    "\n",
    "# 📝 この設定により、ノートブックやターミナル上での出力が\n",
    "#     ・横幅に収まりやすくなる\n",
    "#     ・可視化が統一される\n",
    "#   といった利点がある。"
   ]
  },
  {
   "cell_type": "code",
   "execution_count": null,
   "id": "33bb2f80",
   "metadata": {},
   "outputs": [],
   "source": []
  }
 ],
 "metadata": {
  "kernelspec": {
   "display_name": "py_tsa_venv",
   "language": "python",
   "name": "python3"
  },
  "language_info": {
   "codemirror_mode": {
    "name": "ipython",
    "version": 3
   },
   "file_extension": ".py",
   "mimetype": "text/x-python",
   "name": "python",
   "nbconvert_exporter": "python",
   "pygments_lexer": "ipython3",
   "version": "3.10.13"
  }
 },
 "nbformat": 4,
 "nbformat_minor": 5
}
