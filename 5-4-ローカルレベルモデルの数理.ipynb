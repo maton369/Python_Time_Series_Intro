{
 "cells": [
  {
   "cell_type": "code",
   "execution_count": 1,
   "id": "cf70d361",
   "metadata": {},
   "outputs": [],
   "source": [
    "# 数値計算に使うライブラリ\n",
    "import numpy as np\n",
    "import pandas as pd\n",
    "from scipy import stats\n",
    "\n",
    "# 統計モデルを推定するライブラリ\n",
    "import statsmodels.api as sm\n",
    "import statsmodels.tsa.api as tsa\n",
    "\n",
    "# グラフを描画するライブラリ\n",
    "from matplotlib import pylab as plt\n",
    "import seaborn as sns\n",
    "\n",
    "sns.set()"
   ]
  },
  {
   "cell_type": "code",
   "execution_count": 2,
   "id": "f1113471",
   "metadata": {},
   "outputs": [],
   "source": [
    "# 表示設定\n",
    "np.set_printoptions(linewidth=60)\n",
    "pd.set_option(\"display.width\", 80)\n",
    "\n",
    "from matplotlib.pylab import rcParams\n",
    "\n",
    "rcParams[\"font.family\"] = \"IPAexGothic\"\n",
    "rcParams[\"figure.figsize\"] = 8, 4"
   ]
  },
  {
   "cell_type": "code",
   "execution_count": 3,
   "id": "1c7d5389",
   "metadata": {},
   "outputs": [
    {
     "name": "stdout",
     "output_type": "stream",
     "text": [
      "2020-01-01    29.4\n",
      "2020-01-02    37.1\n",
      "2020-01-03    32.5\n",
      "Freq: D, dtype: float64\n"
     ]
    }
   ],
   "source": [
    "# 乱数の種\n",
    "np.random.seed(1)\n",
    "\n",
    "# 正規分布に従う乱数の累積和を作成し、ランダムウォーク系列を作る\n",
    "sim_size = 100\n",
    "mu = np.cumsum(stats.norm.rvs(loc=0, scale=1, size=sim_size).round(1)) + 30\n",
    "\n",
    "# 観測値の作成\n",
    "y = mu + stats.norm.rvs(loc=0, scale=5, size=sim_size).round(1)\n",
    "\n",
    "# 時系列インデックスの付与\n",
    "y_ts = pd.Series(y, index=pd.date_range(start=\"2020-01-01\", periods=sim_size, freq=\"D\"))\n",
    "\n",
    "# 結果の確認\n",
    "print(y_ts.head(3))"
   ]
  },
  {
   "cell_type": "code",
   "execution_count": 4,
   "id": "788697ce",
   "metadata": {},
   "outputs": [],
   "source": [
    "# 📘 GitHubレビューコメント\n",
    "\n",
    "# ✅ 概要\n",
    "# `UnobservedComponents` モデルでローカルレベルモデルを定義する。\n",
    "# `use_exact_diffuse=True` によって、初期状態が未知の場合でも\n",
    "# 「拡散的初期化（exact diffuse initialization）」を利用し、\n",
    "# 厳密な尤度計算が行えるようにする。\n",
    "\n",
    "# ✅ コード\n",
    "mod_local_level_fix = tsa.UnobservedComponents(\n",
    "    y_ts, level=\"local level\", use_exact_diffuse=True\n",
    ")\n",
    "\n",
    "# ✅ 数式\n",
    "# ローカルレベルモデル（状態空間表現）は以下のように表される：\n",
    "# $$\n",
    "# \\begin{aligned}\n",
    "# \\text{観測方程式: } & y_t = \\alpha_t + \\varepsilon_t, \\quad \\varepsilon_t \\sim N(0, \\sigma_\\varepsilon^2) \\\\\n",
    "# \\text{状態方程式: } & \\alpha_t = \\alpha_{t-1} + \\eta_t, \\quad \\eta_t \\sim N(0, \\sigma_\\eta^2)\n",
    "# \\end{aligned}\n",
    "# $$\n",
    "\n",
    "# ✅ パラメータ設定\n",
    "# - `level='local level'`：単純なローカルレベルモデル（ランダムウォーク＋観測ノイズ）\n",
    "# - `use_exact_diffuse=True`：\n",
    "#   拡散的初期化を有効化し、初期状態の分散が非常に大きい場合でも安定に尤度を計算できる。\n",
    "#   これは状態空間モデルにおける「非情報的事前分布（uninformative prior）」に相当。\n",
    "\n",
    "# ✅ コメント\n",
    "# この設定により、カルマンフィルタが「初期値に依存しない形」で始まり、\n",
    "# 非定常系列でも適切に尤度推定が可能となる。\n",
    "# Box-Jenkins型ARIMAとの対応関係では、ARIMA(0,1,1) に相当するモデル構造となる。"
   ]
  },
  {
   "cell_type": "code",
   "execution_count": 5,
   "id": "a905e0d6",
   "metadata": {},
   "outputs": [
    {
     "data": {
      "text/plain": [
       "array([29.4    , 33.43333, 33.07478])"
      ]
     },
     "execution_count": 5,
     "metadata": {},
     "output_type": "execute_result"
    }
   ],
   "source": [
    "# 📘 GitHubレビューコメント\n",
    "\n",
    "# ✅ 概要\n",
    "# ローカルレベルモデルにおいて、固定パラメータを指定してカルマンフィルタを実行している。\n",
    "# ここでは「観測誤差分散 = 10」「過程誤差分散 = 1」として指定。\n",
    "\n",
    "# ✅ コード\n",
    "# フィルタリングの実行\n",
    "res_local_level_fix = mod_local_level_fix.filter(pd.Series(np.array([10, 1])))\n",
    "\n",
    "# フィルタ化推定量（Filtered State Estimates）の取得\n",
    "np.round(res_local_level_fix.level[\"filtered\"][0:3], 5)\n",
    "\n",
    "# ✅ 数式\n",
    "# カルマンフィルタの更新式は以下の通り：\n",
    "# $$\n",
    "# \\begin{aligned}\n",
    "# \\text{予測ステップ:} \\quad\n",
    "# a_{t|t-1} &= a_{t-1|t-1} \\\\\n",
    "# P_{t|t-1} &= P_{t-1|t-1} + \\sigma_\\eta^2 \\\\\n",
    "# \\text{更新ステップ:} \\quad\n",
    "# v_t &= y_t - a_{t|t-1} \\\\\n",
    "# K_t &= \\frac{P_{t|t-1}}{P_{t|t-1} + \\sigma_\\varepsilon^2} \\\\\n",
    "# a_{t|t} &= a_{t|t-1} + K_t v_t \\\\\n",
    "# P_{t|t} &= (1 - K_t) P_{t|t-1}\n",
    "# \\end{aligned}\n",
    "# $$\n",
    "\n",
    "# ✅ パラメータ設定\n",
    "# - $\\sigma_\\varepsilon^2 = 10$（観測ノイズの分散）\n",
    "# - $\\sigma_\\eta^2 = 1$（状態ノイズの分散）\n",
    "#\n",
    "# 状態の変化（トレンド成分）が小さく、観測ノイズが比較的大きいため、\n",
    "# フィルタは観測値よりもスムーズな系列を生成する。\n",
    "\n",
    "# ✅ コメント\n",
    "# `res_local_level_fix.level[\"filtered\"]` は、\n",
    "# 各時点での状態変数（トレンド成分）の推定値（フィルタ化推定量）を表す。\n",
    "# この出力によって、時系列データの「潜在的な水準変化」が平滑化された形で得られる。"
   ]
  },
  {
   "cell_type": "code",
   "execution_count": 6,
   "id": "bd4e70c6",
   "metadata": {},
   "outputs": [
    {
     "data": {
      "text/plain": [
       "-321.88824"
      ]
     },
     "execution_count": 6,
     "metadata": {},
     "output_type": "execute_result"
    }
   ],
   "source": [
    "# 📘 GitHubレビューコメント\n",
    "\n",
    "# ✅ 概要\n",
    "# 固定パラメータ（観測誤差分散=10, 過程誤差分散=1）を用いて\n",
    "# ローカルレベルモデル（Local Level Model）をフィルタリングした後、\n",
    "# 散漫初期化（Diffuse Initialization）に基づく対数尤度を取得している。\n",
    "\n",
    "# ✅ コード\n",
    "# 散漫対数尤度（Diffuse Log-Likelihood）の取得\n",
    "np.round(res_local_level_fix.llf, 5)\n",
    "\n",
    "# ✅ 数式\n",
    "# 対数尤度は、カルマンフィルタで得られた1時点先予測誤差に基づき計算される：\n",
    "# $$\n",
    "# \\log L = -\\frac{1}{2} \\sum_{t=1}^{T}\n",
    "# \\left[\n",
    "# \\log(2\\pi) + \\log(F_t) + \\frac{v_t^2}{F_t}\n",
    "# \\right]\n",
    "# $$\n",
    "# ただし、\n",
    "# - $v_t = y_t - a_{t|t-1}$：1時点先予測誤差（innovation）\n",
    "# - $F_t = P_{t|t-1} + \\sigma_\\varepsilon^2$：その分散（innovation variance）\n",
    "\n",
    "# ✅ 散漫初期化 (Diffuse Initialization)\n",
    "# 初期時点で状態分散が非常に大きい ($P_0 \\to \\infty$) 場合、\n",
    "# 観測値から情報を得て初期状態を漸近的に推定する手法。\n",
    "# これにより、未知の初期水準でも安定した尤度計算が可能となる。\n",
    "\n",
    "# ✅ コメント\n",
    "# `res_local_level_fix.llf` は「散漫尤度（Diffuse Likelihood）」に基づく\n",
    "# モデル適合度を表すスカラー値であり、パラメータ推定やモデル比較（AIC計算など）に利用できる。"
   ]
  },
  {
   "cell_type": "code",
   "execution_count": 7,
   "id": "569d655b",
   "metadata": {},
   "outputs": [
    {
     "name": "stdout",
     "output_type": "stream",
     "text": [
      "RUNNING THE L-BFGS-B CODE\n",
      "\n",
      "           * * *\n",
      "\n",
      "Machine precision = 2.220D-16\n",
      " N =            1     M =           10\n",
      "\n",
      "At X0         0 variables are exactly at the bounds\n",
      "\n",
      "At iterate    0    f=  3.35155D+00    |proj g|=  1.66401D-01\n",
      "\n",
      "At iterate    5    f=  3.24976D+00    |proj g|=  7.84257D-06\n",
      "\n",
      "           * * *\n",
      "\n",
      "Tit   = total number of iterations\n",
      "Tnf   = total number of function evaluations\n",
      "Tnint = total number of segments explored during Cauchy searches\n",
      "Skip  = number of BFGS updates skipped\n",
      "Nact  = number of active bounds at final generalized Cauchy point\n",
      "Projg = norm of the final projected gradient\n",
      "F     = final function value\n",
      "\n",
      "           * * *\n",
      "\n",
      "   N    Tit     Tnf  Tnint  Skip  Nact     Projg        F\n",
      "    1      5      6      1     0     0   7.843D-06   3.250D+00\n",
      "  F =   3.2497595005029982     \n",
      "\n",
      "CONVERGENCE: NORM_OF_PROJECTED_GRADIENT_<=_PGTOL            \n"
     ]
    },
    {
     "name": "stderr",
     "output_type": "stream",
     "text": [
      " This problem is unconstrained.\n"
     ]
    },
    {
     "data": {
      "text/plain": [
       "array([29.4 , 33.25, 33.  ])"
      ]
     },
     "execution_count": 7,
     "metadata": {},
     "output_type": "execute_result"
    }
   ],
   "source": [
    "# 📘 GitHubレビューコメント\n",
    "\n",
    "# ✅ 概要\n",
    "# 定常過程（Deterministic Constant Model）を仮定した状態空間モデルを構築し、\n",
    "# 平滑化を伴わない単純な定数モデルとしてフィルタリングを実施している。\n",
    "# このモデルは、観測系列が平均値まわりで変動する定常系列である場合に対応。\n",
    "\n",
    "# ✅ コード\n",
    "# データの格納とモデル特定\n",
    "mod_const = tsa.UnobservedComponents(\n",
    "    y_ts, level=\"deterministic constant\", use_exact_diffuse=True\n",
    ")\n",
    "\n",
    "# フィルタリング\n",
    "res_const = mod_const.fit()\n",
    "\n",
    "# フィルタ化推定量（状態推定値）を取得\n",
    "np.round(res_const.level[\"filtered\"][0:3], 5)\n",
    "\n",
    "# ✅ 数式表現\n",
    "# 観測方程式（Observation Equation）：\n",
    "# $$\n",
    "# y_t = \\mu + \\varepsilon_t, \\quad \\varepsilon_t \\sim N(0, \\sigma_\\varepsilon^2)\n",
    "# $$\n",
    "\n",
    "# 状態方程式（State Equation）：\n",
    "# $$\n",
    "# \\mu_t = \\mu\n",
    "# $$\n",
    "\n",
    "# すなわち、$\\mu$ は時間によって変化せず、一定（定常）である。\n",
    "\n",
    "# ✅ 対数尤度（Log-Likelihood）\n",
    "# $$\n",
    "# \\log L = -\\frac{1}{2} \\sum_{t=1}^{T}\n",
    "# \\left[\n",
    "# \\log(2\\pi) + \\log(\\sigma_\\varepsilon^2) +\n",
    "# \\frac{(y_t - \\mu)^2}{\\sigma_\\varepsilon^2}\n",
    "# \\right]\n",
    "# $$\n",
    "\n",
    "# ✅ コメント\n",
    "# - 本モデルは最も単純な「状態空間モデル」であり、\n",
    "#   観測系列の平均値を1つのパラメータとして推定するのみ。\n",
    "# - ローカルレベルモデルに比べ、トレンドや変化を許容しない。\n",
    "# - よって、系列が時間的にほぼ一定または定常的な場合にのみ適している。"
   ]
  },
  {
   "cell_type": "code",
   "execution_count": 8,
   "id": "bb95f916",
   "metadata": {},
   "outputs": [
    {
     "data": {
      "text/plain": [
       "33.25"
      ]
     },
     "execution_count": 8,
     "metadata": {},
     "output_type": "execute_result"
    }
   ],
   "source": [
    "# 2時点目までの平均\n",
    "np.mean(y_ts[0:2])"
   ]
  },
  {
   "cell_type": "code",
   "execution_count": 9,
   "id": "1fa50b6e",
   "metadata": {},
   "outputs": [
    {
     "data": {
      "text/plain": [
       "33.0"
      ]
     },
     "execution_count": 9,
     "metadata": {},
     "output_type": "execute_result"
    }
   ],
   "source": [
    "# 3時点目までの平均\n",
    "np.mean(y_ts[0:3])"
   ]
  },
  {
   "cell_type": "code",
   "execution_count": 10,
   "id": "460cf89e",
   "metadata": {},
   "outputs": [
    {
     "name": "stdout",
     "output_type": "stream",
     "text": [
      "最新時点の状態 30.931\n",
      "観測値の平均値 30.931\n"
     ]
    }
   ],
   "source": [
    "print(\"最新時点の状態\", np.round(res_const.level[\"filtered\"][-1], 5))\n",
    "print(\"観測値の平均値\", np.round(np.mean(y_ts), 5))"
   ]
  }
 ],
 "metadata": {
  "kernelspec": {
   "display_name": "py_tsa_venv",
   "language": "python",
   "name": "python3"
  },
  "language_info": {
   "codemirror_mode": {
    "name": "ipython",
    "version": 3
   },
   "file_extension": ".py",
   "mimetype": "text/x-python",
   "name": "python",
   "nbconvert_exporter": "python",
   "pygments_lexer": "ipython3",
   "version": "3.10.13"
  }
 },
 "nbformat": 4,
 "nbformat_minor": 5
}
