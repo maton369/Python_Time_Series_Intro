{
 "cells": [
  {
   "cell_type": "code",
   "execution_count": 3,
   "id": "6188d30e",
   "metadata": {},
   "outputs": [],
   "source": [
    "# ================================================\n",
    "# 必要なライブラリのインポートと表示設定\n",
    "# ================================================\n",
    "\n",
    "# 数値計算に使うライブラリ\n",
    "import numpy as np\n",
    "import pandas as pd\n",
    "\n",
    "# グラフ描画用ライブラリ\n",
    "from matplotlib import pyplot as plt\n",
    "import matplotlib.dates as mdates  # 日付データを扱うための補助ツール\n",
    "import seaborn as sns\n",
    "\n",
    "sns.set()  # Seabornのデフォルトスタイルを有効化（見やすいグラフにする）\n",
    "\n",
    "# 統計モデルを推定するライブラリ\n",
    "import statsmodels.api as sm\n",
    "import statsmodels.formula.api as smf\n",
    "import statsmodels.tsa.api as tsa  # 時系列解析用のモジュール\n",
    "\n",
    "# 予測の評価指標\n",
    "from sktime.performance_metrics.forecasting import (\n",
    "    mean_absolute_scaled_error,\n",
    "    mean_squared_error,\n",
    "    mean_absolute_percentage_error,\n",
    "    mean_absolute_error,\n",
    ")\n",
    "\n",
    "# --------------------------------\n",
    "# グラフの日本語表記設定\n",
    "# --------------------------------\n",
    "from matplotlib import rcParams\n",
    "\n",
    "rcParams[\"font.family\"] = \"IPAexGothic\"\n",
    "rcParams[\"font.sans-serif\"] = \"Meiryo\"  # 日本語を「メイリオ」で表示\n",
    "\n",
    "# --------------------------------\n",
    "# DataFrame の全角文字（日本語など）の出力を整形\n",
    "# --------------------------------\n",
    "pd.set_option(\"display.unicode.east_asian_width\", True)\n",
    "# これにより、DataFrameを print したときに\n",
    "# 全角文字がきれいに整列して表示される"
   ]
  },
  {
   "cell_type": "code",
   "execution_count": 2,
   "id": "6a72637c",
   "metadata": {},
   "outputs": [
    {
     "data": {
      "text/plain": [
       "array([ 1.62434536, -0.61175641, -0.52817175, -1.07296862])"
      ]
     },
     "execution_count": 2,
     "metadata": {},
     "output_type": "execute_result"
    }
   ],
   "source": [
    "# -------------------------------------------------------\n",
    "# 🎲 正規分布に従う乱数の生成\n",
    "# -------------------------------------------------------\n",
    "\n",
    "# ① 乱数の種を固定\n",
    "#   - np.random.seed(1) により乱数の再現性を確保する。\n",
    "#   - 同じ seed 値を指定すると、毎回同じ乱数系列が生成される。\n",
    "np.random.seed(1)\n",
    "\n",
    "# ② 正規分布（平均0, 標準偏差1）に従う乱数を生成\n",
    "#   - loc   : 平均値（μ）= 0\n",
    "#   - scale : 標準偏差（σ）= 1\n",
    "#   - size  : 生成するサンプル数 = 4\n",
    "#   - stats.norm.rvs() は SciPy の関数で、「連続確率分布から乱数を生成」するために用いられる。\n",
    "from scipy import stats\n",
    "\n",
    "stats.norm.rvs(loc=0, scale=1, size=4)\n",
    "\n",
    "# ✅ 出力は例として以下のような形になる：\n",
    "# array([ 1.62434536, -0.61175641, -0.52817175, -1.07296862])\n",
    "#\n",
    "# これは平均0・標準偏差1の正規分布（ガウス分布）から得られた4つのサンプルである。"
   ]
  },
  {
   "cell_type": "code",
   "execution_count": 4,
   "id": "782e0239",
   "metadata": {},
   "outputs": [],
   "source": [
    "# 飛行機乗客数データの読み込み\n",
    "air_passengers = sm.datasets.get_rdataset(\"AirPassengers\").data\n",
    "\n",
    "# 日付インデックスの作成\n",
    "air_passengers.index = pd.date_range(\n",
    "    start=\"1949-01-01\", periods=len(air_passengers), freq=\"MS\"\n",
    ")\n",
    "\n",
    "# 不要な時間ラベルの削除\n",
    "air_passengers = air_passengers.drop(air_passengers.columns[0], axis=1)"
   ]
  },
  {
   "cell_type": "code",
   "execution_count": 5,
   "id": "78abb821",
   "metadata": {},
   "outputs": [],
   "source": [
    "# 訓練データとテストデータに分割する\n",
    "train = air_passengers.loc[\"1949-01\":\"1957-12\"]\n",
    "test = air_passengers.loc[\"1958-01\":\"1960-12\"]"
   ]
  },
  {
   "cell_type": "code",
   "execution_count": 6,
   "id": "03a5e6a9",
   "metadata": {},
   "outputs": [
    {
     "name": "stdout",
     "output_type": "stream",
     "text": [
      "            value\n",
      "1958-01-01    336\n",
      "1958-02-01    336\n",
      "1958-03-01    336\n"
     ]
    }
   ],
   "source": [
    "# -------------------------------------------------------\n",
    "# 📈 ナイーブ予測（Naive Forecast）の実装\n",
    "# -------------------------------------------------------\n",
    "\n",
    "# 最後の観測値をテストデータ期間にそのまま繰り返す\n",
    "naive_pred = pd.DataFrame(\n",
    "    {\n",
    "        \"value\": np.tile(\n",
    "            train.loc[\"1957-12-01\"], len(test)\n",
    "        )  # 最後の訓練データを繰り返す\n",
    "    },\n",
    "    index=test.index,\n",
    ")\n",
    "\n",
    "# 結果の確認（最初の3行）\n",
    "print(naive_pred.head(3))\n",
    "\n",
    "# ✅ 解説：\n",
    "# ・ナイーブ予測（Naive Forecast）は、最も単純な時系列予測モデルの一つである。\n",
    "# ・「次の時点の値は、直前の観測値と同じになる」と仮定して予測を行う。\n",
    "# ・この手法はトレンドや季節性を考慮しないため、基準モデル（ベースライン）として利用される。\n",
    "# ・実際のモデル（ARIMA、SARIMAなど）の性能を比較する際に、\n",
    "#   このナイーブ予測を「最低限の基準」として扱うことが多い。"
   ]
  },
  {
   "cell_type": "code",
   "execution_count": 7,
   "id": "d3f36e72",
   "metadata": {},
   "outputs": [
    {
     "name": "stdout",
     "output_type": "stream",
     "text": [
      "            value\n",
      "1958-01-01    315\n",
      "1958-02-01    301\n",
      "1958-03-01    356\n"
     ]
    }
   ],
   "source": [
    "# -------------------------------------------------------\n",
    "# 📆 季節ナイーブ予測（Seasonal Naive Forecast）の実装\n",
    "# -------------------------------------------------------\n",
    "\n",
    "# 1957年の12か月分のデータを3年間分（＝36か月）繰り返す\n",
    "s_naive_pred = pd.concat([train.loc[\"1957\"]] * 3)\n",
    "\n",
    "# テストデータと同じインデックスに置き換える\n",
    "s_naive_pred.index = test.index\n",
    "\n",
    "# 結果の確認（先頭3行）\n",
    "print(s_naive_pred.head(3))\n",
    "\n",
    "# ✅ 解説：\n",
    "# ・このモデルは「季節ナイーブ予測（seasonal naive）」と呼ばれる。\n",
    "# ・前年同月（または同季節）の値が今年も同じであると仮定して予測する。\n",
    "# ・つまり、季節性を持つデータにおいて「1年前と同じ動きをする」とする単純なモデルである。\n",
    "# ・ナイーブ予測よりも季節性を考慮しているため、月次・四半期データなどで基準モデルとして用いられる。"
   ]
  },
  {
   "cell_type": "code",
   "execution_count": 8,
   "id": "66c484c5",
   "metadata": {},
   "outputs": [
    {
     "name": "stdout",
     "output_type": "stream",
     "text": [
      "                 value\n",
      "1958-01-01  230.898148\n",
      "1958-02-01  230.898148\n",
      "1958-03-01  230.898148\n"
     ]
    }
   ],
   "source": [
    "# -------------------------------------------------------\n",
    "# 📊 平均値予測（Mean Forecast）の実装\n",
    "# -------------------------------------------------------\n",
    "\n",
    "# 訓練データの平均値を、テストデータ期間全体に繰り返し適用\n",
    "mean_pred = pd.DataFrame(\n",
    "    {\n",
    "        \"value\": np.tile(\n",
    "            train.mean(), len(test)\n",
    "        )  # 平均値をテストデータと同じ件数だけ繰り返す\n",
    "    },\n",
    "    index=test.index,\n",
    ")\n",
    "\n",
    "# 結果の確認（先頭3行）\n",
    "print(mean_pred.head(3))\n",
    "\n",
    "# ✅ 解説：\n",
    "# ・平均値予測（Mean Forecast）は、過去の観測データの平均値を将来の全ての時点にそのまま使う手法である。\n",
    "# ・トレンド（増減）や季節性（周期的変動）を無視し、過去の全体的な水準を一定とみなす。\n",
    "# ・「データに明確な傾向がない」場合の基準モデル（ベースライン）として使用される。\n",
    "# ・他のモデル（例：ARIMA, SARIMA, Holt-Wintersなど）の性能比較時に\n",
    "#   「単純な平均予測より改善しているか」を確認するための基準にもなる。"
   ]
  },
  {
   "cell_type": "code",
   "execution_count": 9,
   "id": "ef5806f0",
   "metadata": {},
   "outputs": [
    {
     "name": "stdout",
     "output_type": "stream",
     "text": [
      "                 value\n",
      "1958-01-01  368.416667\n",
      "1958-02-01  368.416667\n",
      "1958-03-01  368.416667\n"
     ]
    }
   ],
   "source": [
    "# -------------------------------------------------------\n",
    "# 📈 過去1年間の平均値による予測（移動平均型予測）\n",
    "# -------------------------------------------------------\n",
    "\n",
    "# 過去1年間（1957年1月〜12月）の平均値を求め、\n",
    "# その平均値をテストデータ期間の全ての予測値として使用する\n",
    "ma_pred = pd.DataFrame(\n",
    "    {\n",
    "        \"value\": np.tile(\n",
    "            train.loc[\"1957-1\":\"1957-12\"].mean(), len(test)\n",
    "        )  # 1957年の平均を繰り返す\n",
    "    },\n",
    "    index=test.index,\n",
    ")\n",
    "\n",
    "# 結果の確認（先頭3行）\n",
    "print(ma_pred.head(3))\n",
    "\n",
    "# ✅ 解説：\n",
    "# ・この方法は「移動平均型予測（moving average forecast）」の一種であり、\n",
    "#   最新の一定期間（ここでは直近1年）の平均値を将来の予測に用いる。\n",
    "# ・直近のデータが現在のトレンドをよりよく反映しているという仮定に基づく。\n",
    "# ・平均値予測（全期間平均）よりも短期的な変化に敏感であり、\n",
    "#   データに緩やかなトレンドや季節性がある場合に有効なベースライン手法である。\n",
    "# ・ただし、周期性が強い場合（例えば月次の季節変動）は、\n",
    "#   単純平均よりも「季節調整済み」モデルを使う方が適切な場合もある。"
   ]
  },
  {
   "cell_type": "code",
   "execution_count": 10,
   "id": "88cb29a7",
   "metadata": {},
   "outputs": [
    {
     "data": {
      "text/plain": [
       "value    2.093458\n",
       "dtype: float64"
      ]
     },
     "execution_count": 10,
     "metadata": {},
     "output_type": "execute_result"
    }
   ],
   "source": [
    "# -------------------------------------------------------\n",
    "# 📈 平均的なドリフト（平均変化量）の算出\n",
    "# -------------------------------------------------------\n",
    "\n",
    "# 1949年1月から1957年12月までのデータにおいて、\n",
    "# 全期間の変化量を観測数 - 1 で割ることで、\n",
    "# 各時点ごとの平均的な増加（または減少）量を求める。\n",
    "\n",
    "drift = (train.loc[\"1957-12-01\"] - train.loc[\"1949-01-01\"]) / (len(train) - 1)\n",
    "drift\n",
    "\n",
    "# ✅ 解説：\n",
    "# ・「ドリフト（drift）」とは、時系列データの平均的な傾向（トレンド）を表す値である。\n",
    "# ・この式では、始点（1949年1月）から終点（1957年12月）までの\n",
    "#   総変化量を観測期間の長さ（n−1）で割ることで、\n",
    "#   1期間あたりの平均的な変化を算出している。\n",
    "# ・結果は「1ヶ月あたりの平均増加量」を意味し、\n",
    "#   ドリフト項を含むモデル（たとえばランダムウォーク＋ドリフト）で利用できる。\n",
    "# ・この値を将来予測に加えることで、一定の上昇または下降トレンドを考慮できる。"
   ]
  },
  {
   "cell_type": "code",
   "execution_count": 11,
   "id": "5e5b60bb",
   "metadata": {},
   "outputs": [
    {
     "name": "stdout",
     "output_type": "stream",
     "text": [
      "                 value\n",
      "1958-01-01  338.093458\n",
      "1958-02-01  340.186916\n",
      "1958-03-01  342.280374\n"
     ]
    }
   ],
   "source": [
    "# -------------------------------------------------------\n",
    "# 📈 ドリフト項を用いた予測（ランダムウォーク＋ドリフトモデル）\n",
    "# -------------------------------------------------------\n",
    "\n",
    "# 「ドリフト（平均変化量）」を月ごとに累積し、\n",
    "# それを最終観測値（1957年12月）の値に加算して将来の予測値を生成する。\n",
    "drift_pred = pd.DataFrame(\n",
    "    {\"value\": np.cumsum(np.tile(drift, len(test))) + train.loc[\"1957-12-01\"].values},\n",
    "    index=test.index,\n",
    ")\n",
    "\n",
    "# 結果の確認（先頭3行）\n",
    "print(drift_pred.head(3))\n",
    "\n",
    "# ✅ 解説：\n",
    "# ・これは「ランダムウォーク＋ドリフト（Random Walk with Drift）」型の予測である。\n",
    "# ・単純なナイーブ予測（最後の値をそのまま繰り返す）とは異なり、\n",
    "#   平均的なトレンド（ドリフト）を考慮して将来値を増加（または減少）させている。\n",
    "# ・ドリフト項は、過去全期間の平均的な変化量を反映しており、\n",
    "#   緩やかな上昇・下降傾向を持つ時系列データに対して有効である。\n",
    "# ・累積和（np.cumsum）によって、期間が進むごとにドリフトが積み上がり、\n",
    "#   予測値が時間とともに線形的に増加することを意味する。"
   ]
  },
  {
   "cell_type": "code",
   "execution_count": 12,
   "id": "c127c290",
   "metadata": {},
   "outputs": [
    {
     "data": {
      "text/plain": [
       "<matplotlib.legend.Legend at 0x1658e2b90>"
      ]
     },
     "execution_count": 12,
     "metadata": {},
     "output_type": "execute_result"
    },
    {
     "data": {
      "image/png": "[encoded data removed]",
      "text/plain": [
       "<Figure size 800x400 with 1 Axes>"
      ]
     },
     "metadata": {},
     "output_type": "display_data"
    }
   ],
   "source": [
    "# -------------------------------------------------------\n",
    "# 📊 予測モデルの可視化：複数手法の比較グラフ\n",
    "# -------------------------------------------------------\n",
    "\n",
    "# グラフサイズを指定して描画領域を作成\n",
    "fig, ax = plt.subplots(figsize=(8, 4))\n",
    "\n",
    "# 訓練データ（学習に使用した期間）の折れ線グラフ\n",
    "ax.plot(train[\"value\"], label=\"訓練データ\")\n",
    "\n",
    "# テストデータ（予測対象期間）の折れ線グラフ\n",
    "ax.plot(test[\"value\"], label=\"テストデータ\")\n",
    "\n",
    "# 各予測モデルの折れ線グラフを重ねて比較\n",
    "ax.plot(naive_pred[\"value\"], label=\"持続予測（Naïve）\")\n",
    "ax.plot(s_naive_pred[\"value\"], label=\"季節ナイーブ予測（Seasonal Naïve）\")\n",
    "ax.plot(mean_pred[\"value\"], label=\"平均値予測（Mean Forecast）\")\n",
    "ax.plot(ma_pred[\"value\"], label=\"移動平均予測（Moving Average）\")\n",
    "ax.plot(drift_pred[\"value\"], label=\"ドリフト予測（Drift Model）\")\n",
    "\n",
    "# 凡例（どの線がどのモデルに対応するか）を表示\n",
    "ax.legend()\n",
    "\n",
    "# ✅ 解説：\n",
    "# ・このグラフは、時系列データの代表的な単純予測モデルを比較している。\n",
    "# ・「持続予測」は直前の値をそのまま延長する最も単純なモデル。\n",
    "# ・「季節ナイーブ」は1年前の同月の値を繰り返す（季節性を考慮）。\n",
    "# ・「平均値予測」は過去の平均を一定値として出す。\n",
    "# ・「移動平均予測」は直近の一定期間の平均を使う。\n",
    "# ・「ドリフト予測」は線形トレンド（平均的な増減傾向）を考慮したモデル。\n",
    "# → これらを重ねて比較することで、データの特性に最も合うモデルを視覚的に判断できる。"
   ]
  },
  {
   "cell_type": "code",
   "execution_count": 13,
   "id": "737b750b",
   "metadata": {},
   "outputs": [
    {
     "data": {
      "text/plain": [
       "value    94.944444\n",
       "dtype: float64"
      ]
     },
     "execution_count": 13,
     "metadata": {},
     "output_type": "execute_result"
    }
   ],
   "source": [
    "# -------------------------------------------------------\n",
    "# 📈 平均絶対誤差（MAE: Mean Absolute Error）の算出\n",
    "# -------------------------------------------------------\n",
    "\n",
    "# テストデータ（実測値）と予測値（naive_pred）の誤差を計算\n",
    "# np.abs() : 絶対値を取る（誤差の符号を無視）\n",
    "# .mean()  : 平均を取ることで、全体の平均誤差を算出する\n",
    "mae_naive = np.abs(test - naive_pred).mean()\n",
    "\n",
    "# 結果の表示\n",
    "mae_naive"
   ]
  },
  {
   "cell_type": "code",
   "execution_count": 14,
   "id": "82e3b2a7",
   "metadata": {},
   "outputs": [
    {
     "name": "stdout",
     "output_type": "stream",
     "text": [
      "持続予測　　： 94.94444444444444\n",
      "季節ナイーブ： 60.083333333333336\n",
      "平均値予測　： 197.60185185185188\n",
      "移動平均予測： 74.06018518518519\n",
      "ドリフト予測： 62.84215991692627\n"
     ]
    }
   ],
   "source": [
    "# -------------------------------------------------------\n",
    "# 📊 各モデルの平均絶対誤差（MAE: Mean Absolute Error）の比較\n",
    "# -------------------------------------------------------\n",
    "\n",
    "# sklearn.metrics.mean_absolute_error を用いて、\n",
    "# 各予測モデルと実測値（test）との誤差を評価する\n",
    "# MAEは誤差の平均的な大きさを示し、値が小さいほど精度が高い\n",
    "\n",
    "print(\"持続予測　　：\", mean_absolute_error(test, naive_pred))\n",
    "print(\"季節ナイーブ：\", mean_absolute_error(test, s_naive_pred))\n",
    "print(\"平均値予測　：\", mean_absolute_error(test, mean_pred))\n",
    "print(\"移動平均予測：\", mean_absolute_error(test, ma_pred))\n",
    "print(\"ドリフト予測：\", mean_absolute_error(test, drift_pred))"
   ]
  },
  {
   "cell_type": "code",
   "execution_count": 15,
   "id": "4d5e7d45",
   "metadata": {},
   "outputs": [
    {
     "data": {
      "text/plain": [
       "value    14674.555556\n",
       "dtype: float64"
      ]
     },
     "execution_count": 15,
     "metadata": {},
     "output_type": "execute_result"
    }
   ],
   "source": [
    "# -------------------------------------------------------\n",
    "# 📈 持続予測モデル（Naïve Forecast）の平均二乗誤差（MSE）の算出\n",
    "# -------------------------------------------------------\n",
    "\n",
    "# 「(予測値 - 実測値)^2」の平均を取ることで、誤差の二乗平均（MSE）を求める。\n",
    "# 二乗することで大きな誤差をより強調して評価できる。\n",
    "\n",
    "((test - naive_pred) ** 2).mean()"
   ]
  },
  {
   "cell_type": "code",
   "execution_count": 16,
   "id": "438e8101",
   "metadata": {},
   "outputs": [
    {
     "name": "stdout",
     "output_type": "stream",
     "text": [
      "持続予測　　： 14674.555555555555\n",
      "季節ナイーブ： 5418.75\n",
      "平均値予測　： 45164.797410836756\n",
      "移動平均予測： 9728.312499999996\n",
      "ドリフト予測： 7695.698285148635\n"
     ]
    }
   ],
   "source": [
    "# -------------------------------------------------------\n",
    "# 🎯 各予測モデルの平均二乗誤差（MSE: Mean Squared Error）の比較\n",
    "# -------------------------------------------------------\n",
    "\n",
    "# MSE（Mean Squared Error）は、誤差（二乗誤差）の平均値であり、\n",
    "# 予測の「精度（誤差の大きさ）」を数値的に評価する指標である。\n",
    "# 値が小さいほど、予測の精度が高いことを意味する。\n",
    "\n",
    "print(\n",
    "    \"持続予測　　：\", mean_squared_error(test, naive_pred)\n",
    ")  # 最終値をそのまま使う単純予測\n",
    "print(\n",
    "    \"季節ナイーブ：\", mean_squared_error(test, s_naive_pred)\n",
    ")  # 1年前の同月を用いた季節性予測\n",
    "print(\n",
    "    \"平均値予測　：\", mean_squared_error(test, mean_pred)\n",
    ")  # 全期間の平均値を予測値とする\n",
    "print(\n",
    "    \"移動平均予測：\", mean_squared_error(test, ma_pred)\n",
    ")  # 直近1年間の平均を用いた予測\n",
    "print(\n",
    "    \"ドリフト予測：\", mean_squared_error(test, drift_pred)\n",
    ")  # 一定の傾きを持つトレンド予測"
   ]
  },
  {
   "cell_type": "code",
   "execution_count": 17,
   "id": "54cbe250",
   "metadata": {},
   "outputs": [
    {
     "name": "stdout",
     "output_type": "stream",
     "text": [
      "持続予測のRMSE： value    121.13858\n",
      "dtype: float64\n"
     ]
    }
   ],
   "source": [
    "# -------------------------------------------------------\n",
    "# 🎯 RMSE（Root Mean Squared Error）の計算\n",
    "# -------------------------------------------------------\n",
    "\n",
    "# RMSEは「平均二乗誤差（MSE）」の平方根を取ったものであり、\n",
    "# 元のデータと同じ単位で予測誤差の大きさを表す指標である。\n",
    "# 値が小さいほど、予測モデルの精度が高いことを意味する。\n",
    "\n",
    "rmse_naive = np.sqrt(((test - naive_pred) ** 2).mean())\n",
    "print(\"持続予測のRMSE：\", rmse_naive)"
   ]
  },
  {
   "cell_type": "code",
   "execution_count": 18,
   "id": "27af2be1",
   "metadata": {},
   "outputs": [
    {
     "name": "stdout",
     "output_type": "stream",
     "text": [
      "持続予測　　： 121.13857996342682\n",
      "季節ナイーブ： 73.61215932167728\n",
      "平均値予測　： 212.52011060329505\n",
      "移動平均予測： 98.63220822834697\n",
      "ドリフト予測： 87.7251291543571\n"
     ]
    }
   ],
   "source": [
    "# -------------------------------------------------------\n",
    "# 🎯 RMSE（Root Mean Squared Error：平方平均平方根誤差）の比較\n",
    "# -------------------------------------------------------\n",
    "\n",
    "# 各予測モデルについてRMSEを算出し、予測精度を比較する。\n",
    "# RMSEは誤差の二乗平均の平方根であり、元データと同じ単位で\n",
    "# 「平均的にどれくらい外れているか」を表す。\n",
    "# 値が小さいほど予測精度が高いことを意味する。\n",
    "\n",
    "print(\"持続予測　　：\", np.sqrt(mean_squared_error(test, naive_pred)))\n",
    "print(\"季節ナイーブ：\", np.sqrt(mean_squared_error(test, s_naive_pred)))\n",
    "print(\"平均値予測　：\", np.sqrt(mean_squared_error(test, mean_pred)))\n",
    "print(\"移動平均予測：\", np.sqrt(mean_squared_error(test, ma_pred)))\n",
    "print(\"ドリフト予測：\", np.sqrt(mean_squared_error(test, drift_pred)))\n",
    "\n",
    "# -------------------------------------------------------\n",
    "# 💡 補足\n",
    "# -------------------------------------------------------\n",
    "# - 「持続予測（naive）」：直前の値をそのまま次の予測とする単純モデル。\n",
    "# - 「季節ナイーブ予測」：1年前の同じ月の値を使う季節性を考慮した単純モデル。\n",
    "# - 「平均値予測」：訓練データ全体の平均を予測値とする。\n",
    "# - 「移動平均予測」：直近の一定期間の平均を用いる。\n",
    "# - 「ドリフト予測」：トレンド（傾き）を考慮して直線的に予測する。\n",
    "#\n",
    "# RMSEは「大きな誤差を強く penalize（罰則）」する性質を持つため、\n",
    "# 外れ値がある場合には値が大きくなりやすい。\n",
    "# MAEと合わせて評価することで、モデルの安定性と精度を総合的に判断できる。"
   ]
  },
  {
   "cell_type": "code",
   "execution_count": 19,
   "id": "a323a8f2",
   "metadata": {},
   "outputs": [
    {
     "name": "stdout",
     "output_type": "stream",
     "text": [
      "持続予測のMAPE： value    0.198867\n",
      "dtype: float64\n"
     ]
    }
   ],
   "source": [
    "# -------------------------------------------------------\n",
    "# 🎯 MAPE（Mean Absolute Percentage Error：平均絶対パーセント誤差）\n",
    "# -------------------------------------------------------\n",
    "\n",
    "# MAPEは、予測値と実測値の誤差を「実測値に対する割合（％）」で表した指標。\n",
    "# 平均的にどれくらいの割合で外れているかを示す。\n",
    "# 値が小さいほど予測精度が高いことを意味する。\n",
    "\n",
    "mape_naive = (np.abs(test - naive_pred) / test).mean()\n",
    "print(\"持続予測のMAPE：\", mape_naive)\n",
    "\n",
    "# -------------------------------------------------------\n",
    "# 💡 補足\n",
    "# -------------------------------------------------------\n",
    "# - MAPEは「直感的に理解しやすい」指標であり、誤差を％で解釈できる。\n",
    "# - 例えば、MAPE = 0.08（= 8%）なら「平均的に8%の誤差がある」ことを意味する。\n",
    "# - ただし、実測値 test が0に近い場合、誤差率が極端に大きくなるため注意が必要。\n",
    "#   （0除算が発生する可能性がある）\n",
    "# - そのような場合は「SMAPE（対称平均絶対パーセント誤差）」などを用いると良い。"
   ]
  },
  {
   "cell_type": "code",
   "execution_count": 20,
   "id": "a6f25f4a",
   "metadata": {},
   "outputs": [
    {
     "name": "stdout",
     "output_type": "stream",
     "text": [
      "持続予測　　： 0.19886711926999853\n",
      "季節ナイーブ： 0.13189432350948402\n",
      "平均値予測　： 0.4441010032912314\n",
      "移動平均予測： 0.15522265083435094\n",
      "ドリフト予測： 0.12990464190138912\n"
     ]
    }
   ],
   "source": [
    "# -------------------------------------------------------\n",
    "# 🎯 MAPE（Mean Absolute Percentage Error：平均絶対パーセント誤差）の比較\n",
    "# -------------------------------------------------------\n",
    "\n",
    "# 各予測モデルについてMAPEを算出し、平均的な誤差率を評価する。\n",
    "# MAPEは、予測値と実測値の絶対誤差を実測値で割り、\n",
    "# それを平均したもの（誤差を割合で表す）。\n",
    "# 値が小さいほど、予測精度が高いことを意味する。\n",
    "\n",
    "print(\"持続予測　　：\", mean_absolute_percentage_error(test, naive_pred))\n",
    "print(\"季節ナイーブ：\", mean_absolute_percentage_error(test, s_naive_pred))\n",
    "print(\"平均値予測　：\", mean_absolute_percentage_error(test, mean_pred))\n",
    "print(\"移動平均予測：\", mean_absolute_percentage_error(test, ma_pred))\n",
    "print(\"ドリフト予測：\", mean_absolute_percentage_error(test, drift_pred))\n",
    "\n",
    "# -------------------------------------------------------\n",
    "# 💡 補足\n",
    "# -------------------------------------------------------\n",
    "# - MAPEは「予測誤差を実測値の割合」で評価するため、\n",
    "#   モデル間での比較やビジネス上の直感的理解に適している。\n",
    "# - 例：MAPE = 0.12 → 平均で12%の誤差があるという意味。\n",
    "#\n",
    "# ⚠ 注意点\n",
    "# - 実測値 test に0または0に近い値が含まれる場合、\n",
    "#   分母が小さくなり誤差率が極端に大きくなる（または計算不能）。\n",
    "# - そのような場合は **SMAPE（対称平均絶対パーセント誤差）** を用いると安定。\n",
    "#\n",
    "# ✅ MAPEはモデル評価の「相対的精度」を把握する上で有用な指標。"
   ]
  },
  {
   "cell_type": "code",
   "execution_count": 21,
   "id": "250716e6",
   "metadata": {},
   "outputs": [
    {
     "name": "stdout",
     "output_type": "stream",
     "text": [
      "訓練データにおける1期先持続予測の平均絶対誤差（MAE）： 20.317757009345794\n"
     ]
    }
   ],
   "source": [
    "# -------------------------------------------------------\n",
    "# 🎯 訓練データにおける「持続予測（Naive Forecast）」の1期先予測誤差\n",
    "# -------------------------------------------------------\n",
    "\n",
    "# 「持続予測（Naive Forecast）」とは：\n",
    "#   → 前期の値をそのまま次期の予測値とする、最も単純な予測手法である。\n",
    "#     例：ŷ_t = y_{t-1}\n",
    "#\n",
    "# 以下では、訓練データ（1949年〜1957年）において、\n",
    "# 各月の値と「前月の値」の絶対誤差の平均（MAE）を計算している。\n",
    "# これは、持続予測モデルの訓練期間内での平均誤差に相当する。\n",
    "\n",
    "naive_error = np.abs(\n",
    "    train[\"1949-02\":\"1957-12\"].values - train[\"1949-01\":\"1957-11\"].values\n",
    ").mean()\n",
    "print(\"訓練データにおける1期先持続予測の平均絶対誤差（MAE）：\", naive_error)\n",
    "\n",
    "# -------------------------------------------------------\n",
    "# 💡 補足\n",
    "# -------------------------------------------------------\n",
    "# - この値は「1期先予測」での平均的なズレ（誤差）を表す。\n",
    "# - 実際のテストデータでの誤差と比較することで、\n",
    "#   モデルの汎化性能（未知データに対する予測力）を評価できる。\n",
    "# - シンプルなベースライン（Naive法）は、\n",
    "#   より高度なモデルの比較対象としてよく用いられる。"
   ]
  },
  {
   "cell_type": "code",
   "execution_count": 22,
   "id": "a4741174",
   "metadata": {},
   "outputs": [
    {
     "name": "stdout",
     "output_type": "stream",
     "text": [
      "MASE（平均絶対スケーリング誤差）： value    4.672979\n",
      "dtype: float64\n"
     ]
    }
   ],
   "source": [
    "# -------------------------------------------------------\n",
    "# 🎯 MASE（Mean Absolute Scaled Error：平均絶対スケーリング誤差）\n",
    "# -------------------------------------------------------\n",
    "\n",
    "# MASE は、予測誤差を「単純なナイーブ予測（1期前値）の誤差」でスケーリングした指標である。\n",
    "# これにより、異なる系列間でも誤差を比較できるようになる。\n",
    "\n",
    "# 数式：\n",
    "#   MASE = mean( | y_t - ŷ_t | ) / mean( | y_t - y_{t-1} | )\n",
    "#\n",
    "# ・分子：テストデータにおける予測誤差の絶対値\n",
    "# ・分母：訓練データにおけるナイーブ予測の平均絶対誤差（naive_error）\n",
    "\n",
    "mase = (np.abs(test - naive_pred) / naive_error).mean()\n",
    "print(\"MASE（平均絶対スケーリング誤差）：\", mase)\n",
    "\n",
    "# -------------------------------------------------------\n",
    "# 💡 MASEの解釈\n",
    "# -------------------------------------------------------\n",
    "# - MASE < 1  → モデルはナイーブ予測よりも優れている（誤差が小さい）\n",
    "# - MASE = 1  → モデルの精度はナイーブ予測と同等\n",
    "# - MASE > 1  → モデルはナイーブ予測よりも劣っている（誤差が大きい）\n",
    "\n",
    "# ✅ MASEの特徴\n",
    "# - スケーリングによって系列のスケール依存性を除去できる。\n",
    "# - 0除算の危険が少なく、MAPEよりも安定している。\n",
    "# - 複数の時系列モデルを公平に比較する際に特に有用。"
   ]
  },
  {
   "cell_type": "code",
   "execution_count": 23,
   "id": "59c5b4d8",
   "metadata": {},
   "outputs": [
    {
     "name": "stdout",
     "output_type": "stream",
     "text": [
      "持続予測　　： 4.672978636410099\n",
      "季節ナイーブ： 2.9571833793314934\n",
      "平均値予測　： 9.725574125183142\n",
      "移動平均予測： 3.645096510954377\n",
      "ドリフト予測： 3.0929673924154146\n"
     ]
    }
   ],
   "source": [
    "# -------------------------------------------------------\n",
    "# 🎯 各予測モデルの MASE（Mean Absolute Scaled Error：平均絶対スケーリング誤差）\n",
    "# -------------------------------------------------------\n",
    "\n",
    "# mean_absolute_scaled_error() は、scikit-learn 1.1以降で利用可能な関数であり、\n",
    "# 予測誤差を「訓練データにおける1期先ナイーブ予測誤差」でスケーリングして評価する。\n",
    "#\n",
    "# 計算式：\n",
    "#     MASE = mean( | y_t - ŷ_t | ) / mean( | y_t - y_{t-1} | )\n",
    "#\n",
    "# y_train を指定することで、分母（スケーリング基準）を訓練データに設定している。\n",
    "# これにより、異なる予測モデルを公平に比較できる。\n",
    "\n",
    "print(\"持続予測　　：\", mean_absolute_scaled_error(test, naive_pred, y_train=train))\n",
    "print(\"季節ナイーブ：\", mean_absolute_scaled_error(test, s_naive_pred, y_train=train))\n",
    "print(\"平均値予測　：\", mean_absolute_scaled_error(test, mean_pred, y_train=train))\n",
    "print(\"移動平均予測：\", mean_absolute_scaled_error(test, ma_pred, y_train=train))\n",
    "print(\"ドリフト予測：\", mean_absolute_scaled_error(test, drift_pred, y_train=train))\n",
    "\n",
    "# -------------------------------------------------------\n",
    "# 💡 MASE の解釈\n",
    "# -------------------------------------------------------\n",
    "# ・MASE < 1：モデルがナイーブ予測より優れている（誤差が小さい）\n",
    "# ・MASE = 1：ナイーブ予測と同等の精度\n",
    "# ・MASE > 1：ナイーブ予測より劣るモデル\n",
    "#\n",
    "# MASEはMAPEと違ってゼロ除算が起きにくく、外れ値にも比較的頑健であるため、\n",
    "# 時系列予測モデルの汎用的な性能比較指標として広く用いられる。"
   ]
  }
 ],
 "metadata": {
  "kernelspec": {
   "display_name": "3.10.13",
   "language": "python",
   "name": "python3"
  },
  "language_info": {
   "codemirror_mode": {
    "name": "ipython",
    "version": 3
   },
   "file_extension": ".py",
   "mimetype": "text/x-python",
   "name": "python",
   "nbconvert_exporter": "python",
   "pygments_lexer": "ipython3",
   "version": "3.10.13"
  }
 },
 "nbformat": 4,
 "nbformat_minor": 5
}
