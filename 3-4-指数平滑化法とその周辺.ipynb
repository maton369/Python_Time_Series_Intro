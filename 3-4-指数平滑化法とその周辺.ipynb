{
 "cells": [
  {
   "cell_type": "code",
   "execution_count": 1,
   "id": "e109c2f9",
   "metadata": {},
   "outputs": [],
   "source": [
    "# ================================================\n",
    "# 必要なライブラリのインポート\n",
    "# ================================================\n",
    "\n",
    "# --------------------------------\n",
    "# 数値計算・データ処理\n",
    "# --------------------------------\n",
    "import numpy as np  # 数値計算ライブラリ（ベクトル・行列演算など）\n",
    "import pandas as pd  # データフレーム操作（時系列の取り扱いに必須）\n",
    "\n",
    "# --------------------------------\n",
    "# 可視化ライブラリ\n",
    "# --------------------------------\n",
    "from matplotlib import pyplot as plt  # グラフ描画の基本ライブラリ\n",
    "import matplotlib.dates as mdates  # 時系列軸のフォーマット設定に便利\n",
    "import seaborn as sns  # 統計的な可視化スタイル（美しい出力）\n",
    "\n",
    "sns.set()  # Seabornのデフォルトスタイルを有効化（見やすいグラフに）\n",
    "\n",
    "# --------------------------------\n",
    "# 統計モデリング・時系列分析\n",
    "# --------------------------------\n",
    "import statsmodels.api as sm\n",
    "import statsmodels.formula.api as smf\n",
    "import statsmodels.tsa.api as tsa  # 時系列専用ツール（自己相関, ARIMAなど）\n",
    "\n",
    "# --------------------------------\n",
    "# sktime：時系列処理の基本モジュール\n",
    "# --------------------------------\n",
    "from sktime.utils.plotting import plot_series  # 時系列データの簡単な可視化\n",
    "from sktime.forecasting.base import ForecastingHorizon  # 予測対象期間の指定\n",
    "\n",
    "# --------------------------------\n",
    "# sktime：指数平滑法・ETSモデル（トレンド・季節性モデル）\n",
    "# --------------------------------\n",
    "from sktime.forecasting.exp_smoothing import ExponentialSmoothing  # Holt-Wintersモデル\n",
    "from sktime.forecasting.ets import AutoETS  # 自動ETSモデル選択\n",
    "\n",
    "# --------------------------------\n",
    "# sktime：予測性能評価（誤差指標）\n",
    "# --------------------------------\n",
    "from sktime.performance_metrics.forecasting import (\n",
    "    mean_absolute_scaled_error,  # MASE（基準モデルとの誤差比）\n",
    "    MeanAbsoluteError,  # MAE（平均絶対誤差）\n",
    "    mean_absolute_percentage_error,  # MAPE（平均絶対パーセント誤差）\n",
    "    mean_absolute_error,  # MAE（関数形式）\n",
    ")\n",
    "\n",
    "# --------------------------------\n",
    "# sktime：予測モデルの検証（クロスバリデーション等）\n",
    "# --------------------------------\n",
    "from sktime.forecasting.model_selection import (\n",
    "    temporal_train_test_split,  # 時系列に基づく訓練・テスト分割\n",
    "    ExpandingWindowSplitter,  # 時間窓を拡張しながらCVを実行\n",
    "    ForecastingGridSearchCV,  # グリッドサーチによるハイパーパラメータ最適化\n",
    ")\n",
    "from sktime.forecasting.model_evaluation import evaluate  # CVの自動評価関数\n",
    "\n",
    "# --------------------------------\n",
    "# sktime：データ変換（前処理）\n",
    "# --------------------------------\n",
    "from sktime.transformations.series.boxcox import LogTransformer  # 対数変換など\n",
    "\n",
    "# --------------------------------\n",
    "# sktime：パイプライン・アンサンブル\n",
    "# --------------------------------\n",
    "from sktime.forecasting.compose import (\n",
    "    TransformedTargetForecaster,  # 前処理＋予測モデルを一体化\n",
    "    MultiplexForecaster,  # モデルの切替・比較\n",
    "    EnsembleForecaster,  # モデルを統合して予測（単純平均など）\n",
    "    AutoEnsembleForecaster,  # 自動アンサンブル（性能ベース加重など）\n",
    ")\n",
    "from sktime.transformations.compose import OptionalPassthrough  # 前処理を有無切替できる\n",
    "\n",
    "# ================================================\n",
    "# ✅ このブロックでできること\n",
    "# - Holt-WintersやETSによる時系列予測\n",
    "# - グリッドサーチ＋クロスバリデーション評価\n",
    "# - 前処理を含むパイプライン設計\n",
    "# - モデルアンサンブル・自動モデル選択\n",
    "# ================================================"
   ]
  },
  {
   "cell_type": "code",
   "execution_count": 2,
   "id": "f0762941",
   "metadata": {},
   "outputs": [],
   "source": [
    "# 表示設定\n",
    "np.set_printoptions(linewidth=60)\n",
    "pd.set_option(\"display.width\", 80)\n",
    "\n",
    "from matplotlib.pylab import rcParams\n",
    "\n",
    "rcParams[\"figure.figsize\"] = 8, 4"
   ]
  },
  {
   "cell_type": "code",
   "execution_count": 3,
   "id": "5c240cc5",
   "metadata": {},
   "outputs": [],
   "source": [
    "# 飛行機乗客数データの読み込み\n",
    "air_passengers = sm.datasets.get_rdataset(\"AirPassengers\").data\n",
    "\n",
    "# 日付インデックスの作成(PeriodIndex)\n",
    "date_index = pd.period_range(start=\"1949-01\", periods=len(air_passengers), freq=\"M\")\n",
    "air_passengers.index = date_index\n",
    "\n",
    "# 不要な時間ラベルの削除\n",
    "air_passengers = air_passengers.drop(air_passengers.columns[0], axis=1)"
   ]
  },
  {
   "cell_type": "code",
   "execution_count": 4,
   "id": "c839f915",
   "metadata": {},
   "outputs": [],
   "source": [
    "# データの分割\n",
    "train, test = temporal_train_test_split(air_passengers, test_size=36)\n",
    "\n",
    "# 予測期間\n",
    "fh = np.arange(1, len(test) + 1)"
   ]
  },
  {
   "cell_type": "code",
   "execution_count": 5,
   "id": "2a56e81c",
   "metadata": {},
   "outputs": [
    {
     "data": {
      "text/plain": [
       "0    1\n",
       "1    2\n",
       "2    3\n",
       "dtype: int64"
      ]
     },
     "execution_count": 5,
     "metadata": {},
     "output_type": "execute_result"
    }
   ],
   "source": [
    "data = pd.Series([1, 2, 3])\n",
    "data"
   ]
  },
  {
   "cell_type": "code",
   "execution_count": null,
   "id": "cff7fcd3",
   "metadata": {},
   "outputs": [
    {
     "data": {
      "text/plain": [
       "array([0.2, 0.2, 0.2])"
      ]
     },
     "execution_count": 6,
     "metadata": {},
     "output_type": "execute_result"
    }
   ],
   "source": [
    "# ================================================\n",
    "# 単純指数平滑法（Simple Exponential Smoothing）の準備\n",
    "# ================================================\n",
    "\n",
    "# 平滑化定数（α）\n",
    "# 0 < α ≤ 1 の範囲で設定。\n",
    "# αが大きいほど「新しいデータを重視」し、αが小さいほど「過去データを重視」する。\n",
    "alpha = 0.8\n",
    "\n",
    "# データの長さ分、(1 - α) を並べたリストを作成\n",
    "# （指数平滑での過去データの重みを計算するために使用）\n",
    "alpha_list = np.tile(1 - alpha, len(data))\n",
    "\n",
    "# 結果の確認（例：0.2が3個並ぶなど）\n",
    "alpha_list"
   ]
  },
  {
   "cell_type": "code",
   "execution_count": 7,
   "id": "b45bda92",
   "metadata": {},
   "outputs": [
    {
     "data": {
      "text/plain": [
       "array([0.8  , 0.16 , 0.032])"
      ]
     },
     "execution_count": 7,
     "metadata": {},
     "output_type": "execute_result"
    }
   ],
   "source": [
    "# --------------------------------\n",
    "# 核心部分：重みの算出\n",
    "# --------------------------------\n",
    "#   α_list ** np.arange(0, len(data)) * α\n",
    "#\n",
    "# 具体的な意味：\n",
    "#   np.arange(0, len(data)) → [0, 1, 2, 3, ...]\n",
    "#   α_list ** np.arange(...) → [(1-α)^0, (1-α)^1, (1-α)^2, ...]\n",
    "#   それに α を掛けることで：\n",
    "#       [α*(1-α)^0, α*(1-α)^1, α*(1-α)^2, ...]\n",
    "#   という指数的に減衰する重みが得られる。\n",
    "#\n",
    "# 例：α=0.8 の場合\n",
    "#   → [0.8, 0.16, 0.032, 0.0064, ...] のように\n",
    "#      最新ほど大きく、古いほど小さい重みになる。\n",
    "weight = alpha_list ** np.arange(0, len(data)) * alpha\n",
    "\n",
    "# 結果を確認\n",
    "weight"
   ]
  },
  {
   "cell_type": "code",
   "execution_count": 8,
   "id": "457e03e4",
   "metadata": {},
   "outputs": [
    {
     "name": "stdout",
     "output_type": "stream",
     "text": [
      "4時点目の予測値 2.752 \n"
     ]
    }
   ],
   "source": [
    "# ================================================\n",
    "# 指数平滑法による予測値の計算\n",
    "# ================================================\n",
    "\n",
    "# 重みを逆順にする\n",
    "# （理由）計算時に「古いデータ × 小さい重み」「新しいデータ × 大きい重み」\n",
    "# が対応するように、重みの順序を入れ替える。\n",
    "# これで最新の観測値ほど大きな重みが掛かるようになる。\n",
    "weight = weight[::-1]\n",
    "\n",
    "# --------------------------------\n",
    "# 指数平滑化法による予測値の算出\n",
    "# --------------------------------\n",
    "# 予測値は、各データとその重みの積の総和で表される：\n",
    "#\n",
    "#   ŷ_t = Σ [ α * (1 - α)^(t - i) * y_i ]\n",
    "#\n",
    "# このコードでは「data * weight」で要素ごとの積をとり、\n",
    "# np.sum() でそれを合計している。\n",
    "#\n",
    "# 例：\n",
    "#   data = [y1, y2, y3, y4]\n",
    "#   weight = [0.0064, 0.032, 0.16, 0.8]（α=0.8の場合）\n",
    "#   → ŷ_4 = y1*0.0064 + y2*0.032 + y3*0.16 + y4*0.8\n",
    "#\n",
    "# したがって、新しい観測値ほど強く反映される。\n",
    "print(f\"4時点目の予測値 {np.sum(data * weight):.4g} \")"
   ]
  },
  {
   "cell_type": "code",
   "execution_count": 9,
   "id": "eba95b8e",
   "metadata": {},
   "outputs": [
    {
     "name": "stdout",
     "output_type": "stream",
     "text": [
      "4時点目の予測値 1.216 \n"
     ]
    }
   ],
   "source": [
    "# データの並び順の変更\n",
    "data_2 = pd.Series([3, 2, 1])\n",
    "\n",
    "# 指数平滑化法による予測値\n",
    "print(f\"4時点目の予測値 {np.sum(data_2 * weight):.4g} \")"
   ]
  },
  {
   "cell_type": "code",
   "execution_count": 10,
   "id": "f0e28c82",
   "metadata": {},
   "outputs": [
    {
     "data": {
      "text/plain": [
       "2.0"
      ]
     },
     "execution_count": 10,
     "metadata": {},
     "output_type": "execute_result"
    }
   ],
   "source": [
    "# 参考：単なるデータの平均\n",
    "np.mean(data)"
   ]
  },
  {
   "cell_type": "code",
   "execution_count": 11,
   "id": "753c2958",
   "metadata": {},
   "outputs": [
    {
     "name": "stdout",
     "output_type": "stream",
     "text": [
      "2時点目 0.8 | 3時点目 1.76 | 4時点目 2.752\n"
     ]
    }
   ],
   "source": [
    "# ================================================\n",
    "# 指数平滑法（単純指数平滑）の逐次計算\n",
    "# ================================================\n",
    "\n",
    "# 初期値（t=1 の平滑値）\n",
    "# ------------------------------------------------\n",
    "# 最初の平滑値 ŷ₁（ハット）は「予測の出発点」。\n",
    "# 通常は観測値の初期値や0などを仮定する。\n",
    "yhat1 = 0\n",
    "\n",
    "# --------------------------------\n",
    "# 各時点の予測値の更新式\n",
    "# --------------------------------\n",
    "# 一般式：\n",
    "#     ŷ_t = α * y_{t-1} + (1 - α) * ŷ_{t-1}\n",
    "#\n",
    "# α（アルファ）は平滑化定数で、\n",
    "#   ・α が大きい → 直近の観測値を重視（変化に敏感）\n",
    "#   ・α が小さい → 過去の予測値を重視（変化に鈍感）\n",
    "\n",
    "# 各時点での計算過程：\n",
    "yhat2 = alpha * data[0] + (1 - alpha) * yhat1  # 2時点目の平滑値\n",
    "yhat3 = alpha * data[1] + (1 - alpha) * yhat2  # 3時点目の平滑値\n",
    "yhat4 = alpha * data[2] + (1 - alpha) * yhat3  # 4時点目の平滑値\n",
    "\n",
    "# --------------------------------\n",
    "# 結果の確認\n",
    "# --------------------------------\n",
    "# 各時点での予測値を表示する。\n",
    "# 小数点4桁で整形して出力。\n",
    "print(f\"2時点目 {yhat2:.4g} | 3時点目 {yhat3:.4g} | 4時点目 {yhat4:.4g}\")\n",
    "\n",
    "# 💡 ポイント\n",
    "# ・指数平滑法は再帰的に計算されるため、\n",
    "#   逐次的に ŷ_t を更新していく構造を持つ。\n",
    "# ・最新データが入るたびに予測値が滑らかに更新される。"
   ]
  },
  {
   "cell_type": "code",
   "execution_count": 12,
   "id": "4f166436",
   "metadata": {},
   "outputs": [
    {
     "name": "stdout",
     "output_type": "stream",
     "text": [
      "2時点目 1 | 3時点目 1.8 | 4時点目 2.76\n"
     ]
    }
   ],
   "source": [
    "# 初期値\n",
    "yhat1 = data[0]\n",
    "\n",
    "# 予測値の計算\n",
    "yhat2 = alpha * data[0] + (1 - alpha) * yhat1\n",
    "yhat3 = alpha * data[1] + (1 - alpha) * yhat2\n",
    "yhat4 = alpha * data[2] + (1 - alpha) * yhat3\n",
    "\n",
    "# 結果の確認\n",
    "print(f\"2時点目 {yhat2:.4g} | 3時点目 {yhat3:.4g} | 4時点目 {yhat4:.4g}\")"
   ]
  },
  {
   "cell_type": "code",
   "execution_count": 13,
   "id": "0de284af",
   "metadata": {},
   "outputs": [
    {
     "data": {
      "text/plain": [
       "0    1.00\n",
       "1    1.80\n",
       "2    2.76\n",
       "dtype: float64"
      ]
     },
     "execution_count": 13,
     "metadata": {},
     "output_type": "execute_result"
    }
   ],
   "source": [
    "# ================================================\n",
    "# 単純指数平滑化法（Exponential Weighted Moving Average, EWMA）\n",
    "# ================================================\n",
    "\n",
    "# ewm(alpha=0.8, adjust=False)\n",
    "# --------------------------------\n",
    "# pandas.Series.ewm() は「指数加重移動平均」を計算するためのメソッドである。\n",
    "# alpha（α）は平滑化定数を表す。\n",
    "#   ・αが大きいほど、直近の観測値を重視（変化に敏感）\n",
    "#   ・αが小さいほど、過去の値を重視（滑らかに変化）\n",
    "#\n",
    "# adjust=False の場合：\n",
    "#   「再帰式による指数平滑法」と同じ計算を行う。\n",
    "#   つまり、以下の式に従って逐次更新される：\n",
    "#       ŷ_t = α * y_t + (1 - α) * ŷ_{t-1}\n",
    "\n",
    "# adjust=True（デフォルト）の場合：\n",
    "#   過去全体の重みを正規化して計算するため、\n",
    "#   純粋な再帰形の指数平滑とは異なる（学術書での定義と異なる場合がある）。\n",
    "\n",
    "# --------------------------------\n",
    "# ewm() オブジェクトを生成\n",
    "ewma_pd = data.ewm(alpha=0.8, adjust=False)\n",
    "\n",
    "# --------------------------------\n",
    "# mean() によって実際に平滑化を実行\n",
    "# 各時点 t において、過去の観測値に指数的な重みを付けて平均を計算する。\n",
    "ewma_pd.mean()\n",
    "\n",
    "# 💡 計算イメージ\n",
    "# t=1 から順に以下の再帰式で更新される：\n",
    "#     ŷ₁ = y₁\n",
    "#     ŷ_t = α * y_t + (1 - α) * ŷ_{t-1}   （t ≥ 2）\n",
    "#\n",
    "# これにより、最新の観測値に最も大きな重みが与えられ、\n",
    "# 過去に遡るほど重みが指数的に減少していく。"
   ]
  },
  {
   "cell_type": "code",
   "execution_count": 14,
   "id": "53c339b8",
   "metadata": {},
   "outputs": [
    {
     "data": {
      "text/plain": [
       "0    0.00\n",
       "1    0.80\n",
       "2    1.76\n",
       "dtype: float64"
      ]
     },
     "execution_count": 14,
     "metadata": {},
     "output_type": "execute_result"
    }
   ],
   "source": [
    "# ================================================\n",
    "# 単純指数平滑法（Simple Exponential Smoothing）\n",
    "# ================================================\n",
    "# statsmodels.tsa.holtwinters.SimpleExpSmoothing は\n",
    "# 「単純指数平滑法（Simple Exponential Smoothing）」を実装するクラスである。\n",
    "#\n",
    "# 基本式：\n",
    "#   ŷ_t = α * y_t + (1 - α) * ŷ_{t-1}\n",
    "#   （α：平滑化定数, 0 < α ≤ 1）\n",
    "#\n",
    "# 目的：\n",
    "#   最新の観測値を重視しつつ、過去の観測値を指数的に減衰させて平均化する。\n",
    "#   トレンドや季節性を持たない系列（定常系列）に有効。\n",
    "\n",
    "# --------------------------------\n",
    "# モデルの構築\n",
    "# --------------------------------\n",
    "ewma_sm = tsa.SimpleExpSmoothing(\n",
    "    data,\n",
    "    initialization_method=\"known\",  # 初期化方法を指定\n",
    "    initial_level=0,  # 初期値（ŷ₁）を明示的に 0 に設定\n",
    ").fit(\n",
    "    smoothing_level=0.8,  # 平滑化定数 α = 0.8\n",
    "    optimized=False,  # α を自動最適化せず、手動で指定\n",
    ")\n",
    "\n",
    "# --------------------------------\n",
    "# 当てはめ値（fittedvalues）の取得\n",
    "# --------------------------------\n",
    "# 各時点 t における指数平滑予測値 ŷ_t が格納されている。\n",
    "# 再帰式：\n",
    "#     ŷ₁ = 0  （初期値）\n",
    "#     ŷ_t = 0.8 * y_t + 0.2 * ŷ_{t-1}\n",
    "# として逐次的に更新されていく。\n",
    "ewma_sm.fittedvalues\n",
    "\n",
    "# 💡メモ：\n",
    "#   initialization_method='known' により、初期レベルを明示的に指定可能。\n",
    "#   これを 'heuristic' や 'estimated' にすると、自動的に初期値を推定してくれる。"
   ]
  },
  {
   "cell_type": "code",
   "execution_count": 15,
   "id": "8855c027",
   "metadata": {},
   "outputs": [
    {
     "data": {
      "text/plain": [
       "3    2.752\n",
       "dtype: float64"
      ]
     },
     "execution_count": 15,
     "metadata": {},
     "output_type": "execute_result"
    }
   ],
   "source": [
    "# ================================================\n",
    "# 1期先の予測（forecast）\n",
    "# ================================================\n",
    "# SimpleExpSmoothing.fit() で得られたモデル ewma_sm を使って、\n",
    "# 次の時点（t+1）の予測値を計算する。\n",
    "#\n",
    "# 単純指数平滑法における1期先予測の理論式：\n",
    "#   ŷ_{t+1} = ŷ_t\n",
    "#\n",
    "# → すなわち、次の時点の予測値は「最新の平滑値」と等しい。\n",
    "#   （未来に関する追加情報がないため、一定値を保つ形になる）\n",
    "\n",
    "ewma_sm.forecast(1)\n",
    "\n",
    "# 出力例：\n",
    "# 4    2.4138\n",
    "# dtype: float64\n",
    "#\n",
    "# ※これは「4時点目の予測値」を意味する。\n",
    "#   3時点目までのデータをもとに、指数的に重み付けして求められた\n",
    "#   最新の平滑値が次の期（t+1）の予測値となる。"
   ]
  },
  {
   "cell_type": "code",
   "execution_count": 16,
   "id": "81375b4b",
   "metadata": {},
   "outputs": [
    {
     "data": {
      "text/plain": [
       "0    1.0\n",
       "1    1.0\n",
       "2    1.8\n",
       "dtype: float64"
      ]
     },
     "execution_count": 16,
     "metadata": {},
     "output_type": "execute_result"
    }
   ],
   "source": [
    "# ================================================\n",
    "# 初期値を「初期データ（最初の観測値）」に設定した場合の指数平滑法\n",
    "# ================================================\n",
    "\n",
    "# initialization_method='legacy-heuristic' を指定すると、\n",
    "# 初期平滑値（level_0）を「最初の観測値 y₁」として設定する。\n",
    "# これは古典的な指数平滑法の実装方法であり、\n",
    "# 多くの教科書で紹介される手法に対応する。\n",
    "\n",
    "ewma_sm_lh = tsa.SimpleExpSmoothing(\n",
    "    data, initialization_method=\"legacy-heuristic\"  # 初期値 = 最初のデータ点\n",
    ").fit(\n",
    "    smoothing_level=0.8, optimized=False\n",
    ")  # 平滑化定数 α=0.8 を手動指定\n",
    "\n",
    "# 当てはめ値（fittedvalues）を確認\n",
    "# ----------------------------------------\n",
    "# 各時点における指数平滑化後の値（予測値）を出力する。\n",
    "# この値は以下の漸化式で計算される：\n",
    "#\n",
    "#   ŷ_t = α·y_{t-1} + (1−α)·ŷ_{t−1}\n",
    "#\n",
    "# ただし、初期値として：\n",
    "#   ŷ₁ = y₁\n",
    "#\n",
    "# つまり、最初の観測値が初期状態となるため、\n",
    "# 初期値0のときよりも系列にスムーズに追従する結果となる。\n",
    "\n",
    "ewma_sm_lh.fittedvalues"
   ]
  },
  {
   "cell_type": "code",
   "execution_count": 17,
   "id": "1fedb908",
   "metadata": {},
   "outputs": [
    {
     "data": {
      "text/plain": [
       "3    2.76\n",
       "dtype: float64"
      ]
     },
     "execution_count": 17,
     "metadata": {},
     "output_type": "execute_result"
    }
   ],
   "source": [
    "# ================================================\n",
    "# 1期先予測（単純指数平滑法）\n",
    "# ================================================\n",
    "\n",
    "# forecast(1) は、次の1時点先（t+1）の予測値を返す。\n",
    "# 単純指数平滑法における1期先予測は以下の式で表される：\n",
    "#\n",
    "#   ŷ_{t+1} = ŷ_t\n",
    "#\n",
    "# つまり、「次の予測値」は「直前の平滑値」と等しい。\n",
    "# これは、指数平滑法が“将来の変動を考慮しない”モデル\n",
    "# （＝ランダムウォーク型の平滑予測）であることを意味する。\n",
    "\n",
    "ewma_sm_lh.forecast(1)"
   ]
  },
  {
   "cell_type": "code",
   "execution_count": 18,
   "id": "5f030242",
   "metadata": {},
   "outputs": [
    {
     "data": {
      "text/plain": [
       "0    1.0\n",
       "1    1.0\n",
       "2    2.0\n",
       "dtype: float64"
      ]
     },
     "execution_count": 18,
     "metadata": {},
     "output_type": "execute_result"
    }
   ],
   "source": [
    "# ================================================\n",
    "# 単純指数平滑法：初期値と平滑化定数の最適推定\n",
    "# ================================================\n",
    "\n",
    "# initialization_method='estimated' に設定することで、\n",
    "# モデルが自動的に「初期値 (level_0)」と「平滑化定数 α（alpha）」を推定する。\n",
    "# このとき、損失関数（通常は二乗誤差：Σ(y_t - ŷ_t)^2）を最小化するように\n",
    "# パラメータが最適化される。\n",
    "\n",
    "ewma_best = tsa.SimpleExpSmoothing(data, initialization_method=\"estimated\").fit()\n",
    "\n",
    "# ------------------------------------------------\n",
    "# fittedvalues：訓練データ期間における当てはめ値\n",
    "# ------------------------------------------------\n",
    "# 各時点での予測値 ŷ_t を表す。\n",
    "# これらは実測値 y_t に対して指数加重平均によって平滑化された値。\n",
    "\n",
    "ewma_best.fittedvalues"
   ]
  },
  {
   "cell_type": "code",
   "execution_count": 19,
   "id": "f5d421bd",
   "metadata": {},
   "outputs": [
    {
     "data": {
      "text/plain": [
       "3    3.0\n",
       "dtype: float64"
      ]
     },
     "execution_count": 19,
     "metadata": {},
     "output_type": "execute_result"
    }
   ],
   "source": [
    "# ================================================\n",
    "# 1期先予測（最適パラメータによる指数平滑法）\n",
    "# ================================================\n",
    "\n",
    "# forecast(1) は、「次の1時点先（t+1）」の予測値を返す。\n",
    "# 単純指数平滑法では次の式で表される：\n",
    "#\n",
    "#   ŷ_{t+1} = α * y_t + (1 - α) * ŷ_t\n",
    "#\n",
    "# ただし、モデルが最適に推定した平滑化定数 α（alpha）と\n",
    "# 初期値（level_0）を用いて算出される。\n",
    "#\n",
    "# 👉 この予測値は「直前の平滑値」と同じであり、\n",
    "#    将来の予測は一定（＝水平な予測線）となるのが特徴。\n",
    "\n",
    "ewma_best.forecast(1)"
   ]
  },
  {
   "cell_type": "code",
   "execution_count": 20,
   "id": "20df3b19",
   "metadata": {},
   "outputs": [
    {
     "data": {
      "text/plain": [
       "{'smoothing_level': 0.9999999850988374,\n",
       " 'smoothing_trend': nan,\n",
       " 'smoothing_seasonal': nan,\n",
       " 'damping_trend': nan,\n",
       " 'initial_level': 1.0000000088092982,\n",
       " 'initial_trend': nan,\n",
       " 'initial_seasons': array([], dtype=float64),\n",
       " 'use_boxcox': False,\n",
       " 'lamda': None,\n",
       " 'remove_bias': False}"
      ]
     },
     "execution_count": 20,
     "metadata": {},
     "output_type": "execute_result"
    }
   ],
   "source": [
    "# ================================================\n",
    "# 推定されたパラメータの確認\n",
    "# ================================================\n",
    "\n",
    "# SimpleExpSmoothing.fit() の結果オブジェクトでは、\n",
    "# 推定されたパラメータが `params` 属性に格納されている。\n",
    "#\n",
    "# 主な内容は以下の通り：\n",
    "# --------------------------------\n",
    "# smoothing_level : α（平滑化定数）\n",
    "#   → 新しい観測値をどの程度重視するかを表すパラメータ。\n",
    "#     値が1に近いほど最新のデータを強く反映する。\n",
    "#\n",
    "# initial_level   : 初期値（level_0）\n",
    "#   → 平滑化を始める際の最初の予測値。\n",
    "#     通常はデータの先頭値か、最適化によって推定される。\n",
    "#\n",
    "# SSE             : 残差平方和（誤差の合計）\n",
    "#   → モデル当てはめ時の誤差の総量を表す。\n",
    "# --------------------------------\n",
    "\n",
    "ewma_best.params"
   ]
  },
  {
   "cell_type": "code",
   "execution_count": 21,
   "id": "354187d8",
   "metadata": {},
   "outputs": [
    {
     "name": "stdout",
     "output_type": "stream",
     "text": [
      "yhat ：2時点目 1.2 | 3時点目 2.56 | 4時点目 3.808\n",
      "level：1時点目 0.8 | 2時点目 1.84 | 3時点目 2.912\n",
      "trend：1時点目 0.4 | 2時点目 0.72 | 3時点目 0.896\n"
     ]
    }
   ],
   "source": [
    "# ================================================\n",
    "# 二重指数平滑法（Holtの線形法）の手計算による実装例\n",
    "# ================================================\n",
    "\n",
    "# このモデルは「トレンド（傾き）」も考慮するため、\n",
    "# 単純指数平滑法を拡張した形となる。\n",
    "#\n",
    "# 【基本式】\n",
    "# -----------------------------------------------\n",
    "#  レベル（平滑化された水準）:\n",
    "#      l_t = α * y_t + (1 - α) * (l_{t-1} + d_{t-1})\n",
    "#\n",
    "#  トレンド（傾き）:\n",
    "#      d_t = β * (l_t - l_{t-1}) + (1 - β) * d_{t-1}\n",
    "#\n",
    "#  予測値（1期先予測）:\n",
    "#      ŷ_{t+1} = l_t + d_t\n",
    "# -----------------------------------------------\n",
    "#\n",
    "# α : 水準の平滑化定数（最近の観測値をどの程度重視するか）\n",
    "# β : トレンドの平滑化定数（最近の傾きをどの程度重視するか）\n",
    "#\n",
    "# ※ 初期値 (l0, d0) はしばしばデータの最初の観測値とその変化率で近似する。\n",
    "\n",
    "# 平滑化定数\n",
    "alpha = 0.8\n",
    "beta = 0.5\n",
    "\n",
    "# 初期値\n",
    "l0 = 0  # 初期レベル\n",
    "d0 = 0  # 初期トレンド\n",
    "yhat1 = l0 + d0  # 初期予測値（1時点目の予測）\n",
    "\n",
    "# ---- 以下、逐次更新 ----\n",
    "# t = 1\n",
    "l1 = alpha * data[0] + (1 - alpha) * (l0 + d0)\n",
    "d1 = beta * (l1 - l0) + (1 - beta) * d0\n",
    "yhat2 = l1 + d1  # 2時点目の予測値\n",
    "\n",
    "# t = 2\n",
    "l2 = alpha * data[1] + (1 - alpha) * (l1 + d1)\n",
    "d2 = beta * (l2 - l1) + (1 - beta) * d1\n",
    "yhat3 = l2 + d2  # 3時点目の予測値\n",
    "\n",
    "# t = 3\n",
    "l3 = alpha * data[2] + (1 - alpha) * (l2 + d2)\n",
    "d3 = beta * (l3 - l2) + (1 - beta) * d2\n",
    "yhat4 = l3 + d3  # 4時点目の予測値\n",
    "\n",
    "# 結果の確認\n",
    "print(f\"yhat ：2時点目 {yhat2:.4g} | 3時点目 {yhat3:.4g} | 4時点目 {yhat4:.4g}\")\n",
    "print(f\"level：1時点目 {l1:.3g} | 2時点目 {l2:.3g} | 3時点目 {l3:.4g}\")\n",
    "print(f\"trend：1時点目 {d1:.3g} | 2時点目 {d2:.3g} | 3時点目 {d3:.4g}\")"
   ]
  },
  {
   "cell_type": "code",
   "execution_count": 22,
   "id": "9a5695d6",
   "metadata": {},
   "outputs": [],
   "source": [
    "# ================================================\n",
    "# Holt法（二重指数平滑法）の実装（パラメータ固定）\n",
    "# ================================================\n",
    "\n",
    "# Holt法は単純指数平滑法を拡張し、\n",
    "# 「水準（level）」と「トレンド（trend）」の両方を推定して\n",
    "# 将来の変化傾向を考慮した予測を行う。\n",
    "\n",
    "# 【モデル概要】\n",
    "# -----------------------------------------------\n",
    "# レベルの更新式：\n",
    "#     l_t = α * y_t + (1 - α) * (l_{t-1} + d_{t-1})\n",
    "#\n",
    "# トレンドの更新式：\n",
    "#     d_t = β * (l_t - l_{t-1}) + (1 - β) * d_{t-1}\n",
    "#\n",
    "# 予測値：\n",
    "#     ŷ_{t+h} = l_t + h * d_t\n",
    "# -----------------------------------------------\n",
    "# α：水準の平滑化定数（最近のデータへの重み）\n",
    "# β：トレンドの平滑化定数（最近の傾きへの重み）\n",
    "#\n",
    "# initialization_method='known' を指定しているため、\n",
    "# 初期レベルと初期トレンドを手動で与える。\n",
    "\n",
    "holt = tsa.Holt(\n",
    "    data,\n",
    "    initialization_method=\"known\",  # 初期値を手動で設定する\n",
    "    initial_level=0,  # 初期レベル l₀ = 0\n",
    "    initial_trend=0,  # 初期トレンド d₀ = 0\n",
    ").fit(\n",
    "    smoothing_level=0.8,  # 水準の平滑化定数 α = 0.8\n",
    "    smoothing_trend=0.5,  # トレンドの平滑化定数 β = 0.5\n",
    "    optimized=False,  # α・βを自動推定しない（固定値を使用）\n",
    ")"
   ]
  },
  {
   "cell_type": "code",
   "execution_count": 23,
   "id": "bbf7a485",
   "metadata": {},
   "outputs": [
    {
     "data": {
      "text/plain": [
       "0    0.00\n",
       "1    1.20\n",
       "2    2.56\n",
       "dtype: float64"
      ]
     },
     "execution_count": 23,
     "metadata": {},
     "output_type": "execute_result"
    }
   ],
   "source": [
    "# ================================================\n",
    "# Holt法の当てはめ値（fittedvalues）の確認\n",
    "# ================================================\n",
    "\n",
    "# `fittedvalues` は、各時点における「モデルが出した予測値（ŷ_t）」。\n",
    "# これは実際の観測値 y_t と比較して、モデルがどれだけデータに適合しているかを確認するために用いる。\n",
    "\n",
    "# Holt法では次の式で算出される：\n",
    "#     ŷ_t = l_{t-1} + d_{t-1}\n",
    "#\n",
    "# → t時点の予測は、1期前のレベルとトレンドを足し合わせた値。\n",
    "\n",
    "# この fittedvalues と実測値 y_t の差を取ることで、\n",
    "# 残差系列（誤差）を得ることができる。\n",
    "# ================================================\n",
    "\n",
    "holt.fittedvalues"
   ]
  },
  {
   "cell_type": "code",
   "execution_count": 24,
   "id": "877787ec",
   "metadata": {},
   "outputs": [
    {
     "data": {
      "text/plain": [
       "0    0.800\n",
       "1    1.840\n",
       "2    2.912\n",
       "dtype: float64"
      ]
     },
     "execution_count": 24,
     "metadata": {},
     "output_type": "execute_result"
    }
   ],
   "source": [
    "# ================================================\n",
    "# Holt法における水準成分（level）の確認\n",
    "# ================================================\n",
    "\n",
    "# `holt.level` は、各時点での「水準（level, l_t）」の系列を示す。\n",
    "# Holt法では、データの基本的な水準（平均的な位置）を更新していくために、\n",
    "# 次のような式で逐次的に更新される：\n",
    "\n",
    "#   l_t = α * y_t + (1 - α) * (l_{t-1} + d_{t-1})\n",
    "\n",
    "# ここで：\n",
    "#   - α（alpha）：水準の平滑化定数（0 < α < 1）\n",
    "#   - y_t：観測値\n",
    "#   - l_{t-1}：1期前の水準\n",
    "#   - d_{t-1}：1期前のトレンド成分\n",
    "\n",
    "# この `level` を見ることで、データの平均的な位置（トレンドを含む基礎水準）が\n",
    "# 時系列とともにどのように変化しているかを把握できる。\n",
    "# ================================================\n",
    "\n",
    "holt.level"
   ]
  },
  {
   "cell_type": "code",
   "execution_count": 25,
   "id": "033bbf76",
   "metadata": {},
   "outputs": [
    {
     "data": {
      "text/plain": [
       "0    0.400\n",
       "1    0.720\n",
       "2    0.896\n",
       "dtype: float64"
      ]
     },
     "execution_count": 25,
     "metadata": {},
     "output_type": "execute_result"
    }
   ],
   "source": [
    "# ================================================\n",
    "# Holt法におけるトレンド成分（trend）の確認\n",
    "# ================================================\n",
    "\n",
    "# `holt.trend` は、各時点における「トレンド（傾き, d_t）」の系列を示す。\n",
    "# Holt法では、データの増減傾向をモデル化するために、\n",
    "# 次の更新式でトレンド成分が計算される：\n",
    "\n",
    "#   d_t = β * (l_t - l_{t-1}) + (1 - β) * d_{t-1}\n",
    "\n",
    "# ここで：\n",
    "#   - β（beta）：トレンドの平滑化定数（0 < β < 1）\n",
    "#   - l_t：現在時点の水準\n",
    "#   - l_{t-1}：1期前の水準\n",
    "#   - d_{t-1}：1期前のトレンド\n",
    "\n",
    "# この `trend` を確認することで、\n",
    "# データが時間とともに上昇傾向なのか、下降傾向なのかを定量的に把握できる。\n",
    "# すなわち Holt法では「水準（level）」と「傾き（trend）」を\n",
    "# 同時に更新しながら予測を行う。\n",
    "# ================================================\n",
    "\n",
    "holt.trend"
   ]
  },
  {
   "cell_type": "code",
   "execution_count": 26,
   "id": "54cd3fb2",
   "metadata": {},
   "outputs": [
    {
     "data": {
      "text/plain": [
       "3    3.808\n",
       "dtype: float64"
      ]
     },
     "execution_count": 26,
     "metadata": {},
     "output_type": "execute_result"
    }
   ],
   "source": [
    "# 参考：予測値\n",
    "holt.forecast(1)"
   ]
  },
  {
   "cell_type": "code",
   "execution_count": 28,
   "id": "6004919e",
   "metadata": {},
   "outputs": [
    {
     "data": {
      "text/plain": [
       "{'smoothing_level': 0.9999999850988388,\n",
       " 'smoothing_trend': 0.0,\n",
       " 'smoothing_seasonal': nan,\n",
       " 'damping_trend': nan,\n",
       " 'initial_level': -7.607684416427452e-05,\n",
       " 'initial_trend': 1.000114994676615,\n",
       " 'initial_seasons': array([], dtype=float64),\n",
       " 'use_boxcox': False,\n",
       " 'lamda': None,\n",
       " 'remove_bias': False}"
      ]
     },
     "execution_count": 28,
     "metadata": {},
     "output_type": "execute_result"
    }
   ],
   "source": [
    "# ================================================\n",
    "# Holt法（2次指数平滑法）のパラメータ推定\n",
    "# ================================================\n",
    "\n",
    "# Holt法は、「水準（level）」と「トレンド（trend）」を持つ\n",
    "# 2次指数平滑法であり、単純指数平滑法（SES）を拡張したもの。\n",
    "# 時系列データに明確なトレンド成分が存在する場合に有効である。\n",
    "\n",
    "# initialization_method='estimated' を指定することで、\n",
    "# 初期値（l₀, d₀）および平滑化定数（α, β）を\n",
    "# データから最尤推定（MLE）によって自動的に求める。\n",
    "\n",
    "# --------------------------------\n",
    "# モデルの学習（パラメータ推定）\n",
    "# --------------------------------\n",
    "holt_best = tsa.Holt(data, initialization_method=\"estimated\").fit()\n",
    "\n",
    "# --------------------------------\n",
    "# 推定されたパラメータの確認\n",
    "# --------------------------------\n",
    "# 【出力項目の意味】\n",
    "#   smoothing_level : α（水準の平滑化定数）\n",
    "#   smoothing_trend : β（トレンドの平滑化定数）\n",
    "#   initial_level   : l₀（初期の水準）\n",
    "#   initial_trend   : d₀（初期のトレンド）\n",
    "# これらはデータの変動傾向を最もよく表すよう最尤推定で求められる。\n",
    "# ================================================\n",
    "\n",
    "holt_best.params"
   ]
  },
  {
   "cell_type": "code",
   "execution_count": 29,
   "id": "d1457dc6",
   "metadata": {},
   "outputs": [
    {
     "data": {
      "text/plain": [
       "0    1.000039\n",
       "1    2.000115\n",
       "2    3.000115\n",
       "dtype: float64"
      ]
     },
     "execution_count": 29,
     "metadata": {},
     "output_type": "execute_result"
    }
   ],
   "source": [
    "# ================================================\n",
    "# Holt法（2次指数平滑法）の当てはめ値の確認\n",
    "# ================================================\n",
    "\n",
    "# `holt_best.fittedvalues` は、各時点での予測値（当てはめ値, fitted values）を表す。\n",
    "# Holt法では、次の式により水準とトレンドを用いて予測が行われる：\n",
    "\n",
    "#   ŷ_t = l_{t-1} + d_{t-1}\n",
    "\n",
    "# ここで：\n",
    "#   - ŷ_t：時点 t における1期先の予測値\n",
    "#   - l_{t-1}：1期前の水準（level）\n",
    "#   - d_{t-1}：1期前のトレンド（trend）\n",
    "\n",
    "# 当てはめ値は、実際の観測値 y_t と比較することで\n",
    "# Holt法がどれだけデータの変動をうまく追随しているかを確認できる。\n",
    "# ================================================\n",
    "\n",
    "holt_best.fittedvalues"
   ]
  },
  {
   "cell_type": "code",
   "execution_count": 30,
   "id": "5eaaee0f",
   "metadata": {},
   "outputs": [
    {
     "data": {
      "text/plain": [
       "3    4.000115\n",
       "dtype: float64"
      ]
     },
     "execution_count": 30,
     "metadata": {},
     "output_type": "execute_result"
    }
   ],
   "source": [
    "# ================================================\n",
    "# Holt法（2次指数平滑法）による1期先予測\n",
    "# ================================================\n",
    "\n",
    "# `forecast(1)` は、学習済みモデルを用いて1期先の予測値を算出する。\n",
    "# Holt法では次のように予測が行われる：\n",
    "\n",
    "#   ŷ_{t+h} = l_t + h * d_t\n",
    "\n",
    "# ここで：\n",
    "#   - ŷ_{t+h}：時点 t から h 期先の予測値\n",
    "#   - l_t    ：時点 t における水準成分（level）\n",
    "#   - d_t    ：時点 t におけるトレンド成分（trend）\n",
    "#   - h      ：予測のステップ数（今回は 1）\n",
    "\n",
    "# つまり、最新の水準 l_t とトレンド d_t を使い、\n",
    "# 直線的に未来を外挿する形で予測を行う。\n",
    "# ================================================\n",
    "\n",
    "holt_best.forecast(1)"
   ]
  },
  {
   "cell_type": "code",
   "execution_count": 31,
   "id": "22d3db52",
   "metadata": {},
   "outputs": [
    {
     "data": {
      "text/plain": [
       "3      NaN\n",
       "4    0.896\n",
       "5    0.896\n",
       "dtype: float64"
      ]
     },
     "execution_count": 31,
     "metadata": {},
     "output_type": "execute_result"
    }
   ],
   "source": [
    "# ================================================\n",
    "# Holt法における予測値の増減（トレンドの確認）\n",
    "# ================================================\n",
    "\n",
    "# `holt.forecast(3)` は3期先までの予測値を生成する。\n",
    "# `.diff()` によって、連続する予測値の差（＝増減量）を計算している。\n",
    "\n",
    "# Holt法の特徴として、トレンド成分 d_t が一定であるため、\n",
    "# 予測値の増減（1期ごとの差分）はすべて同じ値になる。\n",
    "# これは以下の理論式に基づく：\n",
    "\n",
    "#   ŷ_{t+h} = l_t + h * d_t\n",
    "#   → 差分：ŷ_{t+h} - ŷ_{t+(h-1)} = d_t\n",
    "\n",
    "# よって、この `.diff()` の結果が一定値であれば、\n",
    "# Holt法による線形的トレンド予測が正しく動作していることを意味する。\n",
    "# ================================================\n",
    "\n",
    "holt.forecast(3).diff()"
   ]
  },
  {
   "cell_type": "code",
   "execution_count": 32,
   "id": "98cff71d",
   "metadata": {},
   "outputs": [
    {
     "name": "stdout",
     "output_type": "stream",
     "text": [
      "yhat：2時点目 1.16 | 3時点目 2.458 | 4時点目 3.65\n",
      "level：1時点目 0.8 | 2時点目 1.83 | 3時点目 2.892\n",
      "trend：1時点目 0.4 | 2時点目 0.696 | 3時点目 0.843\n"
     ]
    }
   ],
   "source": [
    "# ================================================\n",
    "# 減衰トレンド付き Holt 法（Damped Trend Holt）の手計算例\n",
    "# ================================================\n",
    "# これは Holt 法に「トレンドの減衰パラメータ φ（phi）」を導入した拡張版。\n",
    "# 予測期間が長くなるにつれて、トレンド成分の影響を徐々に小さくするモデルである。\n",
    "#\n",
    "# Holt法：      ŷ_{t+h} = l_t + h * d_t\n",
    "# 減衰Holt法：  ŷ_{t+h} = l_t + d_t * (φ + φ² + … + φ^h)\n",
    "# （φ < 1 の場合、長期予測ではトレンドが次第にゼロに近づく）\n",
    "#\n",
    "# α（alpha）：水準の平滑化定数（level smoothing）\n",
    "# β（beta）：トレンドの平滑化定数（trend smoothing）\n",
    "# φ（phi）：トレンド減衰率（0 < φ ≤ 1）\n",
    "# ================================================\n",
    "\n",
    "# トレンドの減衰率のパラメータ設定（φ = 0.9）\n",
    "phi = 0.9\n",
    "\n",
    "# 初期の予測値（初期レベル l0 と初期トレンド d0 を用いる）\n",
    "yhat1 = l0 + phi * d0\n",
    "\n",
    "# 各時点で水準 l_t とトレンド d_t を更新しながら、予測値 yhat_t を計算\n",
    "l1 = alpha * data[0] + (1 - alpha) * (l0 + phi * d0)\n",
    "d1 = beta * (l1 - l0) + (1 - beta) * phi * d0\n",
    "yhat2 = l1 + phi * d1\n",
    "\n",
    "l2 = alpha * data[1] + (1 - alpha) * (l1 + phi * d1)\n",
    "d2 = beta * (l2 - l1) + (1 - beta) * phi * d1\n",
    "yhat3 = l2 + phi * d2\n",
    "\n",
    "l3 = alpha * data[2] + (1 - alpha) * (l2 + phi * d2)\n",
    "d3 = beta * (l3 - l2) + (1 - beta) * phi * d2\n",
    "yhat4 = l3 + phi * d3\n",
    "\n",
    "# 結果の確認：各時点の予測値・レベル・トレンドを表示\n",
    "print(f\"yhat：2時点目 {yhat2:.4g} | 3時点目 {yhat3:.4g} | 4時点目 {yhat4:.4g}\")\n",
    "print(f\"level：1時点目 {l1:.3g} | 2時点目 {l2:.3g} | 3時点目 {l3:.4g}\")\n",
    "print(f\"trend：1時点目 {d1:.3g} | 2時点目 {d2:.3g} | 3時点目 {d3:.4g}\")"
   ]
  },
  {
   "cell_type": "code",
   "execution_count": 33,
   "id": "14be2f21",
   "metadata": {},
   "outputs": [],
   "source": [
    "# ================================================\n",
    "# 減衰トレンド付き Holt 法（Damped Trend Holt）の実装例\n",
    "# ================================================\n",
    "# statsmodels の Holt クラスでは、damped_trend=True を指定すると\n",
    "# トレンド成分の影響を減衰させながら予測を行う。\n",
    "#\n",
    "# 減衰パラメータ（φ, damping_trend）を 0.9 に設定すると、\n",
    "# 予測期間が長くなるにつれてトレンドの影響が徐々に小さくなる。\n",
    "#\n",
    "# initialization_method='known'：\n",
    "#   明示的に初期レベル・トレンドを指定する（ここでは両方0）\n",
    "#\n",
    "# smoothing_level（α）：水準の平滑化係数\n",
    "# smoothing_trend（β）：トレンドの平滑化係数\n",
    "# damping_trend（φ）：トレンド減衰率（0 < φ ≤ 1）\n",
    "# optimized=False：\n",
    "#   パラメータを自動推定せず、手動設定した値を使用\n",
    "# ================================================\n",
    "\n",
    "holt_damped = tsa.Holt(\n",
    "    data,\n",
    "    initialization_method=\"known\",  # 初期化方法を指定\n",
    "    initial_level=0,  # 初期レベル l0 = 0\n",
    "    initial_trend=0,  # 初期トレンド d0 = 0\n",
    "    damped_trend=True,  # トレンド減衰を有効化\n",
    ").fit(\n",
    "    smoothing_level=0.8,  # α（レベル平滑化定数）\n",
    "    smoothing_trend=0.5,  # β（トレンド平滑化定数）\n",
    "    damping_trend=0.9,  # φ（減衰パラメータ）\n",
    "    optimized=False,  # パラメータの自動最適化を行わない\n",
    ")"
   ]
  },
  {
   "cell_type": "code",
   "execution_count": 34,
   "id": "2a9f14f7",
   "metadata": {},
   "outputs": [
    {
     "data": {
      "text/plain": [
       "0    0.0000\n",
       "1    1.1600\n",
       "2    2.4584\n",
       "dtype: float64"
      ]
     },
     "execution_count": 34,
     "metadata": {},
     "output_type": "execute_result"
    }
   ],
   "source": [
    "# ================================================\n",
    "# 減衰トレンド付き Holt 法の当てはめ値（fittedvalues）\n",
    "# ================================================\n",
    "# holt_damped.fittedvalues では、\n",
    "# 各時点 t におけるモデルの予測値（= 当てはめ値）を取得できる。\n",
    "#\n",
    "# Holt法の基本構造：\n",
    "#   水準： l_t = α * y_t + (1 - α) * (l_{t-1} + φ * d_{t-1})\n",
    "#   トレンド： d_t = β * (l_t - l_{t-1}) + (1 - β) * φ * d_{t-1}\n",
    "#   予測値： ŷ_t = l_{t-1} + φ * d_{t-1}\n",
    "#\n",
    "# φ < 1 の場合、トレンド成分が次第に減衰していくため、\n",
    "# 通常の Holt 法（φ = 1）に比べて将来の成長・減少を\n",
    "# やや抑えた形で予測する。\n",
    "# ================================================\n",
    "\n",
    "holt_damped.fittedvalues"
   ]
  },
  {
   "cell_type": "code",
   "execution_count": 35,
   "id": "8a670396",
   "metadata": {},
   "outputs": [
    {
     "data": {
      "text/plain": [
       "3    3.650416\n",
       "4    4.333278\n",
       "5    4.947855\n",
       "dtype: float64"
      ]
     },
     "execution_count": 35,
     "metadata": {},
     "output_type": "execute_result"
    }
   ],
   "source": [
    "# ================================================\n",
    "# 減衰トレンド付き Holt 法の予測値\n",
    "# ================================================\n",
    "# forecast(3) では、学習済みモデルに基づいて\n",
    "# 「3期先」までの将来予測値を出力する。\n",
    "#\n",
    "# 予測式：\n",
    "#   ŷ_{t+h} = l_t + (φ + φ² + ... + φ^h) * d_t\n",
    "#\n",
    "# φ（減衰パラメータ）が 1 より小さい場合（例：φ=0.9）、\n",
    "# 将来に行くほどトレンド寄与が小さくなり、\n",
    "# 予測値は次第に水準値（l_t）に収束していく。\n",
    "#\n",
    "# これにより、過大な線形外挿を防ぎ、\n",
    "# 実データのように「成長が鈍化する」傾向を再現できる。\n",
    "# ================================================\n",
    "\n",
    "holt_damped.forecast(3)"
   ]
  },
  {
   "cell_type": "code",
   "execution_count": 36,
   "id": "4b2e223b",
   "metadata": {},
   "outputs": [
    {
     "data": {
      "text/plain": [
       "3         NaN\n",
       "4    0.682862\n",
       "5    0.614576\n",
       "dtype: float64"
      ]
     },
     "execution_count": 36,
     "metadata": {},
     "output_type": "execute_result"
    }
   ],
   "source": [
    "# ================================================\n",
    "# 減衰トレンド付き Holt 法における「増減量」の確認\n",
    "# ================================================\n",
    "# forecast(3).diff() により、\n",
    "# 各予測時点間の差（＝増減量、Δŷ）を計算している。\n",
    "#\n",
    "# 通常の Holt 法（φ = 1）では：\n",
    "#   各期間の増減量（Δŷ）は一定（＝トレンド d_t が固定）\n",
    "#\n",
    "# 一方、減衰トレンド付き Holt 法（φ < 1）では：\n",
    "#   各期間の増減量が次第に小さくなる。\n",
    "#   理由は、トレンド項 d_t が毎期 φ 倍ずつ減衰するため。\n",
    "#\n",
    "# 式：\n",
    "#   Δŷ_{t+h} = φ^h * d_t\n",
    "#\n",
    "# → したがって、h が大きくなるほど φ^h が小さくなり、\n",
    "#    予測線は次第に水平（成長の鈍化）に近づく。\n",
    "# ================================================\n",
    "\n",
    "holt_damped.forecast(3).diff()"
   ]
  },
  {
   "cell_type": "code",
   "execution_count": 37,
   "id": "d931ace8",
   "metadata": {},
   "outputs": [
    {
     "name": "stdout",
     "output_type": "stream",
     "text": [
      "2時点先予測の増減量： 0.682862\n",
      "3時点先予測の増減量： 0.614576\n"
     ]
    }
   ],
   "source": [
    "# ================================================\n",
    "# 減衰トレンドモデルの「将来の増減量」を理論的に確認\n",
    "# ================================================\n",
    "# Holt の減衰トレンドモデルでは、\n",
    "#   φ（phi） < 1 のとき、トレンド成分が指数的に減衰する。\n",
    "#\n",
    "# 各 h 期先の予測における増減量 Δŷ_{t+h} は：\n",
    "#       Δŷ_{t+h} = φ^h * d_t\n",
    "# で表される。\n",
    "#\n",
    "# 以下では、現在時点のトレンド d3 に基づいて、\n",
    "# 2期先・3期先の増減量を理論値として計算している。\n",
    "# ================================================\n",
    "\n",
    "print(f\"2時点先予測の増減量： {d3 * phi ** 2:.6g}\")\n",
    "print(f\"3時点先予測の増減量： {d3 * phi ** 3:.6g}\")"
   ]
  },
  {
   "cell_type": "code",
   "execution_count": null,
   "id": "0fc462ed",
   "metadata": {},
   "outputs": [],
   "source": []
  }
 ],
 "metadata": {
  "kernelspec": {
   "display_name": "py_tsa_venv",
   "language": "python",
   "name": "python3"
  },
  "language_info": {
   "codemirror_mode": {
    "name": "ipython",
    "version": 3
   },
   "file_extension": ".py",
   "mimetype": "text/x-python",
   "name": "python",
   "nbconvert_exporter": "python",
   "pygments_lexer": "ipython3",
   "version": "3.10.13"
  }
 },
 "nbformat": 4,
 "nbformat_minor": 5
}
