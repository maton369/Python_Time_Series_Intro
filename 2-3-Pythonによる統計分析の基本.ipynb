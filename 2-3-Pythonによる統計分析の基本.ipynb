{
 "cells": [
  {
   "cell_type": "code",
   "execution_count": 1,
   "id": "1c33632f",
   "metadata": {},
   "outputs": [],
   "source": [
    "# 数値計算に使うライブラリ\n",
    "import numpy as np\n",
    "import pandas as pd\n",
    "from scipy import stats\n",
    "\n",
    "# 統計モデルを推定するライブラリ\n",
    "import statsmodels.api as sm\n",
    "import statsmodels.formula.api as smf\n",
    "import pmdarima as pm\n",
    "\n",
    "# グラフを描画するライブラリ\n",
    "from matplotlib import pyplot as plt\n",
    "import seaborn as sns\n",
    "\n",
    "sns.set()"
   ]
  },
  {
   "cell_type": "code",
   "execution_count": null,
   "id": "b9ce3ffc",
   "metadata": {},
   "outputs": [],
   "source": [
    "# NumPy配列の表示設定\n",
    "# np.set_printoptions: NumPy配列をprint()したときの表示形式を制御する\n",
    "#   linewidth=80 : 1行あたり80文字を超えたら改行して表示する\n",
    "np.set_printoptions(linewidth=80)\n",
    "\n",
    "# pandasデータフレームの表示設定\n",
    "# pd.set_option(\"display.width\", 80): データフレームをprint()したときに\n",
    "#   横幅80文字を基準に出力を折り返すようにする\n",
    "pd.set_option(\"display.width\", 80)\n",
    "\n",
    "# グラフ描画ライブラリの設定\n",
    "from matplotlib.pylab import rcParams\n",
    "\n",
    "# rcParams: matplotlibの全体的な描画スタイルを管理する設定辞書\n",
    "# \"figure.figsize\": デフォルトの図の大きさ (幅, 高さ) を指定\n",
    "#   ここでは横幅8インチ × 高さ4インチのサイズに固定\n",
    "rcParams[\"figure.figsize\"] = 8, 4"
   ]
  },
  {
   "cell_type": "code",
   "execution_count": 3,
   "id": "0d7a0e05",
   "metadata": {},
   "outputs": [
    {
     "name": "stdout",
     "output_type": "stream",
     "text": [
      "        x\n",
      "0  14.873\n",
      "1   8.165\n",
      "2   8.415\n"
     ]
    }
   ],
   "source": [
    "# データの読み込み\n",
    "df1 = pd.read_csv(\"2-3-1-sample-data-1.csv\")\n",
    "print(df1.head(3))"
   ]
  },
  {
   "cell_type": "code",
   "execution_count": 4,
   "id": "d057587d",
   "metadata": {},
   "outputs": [
    {
     "name": "stdout",
     "output_type": "stream",
     "text": [
      "               x\n",
      "count  30.000000\n",
      "mean    9.820100\n",
      "std     3.079053\n",
      "min     3.095000\n",
      "25%     7.774250\n",
      "50%     9.367500\n",
      "75%    12.384000\n",
      "max    15.234000\n"
     ]
    }
   ],
   "source": [
    "print(df1.describe())"
   ]
  },
  {
   "cell_type": "code",
   "execution_count": 5,
   "id": "c218968f",
   "metadata": {},
   "outputs": [
    {
     "data": {
      "text/plain": [
       "<Axes: xlabel='x', ylabel='Count'>"
      ]
     },
     "execution_count": 5,
     "metadata": {},
     "output_type": "execute_result"
    },
    {
     "data": {
      "image/png": "[encoded data removed]",
      "text/plain": [
       "<Figure size 800x400 with 1 Axes>"
      ]
     },
     "metadata": {},
     "output_type": "display_data"
    }
   ],
   "source": [
    "sns.histplot(df1['x'])"
   ]
  },
  {
   "cell_type": "code",
   "execution_count": null,
   "id": "60616498",
   "metadata": {},
   "outputs": [
    {
     "name": "stdout",
     "output_type": "stream",
     "text": [
      "標本平均 9.82\n",
      "標準偏差 3.027\n",
      "標準誤差 0.562\n",
      "95％区間 [ 8.67 10.97]\n"
     ]
    }
   ],
   "source": [
    "# 平均値の区間推定（信頼区間の計算）\n",
    "\n",
    "# sm.stats.DescrStatsW:\n",
    "#   statsmodels の記述統計クラス\n",
    "#   引数にデータを与えると平均・標準偏差・信頼区間などを計算できる\n",
    "# df1[\"x\"]:\n",
    "#   データフレーム df1 の列 \"x\" を取り出して解析対象とする\n",
    "dsw1 = sm.stats.DescrStatsW(df1[\"x\"])\n",
    "\n",
    "# 標本平均を出力\n",
    "# round(..., 3): 小数点以下3桁に丸める\n",
    "print(\"標本平均\", round(dsw1.mean, 3))\n",
    "\n",
    "# 標準偏差を出力\n",
    "# データのばらつきの大きさを表す\n",
    "print(\"標準偏差\", round(dsw1.std, 3))\n",
    "\n",
    "# 標準誤差を出力\n",
    "# 標本平均が母平均からどの程度ブレるかを表す\n",
    "print(\"標準誤差\", round(dsw1.std_mean, 3))\n",
    "\n",
    "# 平均値の95%信頼区間を出力\n",
    "# tconfint_mean(alpha=0.05):\n",
    "#   有意水準 0.05（=信頼水準95%）での母平均の区間推定\n",
    "# np.round(..., 3): 信頼区間の下限・上限を小数点3桁で丸める\n",
    "print(\"95％区間\", np.round(dsw1.tconfint_mean(alpha=0.05), 3))"
   ]
  },
  {
   "cell_type": "code",
   "execution_count": null,
   "id": "a079d052",
   "metadata": {},
   "outputs": [
    {
     "data": {
      "text/plain": [
       "array([-0.32 ,  0.751, 29.   ])"
      ]
     },
     "execution_count": 7,
     "metadata": {},
     "output_type": "execute_result"
    }
   ],
   "source": [
    "# 母平均に対するt検定（片側・両側検定の指定も可能）\n",
    "\n",
    "# dsw1.ttest_mean:\n",
    "#   母平均に対するt検定を行うメソッド\n",
    "#   引数:\n",
    "#     value=10 → 帰無仮説 H0: 母平均 = 10\n",
    "#     alternative=\"two-sided\" → 両側検定を実施\n",
    "#       （H0: 平均=10 に対して H1: 平均≠10 を検証する）\n",
    "#\n",
    "# 戻り値はタプルで (t値, p値, 自由度)\n",
    "#   t値 : 標本平均が帰無仮説の平均からどの程度離れているかを示す統計量\n",
    "#   p値 : 帰無仮説が正しいときに、これ以上に極端な結果が得られる確率\n",
    "#   df  : 自由度（標本サイズ - 1）\n",
    "#\n",
    "# np.round(..., 3) : 出力結果を小数点3桁に丸める\n",
    "np.round(dsw1.ttest_mean(value=10, alternative=\"two-sided\"), 3)"
   ]
  },
  {
   "cell_type": "code",
   "execution_count": null,
   "id": "3c75c9d1",
   "metadata": {},
   "outputs": [
    {
     "name": "stdout",
     "output_type": "stream",
     "text": [
      "[-0.32   0.624 29.   ]\n",
      "[-0.32   0.376 29.   ]\n"
     ]
    }
   ],
   "source": [
    "# 母平均に対するt検定（片側検定の例）\n",
    "\n",
    "# alternative=\"larger\":\n",
    "#   帰無仮説 H0: 母平均 = 10\n",
    "#   対立仮説 H1: 母平均 > 10 （平均が10より大きいかどうかを検証する片側検定）\n",
    "# 戻り値は (t値, p値, 自由度)\n",
    "print(np.round(dsw1.ttest_mean(value=10, alternative=\"larger\"), 3))\n",
    "\n",
    "# alternative=\"smaller\":\n",
    "#   帰無仮説 H0: 母平均 = 10\n",
    "#   対立仮説 H1: 母平均 < 10 （平均が10より小さいかどうかを検証する片側検定）\n",
    "# 戻り値は (t値, p値, 自由度)\n",
    "print(np.round(dsw1.ttest_mean(value=10, alternative=\"smaller\"), 3))"
   ]
  },
  {
   "cell_type": "code",
   "execution_count": null,
   "id": "4ac3be50",
   "metadata": {},
   "outputs": [
    {
     "data": {
      "text/plain": [
       "array([-0.32 ,  0.751, 29.   ])"
      ]
     },
     "execution_count": 9,
     "metadata": {},
     "output_type": "execute_result"
    }
   ],
   "source": [
    "# CSVファイルからデータを読み込み\n",
    "# \"2-3-1-sample-data-1.csv\" というファイルを読み込み、\n",
    "# データフレーム df1 として保持する\n",
    "df1 = pd.read_csv(\"2-3-1-sample-data-1.csv\")\n",
    "\n",
    "# DescrStatsW で統計量を計算\n",
    "# df1[\"x\"]: データフレーム df1 の列 \"x\" を解析対象に指定\n",
    "# dsw1 には平均・標準偏差・t検定などの統計手法が使えるオブジェクトが格納される\n",
    "dsw1 = sm.stats.DescrStatsW(df1[\"x\"])\n",
    "\n",
    "# 母平均に対する両側t検定を実行\n",
    "#   帰無仮説 H0: 母平均 = 10\n",
    "#   対立仮説 H1: 母平均 ≠ 10\n",
    "# np.round(..., 3): 結果 (t値, p値, 自由度) を小数点3桁で丸めて表示\n",
    "np.round(dsw1.ttest_mean(value=10, alternative=\"two-sided\"), 3)"
   ]
  },
  {
   "cell_type": "code",
   "execution_count": null,
   "id": "ede0803a",
   "metadata": {},
   "outputs": [],
   "source": []
  }
 ],
 "metadata": {
  "kernelspec": {
   "display_name": "py_tsa_venv",
   "language": "python",
   "name": "python3"
  },
  "language_info": {
   "codemirror_mode": {
    "name": "ipython",
    "version": 3
   },
   "file_extension": ".py",
   "mimetype": "text/x-python",
   "name": "python",
   "nbconvert_exporter": "python",
   "pygments_lexer": "ipython3",
   "version": "3.10.13"
  }
 },
 "nbformat": 4,
 "nbformat_minor": 5
}
