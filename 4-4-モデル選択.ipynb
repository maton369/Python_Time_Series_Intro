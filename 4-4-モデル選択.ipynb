{
 "cells": [
  {
   "cell_type": "code",
   "execution_count": 1,
   "id": "1b4e62b1",
   "metadata": {},
   "outputs": [],
   "source": [
    "# 数値計算に使うライブラリ\n",
    "import numpy as np\n",
    "import pandas as pd\n",
    "from scipy import stats\n",
    "\n",
    "# グラフを描画するライブラリ\n",
    "from matplotlib import pyplot as plt\n",
    "import seaborn as sns\n",
    "\n",
    "sns.set()\n",
    "\n",
    "# 統計モデルを推定するライブラリ\n",
    "import statsmodels.api as sm\n",
    "import statsmodels.tsa.api as tsa\n",
    "import statsmodels.formula.api as smf\n",
    "import pmdarima as pm\n",
    "\n",
    "# 予測\n",
    "from sktime.forecasting.arima import AutoARIMA\n",
    "\n",
    "# 予測の評価指標\n",
    "from sktime.performance_metrics.forecasting import (\n",
    "    mean_absolute_scaled_error,\n",
    "    MeanAbsoluteError,\n",
    "    mean_absolute_percentage_error,\n",
    "    mean_absolute_error,\n",
    ")\n",
    "\n",
    "# グラフの日本語表記\n",
    "from matplotlib import rcParams\n",
    "\n",
    "rcParams[\"font.family\"] = \"IPAexGothic\"\n",
    "rcParams[\"font.sans-serif\"] = \"Meiryo\""
   ]
  },
  {
   "cell_type": "code",
   "execution_count": 2,
   "id": "5bbef491",
   "metadata": {},
   "outputs": [],
   "source": [
    "# 表示設定\n",
    "np.set_printoptions(linewidth=60)\n",
    "pd.set_option(\"display.width\", 80)\n",
    "\n",
    "from matplotlib.pylab import rcParams\n",
    "\n",
    "rcParams[\"figure.figsize\"] = 8, 4"
   ]
  },
  {
   "cell_type": "code",
   "execution_count": 3,
   "id": "b18ffe4d",
   "metadata": {},
   "outputs": [],
   "source": [
    "# データの読み込み\n",
    "ts_sales_bj = pd.read_csv(\n",
    "    \"4-3-1-sales-data.csv\",  # ファイル名\n",
    "    index_col=\"date\",  # インデックスとして扱う列名\n",
    "    parse_dates=True,  # インデックスを「時間軸」として扱う\n",
    "    dtype=\"float\",  # データの型(浮動小数点)\n",
    ")\n",
    "\n",
    "ts_sales_bj.index.freq = \"MS\"\n",
    "\n",
    "# 訓練データとテストデータに分割する\n",
    "train = ts_sales_bj.loc[\"2010-01\":\"2018-12\"]\n",
    "test = ts_sales_bj.loc[\"2019-01\":\"2019-12\"]"
   ]
  },
  {
   "cell_type": "code",
   "execution_count": 4,
   "id": "daa48ae9",
   "metadata": {},
   "outputs": [
    {
     "data": {
      "text/plain": [
       "1"
      ]
     },
     "execution_count": 4,
     "metadata": {},
     "output_type": "execute_result"
    }
   ],
   "source": [
    "# これは間違い\n",
    "pm.arima.ndiffs(np.log(train[\"sales\"]), test=\"kpss\")"
   ]
  },
  {
   "cell_type": "code",
   "execution_count": 5,
   "id": "f2e59cf6",
   "metadata": {},
   "outputs": [
    {
     "data": {
      "text/plain": [
       "0"
      ]
     },
     "execution_count": 5,
     "metadata": {},
     "output_type": "execute_result"
    }
   ],
   "source": [
    "# これは間違い\n",
    "pm.arima.nsdiffs(np.log(train[\"sales\"]), m=12, test=\"ocsb\")"
   ]
  },
  {
   "cell_type": "code",
   "execution_count": 6,
   "id": "fc83df96",
   "metadata": {},
   "outputs": [
    {
     "name": "stdout",
     "output_type": "stream",
     "text": [
      "date\n",
      "2010-01-01   -0.025589\n",
      "2010-02-01   -0.083576\n",
      "2010-03-01   -0.129386\n",
      "dtype: float64\n"
     ]
    }
   ],
   "source": [
    "# ---------------------------------------------\n",
    "# 線形回帰モデル（OLS: Ordinary Least Squares）\n",
    "# ---------------------------------------------\n",
    "# 売上(sales)を対数変換し、割引(discount)を説明変数として\n",
    "# 回帰分析を行う。\n",
    "# ここで対数を取るのは、売上データの分布を正規分布に近づけ、\n",
    "# 変動率（%変化）を扱いやすくするため。\n",
    "\n",
    "ols_model = smf.ols(\"np.log(sales) ~ discount\", data=train).fit()\n",
    "\n",
    "# ---------------------------------------------\n",
    "# 残差（residuals）の取得\n",
    "# ---------------------------------------------\n",
    "# 残差とは、「実際の値」と「モデルの予測値」の差。\n",
    "# ARIMA/SARIMAXなどの時系列モデルにこの残差を入力すると、\n",
    "# トレンドや季節性を取り除いた“純粋な変動部分”を扱える。\n",
    "ols_resid = ols_model.resid\n",
    "\n",
    "# ---------------------------------------------\n",
    "# 残差の確認（最初の3行を表示）\n",
    "# ---------------------------------------------\n",
    "print(ols_resid.head(3))"
   ]
  },
  {
   "cell_type": "code",
   "execution_count": 7,
   "id": "d7dd6f91",
   "metadata": {},
   "outputs": [
    {
     "name": "stdout",
     "output_type": "stream",
     "text": [
      "推定された差分次数 d：1\n"
     ]
    }
   ],
   "source": [
    "# --------------------------------------------------\n",
    "# 残差に対して単位根検定を行い、必要な差分次数 d を求める\n",
    "# --------------------------------------------------\n",
    "# test='kpss'：KPSS検定（帰無仮説＝定常）を使う。\n",
    "# KPSS の場合、p値が小さいほど「非定常」と判断されるため、\n",
    "# 差分を1回ずつ取り、定常と判断されるまで繰り返す。\n",
    "# この結果が ARIMA モデルの d に対応する。\n",
    "\n",
    "import pmdarima as pm\n",
    "\n",
    "d = pm.arima.ndiffs(ols_resid, test=\"kpss\")\n",
    "\n",
    "print(f\"推定された差分次数 d：{d}\")"
   ]
  },
  {
   "cell_type": "code",
   "execution_count": 8,
   "id": "751e65bc",
   "metadata": {},
   "outputs": [
    {
     "name": "stdout",
     "output_type": "stream",
     "text": [
      "推定された季節差分次数 D：1\n"
     ]
    }
   ],
   "source": [
    "# --------------------------------------------------\n",
    "# 残差に対して季節差分が必要かを検定する\n",
    "# --------------------------------------------------\n",
    "# test='ocsb'：OCSB検定（Osborn, Chui, Smith & Birchenhall, 1988）を利用。\n",
    "#   帰無仮説：季節差分は不要（すでに季節的に定常）\n",
    "#   対立仮説：季節差分が必要（季節的非定常）\n",
    "# m=12 は「季節周期＝12（例：月次データ）」を意味する。\n",
    "# 結果として返される値（通常は 0 または 1）が、\n",
    "# SARIMA モデルの季節差分次数 D の推定値となる。\n",
    "import pmdarima as pm\n",
    "\n",
    "D = pm.arima.nsdiffs(ols_resid, m=12, test=\"ocsb\")\n",
    "print(f\"推定された季節差分次数 D：{D}\")"
   ]
  },
  {
   "cell_type": "code",
   "execution_count": 9,
   "id": "3cb283fe",
   "metadata": {},
   "outputs": [],
   "source": [
    "# --------------------------------------------------\n",
    "# SARIMAXモデルの自動選択（Auto ARIMA）\n",
    "# --------------------------------------------------\n",
    "mod_sarimax_best = pm.arima.auto_arima(\n",
    "    y=np.log(train[\"sales\"]),  # 対数変換した売上データ（系列の分散を安定化）\n",
    "    X=train[\"discount\"].values.reshape(-1, 1),  # 外生変数（割引情報）\n",
    "    # --- 階差に関する設定 ---\n",
    "    test=\"kpss\",  # KPSS検定：トレンド非定常性の検出（差分次数 d を自動決定）\n",
    "    seasonal_test=\"ocsb\",  # OCSB検定：季節単位の非定常性を検出（季節差分次数 D を自動決定）\n",
    "    m=12,  # 季節周期（12ヶ月＝1年）\n",
    "    # --- モデル選択と次数の探索範囲 ---\n",
    "    criterion=\"AIC\",  # モデル選択基準（Akaike Information Criterion）\n",
    "    max_p=2,\n",
    "    max_q=2,  # AR(p), MA(q) の最大次数\n",
    "    max_P=2,\n",
    "    max_Q=2,  # 季節AR(P), 季節MA(Q) の最大次数\n",
    "    start_p=0,\n",
    "    start_q=0,\n",
    "    start_P=0,\n",
    "    start_Q=0,  # 探索開始次数\n",
    "    # --- 計算方法 ---\n",
    "    stepwise=False,  # 総当たり法（stepwise=False）で全候補を探索\n",
    "    n_jobs=-1,  # 並列処理を有効化（全CPUコア使用）\n",
    "    maxiter=5000,  # パラメータ推定の最大反復回数\n",
    "    solver=\"nm\",  # Nelder-Mead法でパラメータ最適化\n",
    "    # --- モデル構造 ---\n",
    "    with_intercept=False,  # 切片を含めない（既に対数変換済みかつ外生変数ありのため）\n",
    ")"
   ]
  },
  {
   "cell_type": "code",
   "execution_count": 10,
   "id": "d8ad8816",
   "metadata": {},
   "outputs": [
    {
     "name": "stdout",
     "output_type": "stream",
     "text": [
      "                                     SARIMAX Results                                      \n",
      "==========================================================================================\n",
      "Dep. Variable:                                  y   No. Observations:                  108\n",
      "Model:             SARIMAX(1, 1, 0)x(0, 1, 0, 12)   Log Likelihood                  77.949\n",
      "Date:                            Wed, 15 Oct 2025   AIC                           -149.898\n",
      "Time:                                    20:12:29   BIC                           -142.236\n",
      "Sample:                                01-01-2010   HQIC                          -146.802\n",
      "                                     - 12-01-2018                                         \n",
      "Covariance Type:                              opg                                         \n",
      "==============================================================================\n",
      "                 coef    std err          z      P>|z|      [0.025      0.975]\n",
      "------------------------------------------------------------------------------\n",
      "x1             0.7762      0.023     33.210      0.000       0.730       0.822\n",
      "ar.L1         -0.4453      0.087     -5.108      0.000      -0.616      -0.274\n",
      "sigma2         0.0113      0.001      7.593      0.000       0.008       0.014\n",
      "===================================================================================\n",
      "Ljung-Box (L1) (Q):                   0.15   Jarque-Bera (JB):                 1.33\n",
      "Prob(Q):                              0.70   Prob(JB):                         0.51\n",
      "Heteroskedasticity (H):               0.60   Skew:                            -0.01\n",
      "Prob(H) (two-sided):                  0.15   Kurtosis:                         3.58\n",
      "===================================================================================\n",
      "\n",
      "Warnings:\n",
      "[1] Covariance matrix calculated using the outer product of gradients (complex-step).\n"
     ]
    }
   ],
   "source": [
    "print(mod_sarimax_best.summary())"
   ]
  },
  {
   "cell_type": "code",
   "execution_count": 11,
   "id": "d1a455a9",
   "metadata": {},
   "outputs": [],
   "source": [
    "# --------------------------------------------------\n",
    "# Auto ARIMA により、すべての候補モデルを探索・保持\n",
    "# --------------------------------------------------\n",
    "mod_sarimax_list = pm.arima.auto_arima(\n",
    "    y=np.log(train[\"sales\"]),  # 対数変換した売上データ（分散安定化）\n",
    "    X=train[\"discount\"].values.reshape(-1, 1),  # 外生変数（割引率）\n",
    "    # --- 階差設定 ---\n",
    "    test=\"kpss\",  # KPSS検定：トレンド非定常性の検出 → 通常差分 d を決定\n",
    "    seasonal_test=\"ocsb\",  # OCSB検定：季節単位の非定常性を検出 → 季節差分 D を決定\n",
    "    m=12,  # 季節周期：12ヶ月\n",
    "    # --- モデル次数の探索範囲 ---\n",
    "    criterion=\"AIC\",  # モデル選択基準：AIC（情報量基準）\n",
    "    max_p=2,\n",
    "    max_q=2,  # AR(p), MA(q) の最大次数\n",
    "    max_P=2,\n",
    "    max_Q=2,  # 季節AR(P), 季節MA(Q) の最大次数\n",
    "    start_p=0,\n",
    "    start_q=0,\n",
    "    start_P=0,\n",
    "    start_Q=0,  # 開始次数\n",
    "    # --- 探索方法と最適化 ---\n",
    "    stepwise=False,  # stepwise探索を無効化 → 総当たり法で全モデル評価\n",
    "    n_jobs=-1,  # 並列実行（利用可能なCPUコアを全て使用）\n",
    "    maxiter=5000,  # 最大反復回数\n",
    "    solver=\"nm\",  # パラメータ推定：Nelder-Mead法\n",
    "    with_intercept=False,  # 切片なし（外生変数あり）\n",
    "    # --- すべてのモデル結果を保持 ---\n",
    "    return_valid_fits=True,  # Trueにすることで、候補モデルすべての結果を取得可能\n",
    ")"
   ]
  },
  {
   "cell_type": "code",
   "execution_count": 12,
   "id": "63dc5756",
   "metadata": {},
   "outputs": [
    {
     "name": "stdout",
     "output_type": "stream",
     "text": [
      "                                 model         AIC\n",
      "0    ARIMA(1,1,0)(0,1,0)[12]           -149.897609\n",
      "1    ARIMA(0,1,1)(0,1,0)[12]           -149.043075\n",
      "2    ARIMA(1,1,1)(0,1,0)[12]           -148.459464\n",
      "3    ARIMA(0,1,2)(0,1,0)[12]           -148.440131\n",
      "4    ARIMA(2,1,0)(0,1,0)[12]           -148.364485\n",
      "5    ARIMA(1,1,0)(0,1,1)[12]           -148.313625\n",
      "6    ARIMA(1,1,0)(1,1,0)[12]           -148.310737\n",
      "7    ARIMA(0,1,1)(0,1,1)[12]           -147.510976\n",
      "8    ARIMA(0,1,1)(1,1,0)[12]           -147.487735\n",
      "9    ARIMA(0,1,1)(2,1,2)[12]           -147.368297\n",
      "10   ARIMA(1,1,1)(0,1,1)[12]           -146.706143\n",
      "11   ARIMA(1,1,1)(1,1,0)[12]           -146.702859\n",
      "12   ARIMA(0,1,2)(0,1,1)[12]           -146.677925\n",
      "13   ARIMA(0,1,2)(1,1,0)[12]           -146.676053\n",
      "14   ARIMA(2,1,0)(0,1,1)[12]           -146.634324\n",
      "15   ARIMA(2,1,0)(1,1,0)[12]           -146.631508\n",
      "16   ARIMA(1,1,2)(0,1,0)[12]           -146.444433\n",
      "17   ARIMA(2,1,1)(0,1,0)[12]           -146.439380\n",
      "18   ARIMA(1,1,0)(2,1,0)[12]           -146.349421\n",
      "19   ARIMA(1,1,0)(0,1,2)[12]           -146.338064\n",
      "20   ARIMA(1,1,0)(1,1,1)[12]           -146.316146\n",
      "21   ARIMA(0,1,1)(2,1,0)[12]           -145.659551\n",
      "22   ARIMA(0,1,1)(0,1,2)[12]           -145.511357\n",
      "23   ARIMA(0,1,1)(1,1,1)[12]           -145.511006\n",
      "24   ARIMA(1,1,2)(0,1,1)[12]           -144.920770\n",
      "25   ARIMA(1,1,2)(1,1,0)[12]           -144.915963\n",
      "26   ARIMA(2,1,1)(0,1,1)[12]           -144.788121\n",
      "27   ARIMA(2,1,1)(1,1,0)[12]           -144.778866\n",
      "28   ARIMA(1,1,1)(2,1,0)[12]           -144.738090\n",
      "29   ARIMA(1,1,1)(0,1,2)[12]           -144.713996\n",
      "30   ARIMA(1,1,1)(1,1,1)[12]           -144.706770\n",
      "31   ARIMA(0,1,2)(2,1,0)[12]           -144.703609\n",
      "32   ARIMA(0,1,2)(0,1,2)[12]           -144.691635\n",
      "33   ARIMA(0,1,2)(1,1,1)[12]           -144.678964\n",
      "34   ARIMA(2,1,2)(0,1,0)[12]           -144.665180\n",
      "35   ARIMA(2,1,0)(2,1,0)[12]           -144.664562\n",
      "36   ARIMA(2,1,0)(0,1,2)[12]           -144.646176\n",
      "37   ARIMA(2,1,0)(1,1,1)[12]           -144.635322\n",
      "38   ARIMA(1,1,2)(2,1,0)[12]           -142.960415\n",
      "39   ARIMA(1,1,2)(0,1,2)[12]           -142.925472\n",
      "40   ARIMA(2,1,2)(0,1,1)[12]           -142.924807\n",
      "41   ARIMA(1,1,2)(1,1,1)[12]           -142.921173\n",
      "42   ARIMA(2,1,2)(1,1,0)[12]           -142.920396\n",
      "43   ARIMA(2,1,1)(2,1,0)[12]           -142.852354\n",
      "44   ARIMA(2,1,1)(1,1,1)[12]           -142.788254\n",
      "45   ARIMA(2,1,1)(0,1,2)[12]           -142.716808\n",
      "46   ARIMA(0,1,0)(2,1,2)[12]           -139.362318\n",
      "47   ARIMA(0,1,0)(2,1,1)[12]           -139.308539\n",
      "48   ARIMA(0,1,0)(0,1,1)[12]           -135.571871\n",
      "49   ARIMA(0,1,0)(1,1,0)[12]           -135.087434\n",
      "50   ARIMA(0,1,0)(2,1,0)[12]           -134.902373\n",
      "51   ARIMA(0,1,0)(0,1,2)[12]           -133.784788\n",
      "52   ARIMA(0,1,0)(1,1,1)[12]           -133.610521\n",
      "53   ARIMA(0,1,0)(0,1,0)[12]           -132.230523\n"
     ]
    }
   ],
   "source": [
    "# =========================================================\n",
    "#  各モデルのAICをDataFrameにまとめ、昇順に並べる\n",
    "# =========================================================\n",
    "result_df = pd.DataFrame(\n",
    "    {\n",
    "        \"model\": np.tile(\"\", len(mod_sarimax_list)),  # モデル式を格納\n",
    "        \"AIC\": np.zeros(len(mod_sarimax_list)),  # AIC値を格納\n",
    "    }\n",
    ")\n",
    "\n",
    "# 各モデルの情報をDataFrameに記録\n",
    "for i in range(len(mod_sarimax_list)):\n",
    "    result_df.iloc[i, 0] = str(mod_sarimax_list[i])  # モデル式を文字列として保存\n",
    "    result_df.iloc[i, 1] = mod_sarimax_list[i].aic()  # AIC値を保存\n",
    "\n",
    "# AICの小さい順に並べて表示（良いモデルほど上にくる）\n",
    "print(result_df.sort_values(\"AIC\", ascending=True))"
   ]
  },
  {
   "cell_type": "code",
   "execution_count": null,
   "id": "69861f8f",
   "metadata": {},
   "outputs": [],
   "source": []
  }
 ],
 "metadata": {
  "kernelspec": {
   "display_name": "py_tsa_venv",
   "language": "python",
   "name": "python3"
  },
  "language_info": {
   "codemirror_mode": {
    "name": "ipython",
    "version": 3
   },
   "file_extension": ".py",
   "mimetype": "text/x-python",
   "name": "python",
   "nbconvert_exporter": "python",
   "pygments_lexer": "ipython3",
   "version": "3.10.13"
  }
 },
 "nbformat": 4,
 "nbformat_minor": 5
}
