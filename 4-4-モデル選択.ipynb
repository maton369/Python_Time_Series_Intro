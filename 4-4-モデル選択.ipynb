{
 "cells": [
  {
   "cell_type": "code",
   "execution_count": 1,
   "id": "1b4e62b1",
   "metadata": {},
   "outputs": [],
   "source": [
    "# 数値計算に使うライブラリ\n",
    "import numpy as np\n",
    "import pandas as pd\n",
    "from scipy import stats\n",
    "\n",
    "# グラフを描画するライブラリ\n",
    "from matplotlib import pyplot as plt\n",
    "import seaborn as sns\n",
    "\n",
    "sns.set()\n",
    "\n",
    "# 統計モデルを推定するライブラリ\n",
    "import statsmodels.api as sm\n",
    "import statsmodels.tsa.api as tsa\n",
    "import statsmodels.formula.api as smf\n",
    "import pmdarima as pm\n",
    "\n",
    "# 予測\n",
    "from sktime.forecasting.arima import AutoARIMA\n",
    "\n",
    "# 予測の評価指標\n",
    "from sktime.performance_metrics.forecasting import (\n",
    "    mean_absolute_scaled_error,\n",
    "    MeanAbsoluteError,\n",
    "    mean_absolute_percentage_error,\n",
    "    mean_absolute_error,\n",
    ")\n",
    "\n",
    "# グラフの日本語表記\n",
    "from matplotlib import rcParams\n",
    "\n",
    "rcParams[\"font.family\"] = \"IPAexGothic\"\n",
    "rcParams[\"font.sans-serif\"] = \"Meiryo\""
   ]
  },
  {
   "cell_type": "code",
   "execution_count": 2,
   "id": "5bbef491",
   "metadata": {},
   "outputs": [],
   "source": [
    "# 表示設定\n",
    "np.set_printoptions(linewidth=60)\n",
    "pd.set_option(\"display.width\", 80)\n",
    "\n",
    "from matplotlib.pylab import rcParams\n",
    "\n",
    "rcParams[\"figure.figsize\"] = 8, 4"
   ]
  },
  {
   "cell_type": "code",
   "execution_count": 3,
   "id": "b18ffe4d",
   "metadata": {},
   "outputs": [],
   "source": [
    "# データの読み込み\n",
    "ts_sales_bj = pd.read_csv(\n",
    "    \"4-3-1-sales-data.csv\",  # ファイル名\n",
    "    index_col=\"date\",  # インデックスとして扱う列名\n",
    "    parse_dates=True,  # インデックスを「時間軸」として扱う\n",
    "    dtype=\"float\",  # データの型(浮動小数点)\n",
    ")\n",
    "\n",
    "ts_sales_bj.index.freq = \"MS\"\n",
    "\n",
    "# 訓練データとテストデータに分割する\n",
    "train = ts_sales_bj.loc[\"2010-01\":\"2018-12\"]\n",
    "test = ts_sales_bj.loc[\"2019-01\":\"2019-12\"]"
   ]
  },
  {
   "cell_type": "code",
   "execution_count": 4,
   "id": "daa48ae9",
   "metadata": {},
   "outputs": [
    {
     "data": {
      "text/plain": [
       "1"
      ]
     },
     "execution_count": 4,
     "metadata": {},
     "output_type": "execute_result"
    }
   ],
   "source": [
    "# これは間違い\n",
    "pm.arima.ndiffs(np.log(train[\"sales\"]), test=\"kpss\")"
   ]
  },
  {
   "cell_type": "code",
   "execution_count": 5,
   "id": "f2e59cf6",
   "metadata": {},
   "outputs": [
    {
     "data": {
      "text/plain": [
       "0"
      ]
     },
     "execution_count": 5,
     "metadata": {},
     "output_type": "execute_result"
    }
   ],
   "source": [
    "# これは間違い\n",
    "pm.arima.nsdiffs(np.log(train[\"sales\"]), m=12, test=\"ocsb\")"
   ]
  },
  {
   "cell_type": "code",
   "execution_count": 6,
   "id": "fc83df96",
   "metadata": {},
   "outputs": [
    {
     "name": "stdout",
     "output_type": "stream",
     "text": [
      "date\n",
      "2010-01-01   -0.025589\n",
      "2010-02-01   -0.083576\n",
      "2010-03-01   -0.129386\n",
      "dtype: float64\n"
     ]
    }
   ],
   "source": [
    "# ---------------------------------------------\n",
    "# 線形回帰モデル（OLS: Ordinary Least Squares）\n",
    "# ---------------------------------------------\n",
    "# 売上(sales)を対数変換し、割引(discount)を説明変数として\n",
    "# 回帰分析を行う。\n",
    "# ここで対数を取るのは、売上データの分布を正規分布に近づけ、\n",
    "# 変動率（%変化）を扱いやすくするため。\n",
    "\n",
    "ols_model = smf.ols(\"np.log(sales) ~ discount\", data=train).fit()\n",
    "\n",
    "# ---------------------------------------------\n",
    "# 残差（residuals）の取得\n",
    "# ---------------------------------------------\n",
    "# 残差とは、「実際の値」と「モデルの予測値」の差。\n",
    "# ARIMA/SARIMAXなどの時系列モデルにこの残差を入力すると、\n",
    "# トレンドや季節性を取り除いた“純粋な変動部分”を扱える。\n",
    "ols_resid = ols_model.resid\n",
    "\n",
    "# ---------------------------------------------\n",
    "# 残差の確認（最初の3行を表示）\n",
    "# ---------------------------------------------\n",
    "print(ols_resid.head(3))"
   ]
  },
  {
   "cell_type": "code",
   "execution_count": 7,
   "id": "d7dd6f91",
   "metadata": {},
   "outputs": [
    {
     "name": "stdout",
     "output_type": "stream",
     "text": [
      "推定された差分次数 d：1\n"
     ]
    }
   ],
   "source": [
    "# --------------------------------------------------\n",
    "# 残差に対して単位根検定を行い、必要な差分次数 d を求める\n",
    "# --------------------------------------------------\n",
    "# test='kpss'：KPSS検定（帰無仮説＝定常）を使う。\n",
    "# KPSS の場合、p値が小さいほど「非定常」と判断されるため、\n",
    "# 差分を1回ずつ取り、定常と判断されるまで繰り返す。\n",
    "# この結果が ARIMA モデルの d に対応する。\n",
    "\n",
    "import pmdarima as pm\n",
    "\n",
    "d = pm.arima.ndiffs(ols_resid, test=\"kpss\")\n",
    "\n",
    "print(f\"推定された差分次数 d：{d}\")"
   ]
  },
  {
   "cell_type": "code",
   "execution_count": 8,
   "id": "751e65bc",
   "metadata": {},
   "outputs": [
    {
     "name": "stdout",
     "output_type": "stream",
     "text": [
      "推定された季節差分次数 D：1\n"
     ]
    }
   ],
   "source": [
    "# --------------------------------------------------\n",
    "# 残差に対して季節差分が必要かを検定する\n",
    "# --------------------------------------------------\n",
    "# test='ocsb'：OCSB検定（Osborn, Chui, Smith & Birchenhall, 1988）を利用。\n",
    "#   帰無仮説：季節差分は不要（すでに季節的に定常）\n",
    "#   対立仮説：季節差分が必要（季節的非定常）\n",
    "# m=12 は「季節周期＝12（例：月次データ）」を意味する。\n",
    "# 結果として返される値（通常は 0 または 1）が、\n",
    "# SARIMA モデルの季節差分次数 D の推定値となる。\n",
    "import pmdarima as pm\n",
    "\n",
    "D = pm.arima.nsdiffs(ols_resid, m=12, test=\"ocsb\")\n",
    "print(f\"推定された季節差分次数 D：{D}\")"
   ]
  },
  {
   "cell_type": "code",
   "execution_count": null,
   "id": "3cb283fe",
   "metadata": {},
   "outputs": [],
   "source": []
  }
 ],
 "metadata": {
  "kernelspec": {
   "display_name": "py_tsa_venv",
   "language": "python",
   "name": "python3"
  },
  "language_info": {
   "codemirror_mode": {
    "name": "ipython",
    "version": 3
   },
   "file_extension": ".py",
   "mimetype": "text/x-python",
   "name": "python",
   "nbconvert_exporter": "python",
   "pygments_lexer": "ipython3",
   "version": "3.10.13"
  }
 },
 "nbformat": 4,
 "nbformat_minor": 5
}
