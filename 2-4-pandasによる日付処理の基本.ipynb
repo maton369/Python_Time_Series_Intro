{
 "cells": [
  {
   "cell_type": "code",
   "execution_count": 1,
   "id": "2b5f3ba1",
   "metadata": {},
   "outputs": [],
   "source": [
    "# 数値計算に使うライブラリ\n",
    "import numpy as np\n",
    "import pandas as pd"
   ]
  },
  {
   "cell_type": "code",
   "execution_count": 2,
   "id": "9ababeea",
   "metadata": {},
   "outputs": [],
   "source": [
    "# 表示設定\n",
    "np.set_printoptions(linewidth=80)\n",
    "pd.set_option(\"display.width\", 80)\n",
    "\n",
    "from matplotlib.pylab import rcParams\n",
    "\n",
    "rcParams[\"figure.figsize\"] = 8, 4"
   ]
  },
  {
   "cell_type": "code",
   "execution_count": 3,
   "id": "54b7f7f1",
   "metadata": {},
   "outputs": [
    {
     "data": {
      "text/plain": [
       "str"
      ]
     },
     "execution_count": 3,
     "metadata": {},
     "output_type": "execute_result"
    }
   ],
   "source": [
    "type(\"2020-01-01\")"
   ]
  },
  {
   "cell_type": "code",
   "execution_count": 4,
   "id": "1543b316",
   "metadata": {},
   "outputs": [
    {
     "data": {
      "text/plain": [
       "Timestamp('2020-05-11 00:00:00')"
      ]
     },
     "execution_count": 4,
     "metadata": {},
     "output_type": "execute_result"
    }
   ],
   "source": [
    "# pandas の Timestamp オブジェクトを作成\n",
    "\n",
    "# pd.Timestamp:\n",
    "#   - pandas が提供する日時型 (datetime64[ns] と互換)\n",
    "#   - Python 標準の datetime よりも高機能で、\n",
    "#     時系列データのインデックスや演算に広く使われる\n",
    "#   - '2020-05-11' のような文字列を渡すと、その日付の Timestamp を生成する\n",
    "\n",
    "my_time = pd.Timestamp(\"2020-05-11\")\n",
    "my_time  # → 2020-05-11 00:00:00 として表示される"
   ]
  },
  {
   "cell_type": "code",
   "execution_count": 5,
   "id": "4e58b4ea",
   "metadata": {},
   "outputs": [
    {
     "data": {
      "text/plain": [
       "pandas._libs.tslibs.timestamps.Timestamp"
      ]
     },
     "execution_count": 5,
     "metadata": {},
     "output_type": "execute_result"
    }
   ],
   "source": [
    "type(my_time)"
   ]
  },
  {
   "cell_type": "code",
   "execution_count": 6,
   "id": "9dda4be6",
   "metadata": {},
   "outputs": [
    {
     "data": {
      "text/plain": [
       "Timestamp('2020-05-11 00:00:00')"
      ]
     },
     "execution_count": 6,
     "metadata": {},
     "output_type": "execute_result"
    }
   ],
   "source": [
    "# pandas の to_datetime を使って日付文字列を Timestamp に変換\n",
    "\n",
    "# pd.to_datetime:\n",
    "#   - 文字列や配列 (リスト, Series) を pandas の日時型 Timestamp に変換する関数\n",
    "#   - 柔軟に日付フォーマットを解釈できる\n",
    "#   - '2020-05-11' という文字列を与えると Timestamp('2020-05-11 00:00:00') が返る\n",
    "\n",
    "my_time2 = pd.to_datetime(\"2020-05-11\")\n",
    "my_time2  # → 2020-05-11 00:00:00"
   ]
  },
  {
   "cell_type": "code",
   "execution_count": 7,
   "id": "9207a9ed",
   "metadata": {},
   "outputs": [
    {
     "data": {
      "text/plain": [
       "Timestamp('2020-06-08 00:00:00')"
      ]
     },
     "execution_count": 7,
     "metadata": {},
     "output_type": "execute_result"
    }
   ],
   "source": [
    "# 日本語表記の日付文字列を pandas の Timestamp に変換する例\n",
    "\n",
    "# pd.to_datetime:\n",
    "#   - 日付文字列を pandas.Timestamp に変換する関数\n",
    "#   - \"format\" 引数を指定することで、任意の書式に従ってパースできる\n",
    "#   - Python の datetime.strftime / strptime と同じ書式指定子を利用する\n",
    "\n",
    "# '%Y年%m月%d日':\n",
    "#   - %Y: 西暦 (4桁)\n",
    "#   - %m: 月 (2桁)\n",
    "#   - %d: 日 (2桁)\n",
    "#   - '年', '月', '日' はそのまま文字として扱う\n",
    "\n",
    "my_time3 = pd.to_datetime(\"2020年6月8日\", format=\"%Y年%m月%d日\")\n",
    "my_time3  # → 2020-06-08 00:00:00 として Timestamp が返る"
   ]
  },
  {
   "cell_type": "code",
   "execution_count": 8,
   "id": "248e9a37",
   "metadata": {},
   "outputs": [
    {
     "data": {
      "text/plain": [
       "Timestamp('2020-02-07 00:00:00')"
      ]
     },
     "execution_count": 8,
     "metadata": {},
     "output_type": "execute_result"
    }
   ],
   "source": [
    "# 英語の省略月を含む日付文字列を Timestamp に変換する例\n",
    "\n",
    "# '2020 Feb 7':\n",
    "#   - 西暦 2020 年\n",
    "#   - 月は英語3文字表記 \"Feb\" (February)\n",
    "#   - 日は 7 日\n",
    "\n",
    "# format='%Y %b %d':\n",
    "#   - %Y: 西暦 (4桁)\n",
    "#   - %b: 月 (英語3文字表記, Jan, Feb, Mar, …)\n",
    "#   - %d: 日 (ゼロ埋めありでもOK)\n",
    "\n",
    "my_time4 = pd.to_datetime(\"2020 Feb 7\", format=\"%Y %b %d\")\n",
    "my_time4  # → 2020-02-07 00:00:00 として Timestamp が返る"
   ]
  },
  {
   "cell_type": "code",
   "execution_count": 9,
   "id": "f3c44318",
   "metadata": {},
   "outputs": [
    {
     "data": {
      "text/plain": [
       "Timestamp('2020-06-08 14:28:14')"
      ]
     },
     "execution_count": 9,
     "metadata": {},
     "output_type": "execute_result"
    }
   ],
   "source": [
    "# 複雑な日本語文章の中から日付と時刻を抜き出して Timestamp に変換する例\n",
    "\n",
    "# 入力文字列:\n",
    "#   '時間は14時28分14秒だよ。ちなみに2020年の6月8日です。'\n",
    "#   → 年月日だけでなく、時刻 (14:28:14) も含まれている\n",
    "\n",
    "# format 引数:\n",
    "#   '時間は%H時%M分%S秒だよ。ちなみに%Y年の%m月%d日です。'\n",
    "#   - %H : 時 (24時間表記, 14)\n",
    "#   - %M : 分 (28)\n",
    "#   - %S : 秒 (14)\n",
    "#   - %Y : 西暦 (2020)\n",
    "#   - %m : 月 (06)\n",
    "#   - %d : 日 (08)\n",
    "#   - 文章中の「時間は」「だよ。ちなみに」「年の」「月」「日です。」などは\n",
    "#     文字列としてそのままマッチさせる\n",
    "\n",
    "my_time5 = pd.to_datetime(\n",
    "    \"時間は14時28分14秒だよ。ちなみに2020年の6月8日です。\",\n",
    "    format=\"時間は%H時%M分%S秒だよ。ちなみに%Y年の%m月%d日です。\",\n",
    ")\n",
    "\n",
    "my_time5  # → 2020-06-08 14:28:14 として Timestamp が返る"
   ]
  },
  {
   "cell_type": "code",
   "execution_count": 10,
   "id": "da101554",
   "metadata": {},
   "outputs": [
    {
     "data": {
      "text/plain": [
       "Timestamp('2025-09-29 20:37:30.085953')"
      ]
     },
     "execution_count": 10,
     "metadata": {},
     "output_type": "execute_result"
    }
   ],
   "source": [
    "pd.Timestamp.now()"
   ]
  },
  {
   "cell_type": "code",
   "execution_count": 11,
   "id": "254de71a",
   "metadata": {},
   "outputs": [
    {
     "data": {
      "text/plain": [
       "Timestamp('2020-09-08 14:11:04')"
      ]
     },
     "execution_count": 11,
     "metadata": {},
     "output_type": "execute_result"
    }
   ],
   "source": [
    "my_time3 = pd.to_datetime(\"2020-09-08 14:11:04\")\n",
    "my_time3"
   ]
  },
  {
   "cell_type": "code",
   "execution_count": 12,
   "id": "3b056f85",
   "metadata": {},
   "outputs": [
    {
     "name": "stdout",
     "output_type": "stream",
     "text": [
      "年 2020\n",
      "月 9\n",
      "日 8\n",
      "時 14\n",
      "分 11\n",
      "秒 4\n",
      "1年の何日目か 252\n",
      "1年の何週目か 37\n",
      "曜日(月曜が0) 1\n",
      "四半期　　　  3\n"
     ]
    }
   ],
   "source": [
    "# my_time3 は Timestamp 型のオブジェクト\n",
    "# 例: 2020-06-08 00:00:00\n",
    "# これに対して日付や時間に関する属性を参照できる\n",
    "\n",
    "print(\"年\", my_time3.year)  # year 属性 → 西暦 (2020)\n",
    "print(\"月\", my_time3.month)  # month 属性 → 月 (6)\n",
    "print(\"日\", my_time3.day)  # day 属性 → 日 (8)\n",
    "\n",
    "print(\"時\", my_time3.hour)  # hour 属性 → 時間 (0) ここでは指定していないので 0\n",
    "print(\"分\", my_time3.minute)  # minute 属性 → 分 (0)\n",
    "print(\"秒\", my_time3.second)  # second 属性 → 秒 (0)\n",
    "\n",
    "print(\n",
    "    \"1年の何日目か\", my_time3.dayofyear\n",
    ")  # dayofyear 属性 → その年の通算日 (2020/6/8 → 160日目)\n",
    "\n",
    "# 注意: weekofyear は将来的に廃止予定 (FutureWarning が出ることがある)\n",
    "# 代わりに isocalendar().week を使うのが推奨される\n",
    "print(\"1年の何週目か\", my_time3.weekofyear)\n",
    "\n",
    "print(\"曜日(月曜が0)\", my_time3.dayofweek)  # dayofweek 属性 → 曜日 (0=月曜, 6=日曜)\n",
    "print(\"四半期　　　 \", my_time3.quarter)  # quarter 属性 → 四半期 (1〜4)"
   ]
  },
  {
   "cell_type": "code",
   "execution_count": 13,
   "id": "6ceac858",
   "metadata": {},
   "outputs": [
    {
     "name": "stdout",
     "output_type": "stream",
     "text": [
      "2020年2月 29\n",
      "2021年2月 28\n"
     ]
    }
   ],
   "source": [
    "# daysinmonth 属性を使うと、その月に「何日あるか」を取得できる\n",
    "# うるう年 (2020年) と平年 (2021年) の 2 月を比較する例\n",
    "\n",
    "print(\"2020年2月\", pd.to_datetime(\"2020-02\").daysinmonth)  # うるう年なので 29\n",
    "print(\"2021年2月\", pd.to_datetime(\"2021-02\").daysinmonth)  # 平年なので 28"
   ]
  },
  {
   "cell_type": "code",
   "execution_count": 14,
   "id": "a2de2935",
   "metadata": {},
   "outputs": [
    {
     "name": "stdout",
     "output_type": "stream",
     "text": [
      "DatetimeIndex(['2020-01-01', '2020-02-01', '2020-03-01'], dtype='datetime64[ns]', freq='MS')\n"
     ]
    }
   ],
   "source": [
    "# pd.date_range を使って日付の範囲を生成する例\n",
    "# 引数:\n",
    "#   start='2020-01-01' → 開始日を 2020年1月1日 とする\n",
    "#   end='2020-03-01'   → 終了日を 2020年3月1日 とする\n",
    "#   freq='MS'          → \"Month Start\" の略で「各月の初日」を意味する頻度\n",
    "\n",
    "time_range = pd.date_range(start=\"2020-01-01\", end=\"2020-03-01\", freq=\"MS\")\n",
    "print(time_range)"
   ]
  },
  {
   "cell_type": "code",
   "execution_count": 15,
   "id": "6f06060c",
   "metadata": {},
   "outputs": [
    {
     "data": {
      "text/plain": [
       "pandas.core.indexes.datetimes.DatetimeIndex"
      ]
     },
     "execution_count": 15,
     "metadata": {},
     "output_type": "execute_result"
    }
   ],
   "source": [
    "type(time_range)"
   ]
  },
  {
   "cell_type": "code",
   "execution_count": 16,
   "id": "c50f6eb7",
   "metadata": {},
   "outputs": [
    {
     "data": {
      "text/plain": [
       "DatetimeIndex(['2020-01-01', '2020-02-01'], dtype='datetime64[ns]', freq='MS')"
      ]
     },
     "execution_count": 16,
     "metadata": {},
     "output_type": "execute_result"
    }
   ],
   "source": [
    "# endを含まない\n",
    "pd.date_range(start=\"2020-01-01\", end=\"2020-03-01\", freq=\"MS\", inclusive=\"left\")"
   ]
  },
  {
   "cell_type": "code",
   "execution_count": 17,
   "id": "f71d603d",
   "metadata": {},
   "outputs": [
    {
     "data": {
      "text/plain": [
       "DatetimeIndex(['2020-02-01', '2020-03-01'], dtype='datetime64[ns]', freq='MS')"
      ]
     },
     "execution_count": 17,
     "metadata": {},
     "output_type": "execute_result"
    }
   ],
   "source": [
    "# startを含まない\n",
    "pd.date_range(start=\"2020-01-01\", end=\"2020-03-01\", freq=\"MS\", inclusive=\"right\")"
   ]
  },
  {
   "cell_type": "code",
   "execution_count": 18,
   "id": "79915b59",
   "metadata": {},
   "outputs": [
    {
     "data": {
      "text/plain": [
       "DatetimeIndex(['2020-02-01'], dtype='datetime64[ns]', freq='MS')"
      ]
     },
     "execution_count": 18,
     "metadata": {},
     "output_type": "execute_result"
    }
   ],
   "source": [
    "# start,endを含まない\n",
    "pd.date_range(start=\"2020-01-01\", end=\"2020-03-01\", freq=\"MS\", inclusive=\"neither\")"
   ]
  },
  {
   "cell_type": "code",
   "execution_count": 19,
   "id": "132944ac",
   "metadata": {},
   "outputs": [
    {
     "data": {
      "text/plain": [
       "DatetimeIndex(['2020-01-01', '2020-02-01', '2020-03-01'], dtype='datetime64[ns]', freq='MS')"
      ]
     },
     "execution_count": 19,
     "metadata": {},
     "output_type": "execute_result"
    }
   ],
   "source": [
    "# pd.date_range の使い方（periods を指定する例）\n",
    "# 引数:\n",
    "#   start='2020-01-01' → 開始日を 2020年1月1日とする\n",
    "#   periods=3          → 3 期間分を生成する\n",
    "#   freq='MS'          → \"Month Start\" 各月の初日を意味する頻度\n",
    "\n",
    "pd.date_range(start=\"2020-01-01\", periods=3, freq=\"MS\")"
   ]
  },
  {
   "cell_type": "code",
   "execution_count": 20,
   "id": "77a78479",
   "metadata": {},
   "outputs": [
    {
     "name": "stderr",
     "output_type": "stream",
     "text": [
      "/var/folders/0t/6d51btm11zz6lw61fgrmf7z00000gn/T/ipykernel_24273/4201651174.py:7: FutureWarning: 'M' is deprecated and will be removed in a future version, please use 'ME' instead.\n",
      "  pd.date_range(start=\"2020-01-01\", periods=3, freq=\"M\")\n"
     ]
    },
    {
     "data": {
      "text/plain": [
       "DatetimeIndex(['2020-01-31', '2020-02-29', '2020-03-31'], dtype='datetime64[ns]', freq='ME')"
      ]
     },
     "execution_count": 20,
     "metadata": {},
     "output_type": "execute_result"
    }
   ],
   "source": [
    "# pd.date_range で「月の終わり」（月末日）を指定する例\n",
    "# 引数:\n",
    "#   start='2020-01-01' → 開始日を 2020年1月1日とする\n",
    "#   periods=3          → 3 期間分を生成する\n",
    "#   freq='M'           → \"Month End\" を意味し、各月の最終日を返す\n",
    "\n",
    "pd.date_range(start=\"2020-01-01\", periods=3, freq=\"M\")"
   ]
  },
  {
   "cell_type": "code",
   "execution_count": 21,
   "id": "2456e7de",
   "metadata": {},
   "outputs": [
    {
     "data": {
      "text/plain": [
       "DatetimeIndex(['2020-01-01', '2020-01-02', '2020-01-03'], dtype='datetime64[ns]', freq='D')"
      ]
     },
     "execution_count": 21,
     "metadata": {},
     "output_type": "execute_result"
    }
   ],
   "source": [
    "# pd.date_range で「1日単位」の日付を生成する例\n",
    "# 引数:\n",
    "#   start='2020-01-01' → 開始日を 2020年1月1日とする\n",
    "#   periods=3          → 3 日分を生成する\n",
    "#   freq='D'           → \"Day\" を意味し、日ごとの間隔を指定する\n",
    "\n",
    "pd.date_range(start=\"2020-01-01\", periods=3, freq=\"D\")"
   ]
  },
  {
   "cell_type": "code",
   "execution_count": 22,
   "id": "2be67deb",
   "metadata": {},
   "outputs": [
    {
     "name": "stdout",
     "output_type": "stream",
     "text": [
      "DatetimeIndex(['2020-01-01', '2020-01-02', '2020-01-03'], dtype='datetime64[ns]', freq='D')\n",
      "DatetimeIndex(['2020-01-05', '2020-01-12', '2020-01-19'], dtype='datetime64[ns]', freq='W-SUN')\n",
      "DatetimeIndex(['2020-01-15', '2020-01-31', '2020-02-15'], dtype='datetime64[ns]', freq='SME-15')\n",
      "DatetimeIndex(['2020-01-01', '2020-01-15', '2020-02-01'], dtype='datetime64[ns]', freq='SMS-15')\n",
      "DatetimeIndex(['2020-01-31', '2020-02-29', '2020-03-31'], dtype='datetime64[ns]', freq='ME')\n",
      "DatetimeIndex(['2020-01-01', '2020-02-01', '2020-03-01'], dtype='datetime64[ns]', freq='MS')\n",
      "DatetimeIndex(['2020-03-31', '2020-06-30', '2020-09-30'], dtype='datetime64[ns]', freq='QE-DEC')\n",
      "DatetimeIndex(['2020-01-01', '2020-04-01', '2020-07-01'], dtype='datetime64[ns]', freq='QS-JAN')\n",
      "DatetimeIndex(['2020-12-31', '2021-12-31', '2022-12-31'], dtype='datetime64[ns]', freq='YE-DEC')\n",
      "DatetimeIndex(['2020-01-01', '2021-01-01', '2022-01-01'], dtype='datetime64[ns]', freq='YS-JAN')\n"
     ]
    }
   ],
   "source": [
    "# 日付生成: pd.date_range の freq を変えることでさまざまな時間単位を扱える\n",
    "# 引数:\n",
    "#   start='2020-01-01' → 開始日\n",
    "#   periods=3          → 3 期間分生成\n",
    "#   freq=...           → 時間の単位を指定\n",
    "\n",
    "# 1日単位\n",
    "print(pd.date_range(start=\"2020-01-01\", periods=3, freq=\"D\"))  # Day（日ごと）\n",
    "\n",
    "# 1週間単位\n",
    "print(\n",
    "    pd.date_range(start=\"2020-01-01\", periods=3, freq=\"W\")\n",
    ")  # Week（週ごと、デフォルトは日曜日が週末）\n",
    "\n",
    "# 半月単位（15日ごと）\n",
    "print(\n",
    "    pd.date_range(start=\"2020-01-01\", periods=3, freq=\"SME\")\n",
    ")  # Semi-Month-End（各月の15日と月末）\n",
    "print(\n",
    "    pd.date_range(start=\"2020-01-01\", periods=3, freq=\"SMS\")\n",
    ")  # Semi-Month-Start（各月の1日と15日）\n",
    "\n",
    "# 月単位\n",
    "print(pd.date_range(start=\"2020-01-01\", periods=3, freq=\"ME\"))  # Month-End（各月末）\n",
    "print(pd.date_range(start=\"2020-01-01\", periods=3, freq=\"MS\"))  # Month-Start（各月初）\n",
    "\n",
    "# 四半期単位\n",
    "print(\n",
    "    pd.date_range(start=\"2020-01-01\", periods=3, freq=\"QE\")\n",
    ")  # Quarter-End（各四半期の末）\n",
    "print(\n",
    "    pd.date_range(start=\"2020-01-01\", periods=3, freq=\"QS\")\n",
    ")  # Quarter-Start（各四半期の初め）\n",
    "\n",
    "# 年単位\n",
    "print(\n",
    "    pd.date_range(start=\"2020-01-01\", periods=3, freq=\"YE\")\n",
    ")  # Year-End（年末: 12/31）\n",
    "print(\n",
    "    pd.date_range(start=\"2020-01-01\", periods=3, freq=\"YS\")\n",
    ")  # Year-Start（年初: 1/1）"
   ]
  },
  {
   "cell_type": "code",
   "execution_count": 23,
   "id": "a817cf80",
   "metadata": {},
   "outputs": [
    {
     "name": "stdout",
     "output_type": "stream",
     "text": [
      "DatetimeIndex(['2020-01-01 00:00:00', '2020-01-01 01:00:00',\n",
      "               '2020-01-01 02:00:00'],\n",
      "              dtype='datetime64[ns]', freq='h')\n",
      "DatetimeIndex(['2020-01-01 00:00:00', '2020-01-01 00:01:00',\n",
      "               '2020-01-01 00:02:00'],\n",
      "              dtype='datetime64[ns]', freq='min')\n",
      "DatetimeIndex(['2020-01-01 00:00:00', '2020-01-01 00:00:01',\n",
      "               '2020-01-01 00:00:02'],\n",
      "              dtype='datetime64[ns]', freq='s')\n",
      "DatetimeIndex([       '2020-01-01 00:00:00', '2020-01-01 00:00:00.001000',\n",
      "               '2020-01-01 00:00:00.002000'],\n",
      "              dtype='datetime64[ns]', freq='ms')\n",
      "DatetimeIndex([       '2020-01-01 00:00:00', '2020-01-01 00:00:00.000001',\n",
      "               '2020-01-01 00:00:00.000002'],\n",
      "              dtype='datetime64[ns]', freq='us')\n",
      "DatetimeIndex([          '2020-01-01 00:00:00',\n",
      "               '2020-01-01 00:00:00.000000001',\n",
      "               '2020-01-01 00:00:00.000000002'],\n",
      "              dtype='datetime64[ns]', freq='ns')\n"
     ]
    }
   ],
   "source": [
    "# さまざまな時間単位（1日未満の単位）\n",
    "# freq の指定により、時間・分・秒などの粒度で DatetimeIndex を生成できる\n",
    "\n",
    "# 1時間ごとに3つ\n",
    "print(pd.date_range(start=\"2020-01-01\", periods=3, freq=\"h\"))  # Hour（時単位）\n",
    "\n",
    "# 1分ごとに3つ\n",
    "print(pd.date_range(start=\"2020-01-01\", periods=3, freq=\"min\"))  # Minute（分単位）\n",
    "\n",
    "# 1秒ごとに3つ\n",
    "print(pd.date_range(start=\"2020-01-01\", periods=3, freq=\"s\"))  # Second（秒単位）\n",
    "\n",
    "# --- 以下は補足: より細かい単位も可能 ---\n",
    "\n",
    "# 1ミリ秒ごとに3つ\n",
    "print(\n",
    "    pd.date_range(start=\"2020-01-01\", periods=3, freq=\"ms\")\n",
    ")  # milli-second（ミリ秒単位）\n",
    "\n",
    "# 1マイクロ秒ごとに3つ\n",
    "print(\n",
    "    pd.date_range(start=\"2020-01-01\", periods=3, freq=\"us\")\n",
    ")  # micro-seconds（マイクロ秒単位）\n",
    "\n",
    "# 1ナノ秒ごとに3つ\n",
    "print(\n",
    "    pd.date_range(start=\"2020-01-01\", periods=3, freq=\"ns\")\n",
    ")  # nanoseconds（ナノ秒単位）"
   ]
  },
  {
   "cell_type": "code",
   "execution_count": 24,
   "id": "5d6f1437",
   "metadata": {},
   "outputs": [
    {
     "name": "stdout",
     "output_type": "stream",
     "text": [
      "DatetimeIndex(['2020-01-05', '2020-01-12', '2020-01-19', '2020-01-26'], dtype='datetime64[ns]', freq='W-SUN')\n",
      "DatetimeIndex(['2020-01-06', '2020-01-13', '2020-01-20', '2020-01-27'], dtype='datetime64[ns]', freq='W-MON')\n"
     ]
    }
   ],
   "source": [
    "# freq の詳細な設定例（曜日を基準にした週単位のインデックス作成）\n",
    "\n",
    "# 'W-SUN' : 週単位で日曜日を区切り（つまり各要素が日曜日になる）\n",
    "print(pd.date_range(start=\"2020-01-01\", periods=4, freq=\"W-SUN\"))  # Week-Sunday\n",
    "\n",
    "# 'W-MON' : 週単位で月曜日を区切り（つまり各要素が月曜日になる）\n",
    "print(pd.date_range(start=\"2020-01-01\", periods=4, freq=\"W-MON\"))  # Week-Monday"
   ]
  },
  {
   "cell_type": "code",
   "execution_count": 25,
   "id": "56e24ab2",
   "metadata": {},
   "outputs": [
    {
     "name": "stdout",
     "output_type": "stream",
     "text": [
      "DatetimeIndex(['2020-01-01 00:00:00', '2020-01-01 00:15:00',\n",
      "               '2020-01-01 00:30:00', '2020-01-01 00:45:00',\n",
      "               '2020-01-01 01:00:00', '2020-01-01 01:15:00'],\n",
      "              dtype='datetime64[ns]', freq='15min')\n"
     ]
    }
   ],
   "source": [
    "# freq='15min' を指定すると、15分間隔で時系列インデックスを生成できる\n",
    "# 引数:\n",
    "#   start='2020-01-01' → 基準となる開始時刻（2020年1月1日 00:00:00）\n",
    "#   periods=6          → 6 つの時点を生成\n",
    "#   freq='15min'       → 15分ごとの間隔\n",
    "\n",
    "print(pd.date_range(start=\"2020-01-01\", periods=6, freq=\"15min\"))  # 15 Minute"
   ]
  },
  {
   "cell_type": "code",
   "execution_count": 26,
   "id": "13389ce5",
   "metadata": {},
   "outputs": [
    {
     "data": {
      "text/plain": [
       "0    1\n",
       "1    2\n",
       "2    3\n",
       "3    4\n",
       "4    5\n",
       "dtype: int64"
      ]
     },
     "execution_count": 26,
     "metadata": {},
     "output_type": "execute_result"
    }
   ],
   "source": [
    "my_ts = pd.Series([1, 2, 3, 4, 5])\n",
    "my_ts"
   ]
  },
  {
   "cell_type": "code",
   "execution_count": 27,
   "id": "0e574cf3",
   "metadata": {},
   "outputs": [
    {
     "data": {
      "text/plain": [
       "2020-01-01    1\n",
       "2020-01-02    2\n",
       "2020-01-03    3\n",
       "2020-01-04    4\n",
       "2020-01-05    5\n",
       "Freq: D, dtype: int64"
      ]
     },
     "execution_count": 27,
     "metadata": {},
     "output_type": "execute_result"
    }
   ],
   "source": [
    "# Series に日付インデックスを付与する例\n",
    "#\n",
    "# pd.date_range(start='2020-01-01', periods=5, freq='D')\n",
    "#   → 2020年1月1日から始まる 5日分の日付インデックスを生成（日単位）\n",
    "#\n",
    "# これを my_ts.index に代入することで、数値だけの Series に\n",
    "# 「日付インデックス」を割り当て、時系列データとして扱えるようにする。\n",
    "\n",
    "my_ts.index = pd.date_range(start=\"2020-01-01\", periods=5, freq=\"D\")\n",
    "my_ts"
   ]
  },
  {
   "cell_type": "code",
   "execution_count": 28,
   "id": "527e0cbb",
   "metadata": {},
   "outputs": [
    {
     "name": "stdout",
     "output_type": "stream",
     "text": [
      "            product_a  product_b\n",
      "2020-01-01          1          4\n",
      "2020-02-01          4          9\n",
      "2020-03-01          7          3\n",
      "2020-04-01          4          1\n",
      "2020-05-01          8          0\n"
     ]
    }
   ],
   "source": [
    "my_mts = pd.DataFrame({\"product_a\": [1, 4, 7, 4, 8], \"product_b\": [4, 9, 3, 1, 0]})\n",
    "my_mts.index = pd.date_range(start=\"2020-01-01\", periods=5, freq=\"MS\")\n",
    "print(my_mts)"
   ]
  },
  {
   "cell_type": "code",
   "execution_count": 29,
   "id": "d4d7569d",
   "metadata": {},
   "outputs": [
    {
     "name": "stdout",
     "output_type": "stream",
     "text": [
      "            product_a  product_b\n",
      "2020-01-05          1          4\n",
      "2020-01-12          4          9\n",
      "2020-01-19          7          3\n",
      "2020-01-26          4          1\n",
      "2020-02-02          8          0\n"
     ]
    }
   ],
   "source": [
    "my_mts.index = pd.date_range(start=\"2020-01-01\", periods=5, freq=\"W\")\n",
    "print(my_mts)"
   ]
  },
  {
   "cell_type": "code",
   "execution_count": null,
   "id": "fdc41d18",
   "metadata": {},
   "outputs": [],
   "source": []
  }
 ],
 "metadata": {
  "kernelspec": {
   "display_name": "py_tsa_venv",
   "language": "python",
   "name": "python3"
  },
  "language_info": {
   "codemirror_mode": {
    "name": "ipython",
    "version": 3
   },
   "file_extension": ".py",
   "mimetype": "text/x-python",
   "name": "python",
   "nbconvert_exporter": "python",
   "pygments_lexer": "ipython3",
   "version": "3.10.13"
  }
 },
 "nbformat": 4,
 "nbformat_minor": 5
}
