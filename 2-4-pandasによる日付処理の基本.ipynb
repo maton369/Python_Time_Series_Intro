{
 "cells": [
  {
   "cell_type": "code",
   "execution_count": 1,
   "id": "2b5f3ba1",
   "metadata": {},
   "outputs": [],
   "source": [
    "# 数値計算に使うライブラリ\n",
    "import numpy as np\n",
    "import pandas as pd"
   ]
  },
  {
   "cell_type": "code",
   "execution_count": 2,
   "id": "9ababeea",
   "metadata": {},
   "outputs": [],
   "source": [
    "# 表示設定\n",
    "np.set_printoptions(linewidth=80)\n",
    "pd.set_option(\"display.width\", 80)\n",
    "\n",
    "from matplotlib.pylab import rcParams\n",
    "\n",
    "rcParams[\"figure.figsize\"] = 8, 4"
   ]
  },
  {
   "cell_type": "code",
   "execution_count": 3,
   "id": "54b7f7f1",
   "metadata": {},
   "outputs": [
    {
     "data": {
      "text/plain": [
       "str"
      ]
     },
     "execution_count": 3,
     "metadata": {},
     "output_type": "execute_result"
    }
   ],
   "source": [
    "type(\"2020-01-01\")"
   ]
  },
  {
   "cell_type": "code",
   "execution_count": 4,
   "id": "1543b316",
   "metadata": {},
   "outputs": [
    {
     "data": {
      "text/plain": [
       "Timestamp('2020-05-11 00:00:00')"
      ]
     },
     "execution_count": 4,
     "metadata": {},
     "output_type": "execute_result"
    }
   ],
   "source": [
    "# pandas の Timestamp オブジェクトを作成\n",
    "\n",
    "# pd.Timestamp:\n",
    "#   - pandas が提供する日時型 (datetime64[ns] と互換)\n",
    "#   - Python 標準の datetime よりも高機能で、\n",
    "#     時系列データのインデックスや演算に広く使われる\n",
    "#   - '2020-05-11' のような文字列を渡すと、その日付の Timestamp を生成する\n",
    "\n",
    "my_time = pd.Timestamp(\"2020-05-11\")\n",
    "my_time  # → 2020-05-11 00:00:00 として表示される"
   ]
  },
  {
   "cell_type": "code",
   "execution_count": 5,
   "id": "4e58b4ea",
   "metadata": {},
   "outputs": [
    {
     "data": {
      "text/plain": [
       "pandas._libs.tslibs.timestamps.Timestamp"
      ]
     },
     "execution_count": 5,
     "metadata": {},
     "output_type": "execute_result"
    }
   ],
   "source": [
    "type(my_time)"
   ]
  },
  {
   "cell_type": "code",
   "execution_count": 6,
   "id": "9dda4be6",
   "metadata": {},
   "outputs": [
    {
     "data": {
      "text/plain": [
       "Timestamp('2020-05-11 00:00:00')"
      ]
     },
     "execution_count": 6,
     "metadata": {},
     "output_type": "execute_result"
    }
   ],
   "source": [
    "# pandas の to_datetime を使って日付文字列を Timestamp に変換\n",
    "\n",
    "# pd.to_datetime:\n",
    "#   - 文字列や配列 (リスト, Series) を pandas の日時型 Timestamp に変換する関数\n",
    "#   - 柔軟に日付フォーマットを解釈できる\n",
    "#   - '2020-05-11' という文字列を与えると Timestamp('2020-05-11 00:00:00') が返る\n",
    "\n",
    "my_time2 = pd.to_datetime(\"2020-05-11\")\n",
    "my_time2  # → 2020-05-11 00:00:00"
   ]
  },
  {
   "cell_type": "code",
   "execution_count": 7,
   "id": "9207a9ed",
   "metadata": {},
   "outputs": [
    {
     "data": {
      "text/plain": [
       "Timestamp('2020-06-08 00:00:00')"
      ]
     },
     "execution_count": 7,
     "metadata": {},
     "output_type": "execute_result"
    }
   ],
   "source": [
    "# 日本語表記の日付文字列を pandas の Timestamp に変換する例\n",
    "\n",
    "# pd.to_datetime:\n",
    "#   - 日付文字列を pandas.Timestamp に変換する関数\n",
    "#   - \"format\" 引数を指定することで、任意の書式に従ってパースできる\n",
    "#   - Python の datetime.strftime / strptime と同じ書式指定子を利用する\n",
    "\n",
    "# '%Y年%m月%d日':\n",
    "#   - %Y: 西暦 (4桁)\n",
    "#   - %m: 月 (2桁)\n",
    "#   - %d: 日 (2桁)\n",
    "#   - '年', '月', '日' はそのまま文字として扱う\n",
    "\n",
    "my_time3 = pd.to_datetime(\"2020年6月8日\", format=\"%Y年%m月%d日\")\n",
    "my_time3  # → 2020-06-08 00:00:00 として Timestamp が返る"
   ]
  },
  {
   "cell_type": "code",
   "execution_count": 8,
   "id": "248e9a37",
   "metadata": {},
   "outputs": [
    {
     "data": {
      "text/plain": [
       "Timestamp('2020-02-07 00:00:00')"
      ]
     },
     "execution_count": 8,
     "metadata": {},
     "output_type": "execute_result"
    }
   ],
   "source": [
    "# 英語の省略月を含む日付文字列を Timestamp に変換する例\n",
    "\n",
    "# '2020 Feb 7':\n",
    "#   - 西暦 2020 年\n",
    "#   - 月は英語3文字表記 \"Feb\" (February)\n",
    "#   - 日は 7 日\n",
    "\n",
    "# format='%Y %b %d':\n",
    "#   - %Y: 西暦 (4桁)\n",
    "#   - %b: 月 (英語3文字表記, Jan, Feb, Mar, …)\n",
    "#   - %d: 日 (ゼロ埋めありでもOK)\n",
    "\n",
    "my_time4 = pd.to_datetime(\"2020 Feb 7\", format=\"%Y %b %d\")\n",
    "my_time4  # → 2020-02-07 00:00:00 として Timestamp が返る"
   ]
  },
  {
   "cell_type": "code",
   "execution_count": 9,
   "id": "f3c44318",
   "metadata": {},
   "outputs": [
    {
     "data": {
      "text/plain": [
       "Timestamp('2020-06-08 14:28:14')"
      ]
     },
     "execution_count": 9,
     "metadata": {},
     "output_type": "execute_result"
    }
   ],
   "source": [
    "# 複雑な日本語文章の中から日付と時刻を抜き出して Timestamp に変換する例\n",
    "\n",
    "# 入力文字列:\n",
    "#   '時間は14時28分14秒だよ。ちなみに2020年の6月8日です。'\n",
    "#   → 年月日だけでなく、時刻 (14:28:14) も含まれている\n",
    "\n",
    "# format 引数:\n",
    "#   '時間は%H時%M分%S秒だよ。ちなみに%Y年の%m月%d日です。'\n",
    "#   - %H : 時 (24時間表記, 14)\n",
    "#   - %M : 分 (28)\n",
    "#   - %S : 秒 (14)\n",
    "#   - %Y : 西暦 (2020)\n",
    "#   - %m : 月 (06)\n",
    "#   - %d : 日 (08)\n",
    "#   - 文章中の「時間は」「だよ。ちなみに」「年の」「月」「日です。」などは\n",
    "#     文字列としてそのままマッチさせる\n",
    "\n",
    "my_time5 = pd.to_datetime(\n",
    "    \"時間は14時28分14秒だよ。ちなみに2020年の6月8日です。\",\n",
    "    format=\"時間は%H時%M分%S秒だよ。ちなみに%Y年の%m月%d日です。\",\n",
    ")\n",
    "\n",
    "my_time5  # → 2020-06-08 14:28:14 として Timestamp が返る"
   ]
  },
  {
   "cell_type": "code",
   "execution_count": 10,
   "id": "da101554",
   "metadata": {},
   "outputs": [
    {
     "data": {
      "text/plain": [
       "Timestamp('2025-09-29 20:37:30.085953')"
      ]
     },
     "execution_count": 10,
     "metadata": {},
     "output_type": "execute_result"
    }
   ],
   "source": [
    "pd.Timestamp.now()"
   ]
  },
  {
   "cell_type": "code",
   "execution_count": 11,
   "id": "254de71a",
   "metadata": {},
   "outputs": [
    {
     "data": {
      "text/plain": [
       "Timestamp('2020-09-08 14:11:04')"
      ]
     },
     "execution_count": 11,
     "metadata": {},
     "output_type": "execute_result"
    }
   ],
   "source": [
    "my_time3 = pd.to_datetime(\"2020-09-08 14:11:04\")\n",
    "my_time3"
   ]
  },
  {
   "cell_type": "code",
   "execution_count": 12,
   "id": "3b056f85",
   "metadata": {},
   "outputs": [
    {
     "name": "stdout",
     "output_type": "stream",
     "text": [
      "年 2020\n",
      "月 9\n",
      "日 8\n",
      "時 14\n",
      "分 11\n",
      "秒 4\n",
      "1年の何日目か 252\n",
      "1年の何週目か 37\n",
      "曜日(月曜が0) 1\n",
      "四半期　　　  3\n"
     ]
    }
   ],
   "source": [
    "# my_time3 は Timestamp 型のオブジェクト\n",
    "# 例: 2020-06-08 00:00:00\n",
    "# これに対して日付や時間に関する属性を参照できる\n",
    "\n",
    "print(\"年\", my_time3.year)  # year 属性 → 西暦 (2020)\n",
    "print(\"月\", my_time3.month)  # month 属性 → 月 (6)\n",
    "print(\"日\", my_time3.day)  # day 属性 → 日 (8)\n",
    "\n",
    "print(\"時\", my_time3.hour)  # hour 属性 → 時間 (0) ここでは指定していないので 0\n",
    "print(\"分\", my_time3.minute)  # minute 属性 → 分 (0)\n",
    "print(\"秒\", my_time3.second)  # second 属性 → 秒 (0)\n",
    "\n",
    "print(\n",
    "    \"1年の何日目か\", my_time3.dayofyear\n",
    ")  # dayofyear 属性 → その年の通算日 (2020/6/8 → 160日目)\n",
    "\n",
    "# 注意: weekofyear は将来的に廃止予定 (FutureWarning が出ることがある)\n",
    "# 代わりに isocalendar().week を使うのが推奨される\n",
    "print(\"1年の何週目か\", my_time3.weekofyear)\n",
    "\n",
    "print(\"曜日(月曜が0)\", my_time3.dayofweek)  # dayofweek 属性 → 曜日 (0=月曜, 6=日曜)\n",
    "print(\"四半期　　　 \", my_time3.quarter)  # quarter 属性 → 四半期 (1〜4)"
   ]
  },
  {
   "cell_type": "code",
   "execution_count": 13,
   "id": "6ceac858",
   "metadata": {},
   "outputs": [
    {
     "name": "stdout",
     "output_type": "stream",
     "text": [
      "2020年2月 29\n",
      "2021年2月 28\n"
     ]
    }
   ],
   "source": [
    "# daysinmonth 属性を使うと、その月に「何日あるか」を取得できる\n",
    "# うるう年 (2020年) と平年 (2021年) の 2 月を比較する例\n",
    "\n",
    "print(\"2020年2月\", pd.to_datetime(\"2020-02\").daysinmonth)  # うるう年なので 29\n",
    "print(\"2021年2月\", pd.to_datetime(\"2021-02\").daysinmonth)  # 平年なので 28"
   ]
  },
  {
   "cell_type": "code",
   "execution_count": 14,
   "id": "a2de2935",
   "metadata": {},
   "outputs": [
    {
     "name": "stdout",
     "output_type": "stream",
     "text": [
      "DatetimeIndex(['2020-01-01', '2020-02-01', '2020-03-01'], dtype='datetime64[ns]', freq='MS')\n"
     ]
    }
   ],
   "source": [
    "# pd.date_range を使って日付の範囲を生成する例\n",
    "# 引数:\n",
    "#   start='2020-01-01' → 開始日を 2020年1月1日 とする\n",
    "#   end='2020-03-01'   → 終了日を 2020年3月1日 とする\n",
    "#   freq='MS'          → \"Month Start\" の略で「各月の初日」を意味する頻度\n",
    "\n",
    "time_range = pd.date_range(start=\"2020-01-01\", end=\"2020-03-01\", freq=\"MS\")\n",
    "print(time_range)"
   ]
  },
  {
   "cell_type": "code",
   "execution_count": 15,
   "id": "6f06060c",
   "metadata": {},
   "outputs": [
    {
     "data": {
      "text/plain": [
       "pandas.core.indexes.datetimes.DatetimeIndex"
      ]
     },
     "execution_count": 15,
     "metadata": {},
     "output_type": "execute_result"
    }
   ],
   "source": [
    "type(time_range)"
   ]
  },
  {
   "cell_type": "code",
   "execution_count": 16,
   "id": "c50f6eb7",
   "metadata": {},
   "outputs": [
    {
     "data": {
      "text/plain": [
       "DatetimeIndex(['2020-01-01', '2020-02-01'], dtype='datetime64[ns]', freq='MS')"
      ]
     },
     "execution_count": 16,
     "metadata": {},
     "output_type": "execute_result"
    }
   ],
   "source": [
    "# endを含まない\n",
    "pd.date_range(start=\"2020-01-01\", end=\"2020-03-01\", freq=\"MS\", inclusive=\"left\")"
   ]
  },
  {
   "cell_type": "code",
   "execution_count": 17,
   "id": "f71d603d",
   "metadata": {},
   "outputs": [
    {
     "data": {
      "text/plain": [
       "DatetimeIndex(['2020-02-01', '2020-03-01'], dtype='datetime64[ns]', freq='MS')"
      ]
     },
     "execution_count": 17,
     "metadata": {},
     "output_type": "execute_result"
    }
   ],
   "source": [
    "# startを含まない\n",
    "pd.date_range(start=\"2020-01-01\", end=\"2020-03-01\", freq=\"MS\", inclusive=\"right\")"
   ]
  },
  {
   "cell_type": "code",
   "execution_count": 18,
   "id": "79915b59",
   "metadata": {},
   "outputs": [
    {
     "data": {
      "text/plain": [
       "DatetimeIndex(['2020-02-01'], dtype='datetime64[ns]', freq='MS')"
      ]
     },
     "execution_count": 18,
     "metadata": {},
     "output_type": "execute_result"
    }
   ],
   "source": [
    "# start,endを含まない\n",
    "pd.date_range(start=\"2020-01-01\", end=\"2020-03-01\", freq=\"MS\", inclusive=\"neither\")"
   ]
  },
  {
   "cell_type": "code",
   "execution_count": 19,
   "id": "132944ac",
   "metadata": {},
   "outputs": [
    {
     "data": {
      "text/plain": [
       "DatetimeIndex(['2020-01-01', '2020-02-01', '2020-03-01'], dtype='datetime64[ns]', freq='MS')"
      ]
     },
     "execution_count": 19,
     "metadata": {},
     "output_type": "execute_result"
    }
   ],
   "source": [
    "# pd.date_range の使い方（periods を指定する例）\n",
    "# 引数:\n",
    "#   start='2020-01-01' → 開始日を 2020年1月1日とする\n",
    "#   periods=3          → 3 期間分を生成する\n",
    "#   freq='MS'          → \"Month Start\" 各月の初日を意味する頻度\n",
    "\n",
    "pd.date_range(start=\"2020-01-01\", periods=3, freq=\"MS\")"
   ]
  },
  {
   "cell_type": "code",
   "execution_count": 20,
   "id": "77a78479",
   "metadata": {},
   "outputs": [
    {
     "name": "stderr",
     "output_type": "stream",
     "text": [
      "/var/folders/0t/6d51btm11zz6lw61fgrmf7z00000gn/T/ipykernel_24273/4201651174.py:7: FutureWarning: 'M' is deprecated and will be removed in a future version, please use 'ME' instead.\n",
      "  pd.date_range(start=\"2020-01-01\", periods=3, freq=\"M\")\n"
     ]
    },
    {
     "data": {
      "text/plain": [
       "DatetimeIndex(['2020-01-31', '2020-02-29', '2020-03-31'], dtype='datetime64[ns]', freq='ME')"
      ]
     },
     "execution_count": 20,
     "metadata": {},
     "output_type": "execute_result"
    }
   ],
   "source": [
    "# pd.date_range で「月の終わり」（月末日）を指定する例\n",
    "# 引数:\n",
    "#   start='2020-01-01' → 開始日を 2020年1月1日とする\n",
    "#   periods=3          → 3 期間分を生成する\n",
    "#   freq='M'           → \"Month End\" を意味し、各月の最終日を返す\n",
    "\n",
    "pd.date_range(start=\"2020-01-01\", periods=3, freq=\"M\")"
   ]
  },
  {
   "cell_type": "code",
   "execution_count": 21,
   "id": "2456e7de",
   "metadata": {},
   "outputs": [
    {
     "data": {
      "text/plain": [
       "DatetimeIndex(['2020-01-01', '2020-01-02', '2020-01-03'], dtype='datetime64[ns]', freq='D')"
      ]
     },
     "execution_count": 21,
     "metadata": {},
     "output_type": "execute_result"
    }
   ],
   "source": [
    "# pd.date_range で「1日単位」の日付を生成する例\n",
    "# 引数:\n",
    "#   start='2020-01-01' → 開始日を 2020年1月1日とする\n",
    "#   periods=3          → 3 日分を生成する\n",
    "#   freq='D'           → \"Day\" を意味し、日ごとの間隔を指定する\n",
    "\n",
    "pd.date_range(start=\"2020-01-01\", periods=3, freq=\"D\")"
   ]
  },
  {
   "cell_type": "code",
   "execution_count": 22,
   "id": "2be67deb",
   "metadata": {},
   "outputs": [
    {
     "name": "stdout",
     "output_type": "stream",
     "text": [
      "DatetimeIndex(['2020-01-01', '2020-01-02', '2020-01-03'], dtype='datetime64[ns]', freq='D')\n",
      "DatetimeIndex(['2020-01-05', '2020-01-12', '2020-01-19'], dtype='datetime64[ns]', freq='W-SUN')\n",
      "DatetimeIndex(['2020-01-15', '2020-01-31', '2020-02-15'], dtype='datetime64[ns]', freq='SME-15')\n",
      "DatetimeIndex(['2020-01-01', '2020-01-15', '2020-02-01'], dtype='datetime64[ns]', freq='SMS-15')\n",
      "DatetimeIndex(['2020-01-31', '2020-02-29', '2020-03-31'], dtype='datetime64[ns]', freq='ME')\n",
      "DatetimeIndex(['2020-01-01', '2020-02-01', '2020-03-01'], dtype='datetime64[ns]', freq='MS')\n",
      "DatetimeIndex(['2020-03-31', '2020-06-30', '2020-09-30'], dtype='datetime64[ns]', freq='QE-DEC')\n",
      "DatetimeIndex(['2020-01-01', '2020-04-01', '2020-07-01'], dtype='datetime64[ns]', freq='QS-JAN')\n",
      "DatetimeIndex(['2020-12-31', '2021-12-31', '2022-12-31'], dtype='datetime64[ns]', freq='YE-DEC')\n",
      "DatetimeIndex(['2020-01-01', '2021-01-01', '2022-01-01'], dtype='datetime64[ns]', freq='YS-JAN')\n"
     ]
    }
   ],
   "source": [
    "# 日付生成: pd.date_range の freq を変えることでさまざまな時間単位を扱える\n",
    "# 引数:\n",
    "#   start='2020-01-01' → 開始日\n",
    "#   periods=3          → 3 期間分生成\n",
    "#   freq=...           → 時間の単位を指定\n",
    "\n",
    "# 1日単位\n",
    "print(pd.date_range(start=\"2020-01-01\", periods=3, freq=\"D\"))  # Day（日ごと）\n",
    "\n",
    "# 1週間単位\n",
    "print(\n",
    "    pd.date_range(start=\"2020-01-01\", periods=3, freq=\"W\")\n",
    ")  # Week（週ごと、デフォルトは日曜日が週末）\n",
    "\n",
    "# 半月単位（15日ごと）\n",
    "print(\n",
    "    pd.date_range(start=\"2020-01-01\", periods=3, freq=\"SME\")\n",
    ")  # Semi-Month-End（各月の15日と月末）\n",
    "print(\n",
    "    pd.date_range(start=\"2020-01-01\", periods=3, freq=\"SMS\")\n",
    ")  # Semi-Month-Start（各月の1日と15日）\n",
    "\n",
    "# 月単位\n",
    "print(pd.date_range(start=\"2020-01-01\", periods=3, freq=\"ME\"))  # Month-End（各月末）\n",
    "print(pd.date_range(start=\"2020-01-01\", periods=3, freq=\"MS\"))  # Month-Start（各月初）\n",
    "\n",
    "# 四半期単位\n",
    "print(\n",
    "    pd.date_range(start=\"2020-01-01\", periods=3, freq=\"QE\")\n",
    ")  # Quarter-End（各四半期の末）\n",
    "print(\n",
    "    pd.date_range(start=\"2020-01-01\", periods=3, freq=\"QS\")\n",
    ")  # Quarter-Start（各四半期の初め）\n",
    "\n",
    "# 年単位\n",
    "print(\n",
    "    pd.date_range(start=\"2020-01-01\", periods=3, freq=\"YE\")\n",
    ")  # Year-End（年末: 12/31）\n",
    "print(\n",
    "    pd.date_range(start=\"2020-01-01\", periods=3, freq=\"YS\")\n",
    ")  # Year-Start（年初: 1/1）"
   ]
  },
  {
   "cell_type": "code",
   "execution_count": 23,
   "id": "a817cf80",
   "metadata": {},
   "outputs": [
    {
     "name": "stdout",
     "output_type": "stream",
     "text": [
      "DatetimeIndex(['2020-01-01 00:00:00', '2020-01-01 01:00:00',\n",
      "               '2020-01-01 02:00:00'],\n",
      "              dtype='datetime64[ns]', freq='h')\n",
      "DatetimeIndex(['2020-01-01 00:00:00', '2020-01-01 00:01:00',\n",
      "               '2020-01-01 00:02:00'],\n",
      "              dtype='datetime64[ns]', freq='min')\n",
      "DatetimeIndex(['2020-01-01 00:00:00', '2020-01-01 00:00:01',\n",
      "               '2020-01-01 00:00:02'],\n",
      "              dtype='datetime64[ns]', freq='s')\n",
      "DatetimeIndex([       '2020-01-01 00:00:00', '2020-01-01 00:00:00.001000',\n",
      "               '2020-01-01 00:00:00.002000'],\n",
      "              dtype='datetime64[ns]', freq='ms')\n",
      "DatetimeIndex([       '2020-01-01 00:00:00', '2020-01-01 00:00:00.000001',\n",
      "               '2020-01-01 00:00:00.000002'],\n",
      "              dtype='datetime64[ns]', freq='us')\n",
      "DatetimeIndex([          '2020-01-01 00:00:00',\n",
      "               '2020-01-01 00:00:00.000000001',\n",
      "               '2020-01-01 00:00:00.000000002'],\n",
      "              dtype='datetime64[ns]', freq='ns')\n"
     ]
    }
   ],
   "source": [
    "# さまざまな時間単位（1日未満の単位）\n",
    "# freq の指定により、時間・分・秒などの粒度で DatetimeIndex を生成できる\n",
    "\n",
    "# 1時間ごとに3つ\n",
    "print(pd.date_range(start=\"2020-01-01\", periods=3, freq=\"h\"))  # Hour（時単位）\n",
    "\n",
    "# 1分ごとに3つ\n",
    "print(pd.date_range(start=\"2020-01-01\", periods=3, freq=\"min\"))  # Minute（分単位）\n",
    "\n",
    "# 1秒ごとに3つ\n",
    "print(pd.date_range(start=\"2020-01-01\", periods=3, freq=\"s\"))  # Second（秒単位）\n",
    "\n",
    "# --- 以下は補足: より細かい単位も可能 ---\n",
    "\n",
    "# 1ミリ秒ごとに3つ\n",
    "print(\n",
    "    pd.date_range(start=\"2020-01-01\", periods=3, freq=\"ms\")\n",
    ")  # milli-second（ミリ秒単位）\n",
    "\n",
    "# 1マイクロ秒ごとに3つ\n",
    "print(\n",
    "    pd.date_range(start=\"2020-01-01\", periods=3, freq=\"us\")\n",
    ")  # micro-seconds（マイクロ秒単位）\n",
    "\n",
    "# 1ナノ秒ごとに3つ\n",
    "print(\n",
    "    pd.date_range(start=\"2020-01-01\", periods=3, freq=\"ns\")\n",
    ")  # nanoseconds（ナノ秒単位）"
   ]
  },
  {
   "cell_type": "code",
   "execution_count": 24,
   "id": "5d6f1437",
   "metadata": {},
   "outputs": [
    {
     "name": "stdout",
     "output_type": "stream",
     "text": [
      "DatetimeIndex(['2020-01-05', '2020-01-12', '2020-01-19', '2020-01-26'], dtype='datetime64[ns]', freq='W-SUN')\n",
      "DatetimeIndex(['2020-01-06', '2020-01-13', '2020-01-20', '2020-01-27'], dtype='datetime64[ns]', freq='W-MON')\n"
     ]
    }
   ],
   "source": [
    "# freq の詳細な設定例（曜日を基準にした週単位のインデックス作成）\n",
    "\n",
    "# 'W-SUN' : 週単位で日曜日を区切り（つまり各要素が日曜日になる）\n",
    "print(pd.date_range(start=\"2020-01-01\", periods=4, freq=\"W-SUN\"))  # Week-Sunday\n",
    "\n",
    "# 'W-MON' : 週単位で月曜日を区切り（つまり各要素が月曜日になる）\n",
    "print(pd.date_range(start=\"2020-01-01\", periods=4, freq=\"W-MON\"))  # Week-Monday"
   ]
  },
  {
   "cell_type": "code",
   "execution_count": 25,
   "id": "56e24ab2",
   "metadata": {},
   "outputs": [
    {
     "name": "stdout",
     "output_type": "stream",
     "text": [
      "DatetimeIndex(['2020-01-01 00:00:00', '2020-01-01 00:15:00',\n",
      "               '2020-01-01 00:30:00', '2020-01-01 00:45:00',\n",
      "               '2020-01-01 01:00:00', '2020-01-01 01:15:00'],\n",
      "              dtype='datetime64[ns]', freq='15min')\n"
     ]
    }
   ],
   "source": [
    "# freq='15min' を指定すると、15分間隔で時系列インデックスを生成できる\n",
    "# 引数:\n",
    "#   start='2020-01-01' → 基準となる開始時刻（2020年1月1日 00:00:00）\n",
    "#   periods=6          → 6 つの時点を生成\n",
    "#   freq='15min'       → 15分ごとの間隔\n",
    "\n",
    "print(pd.date_range(start=\"2020-01-01\", periods=6, freq=\"15min\"))  # 15 Minute"
   ]
  },
  {
   "cell_type": "code",
   "execution_count": 26,
   "id": "13389ce5",
   "metadata": {},
   "outputs": [
    {
     "data": {
      "text/plain": [
       "0    1\n",
       "1    2\n",
       "2    3\n",
       "3    4\n",
       "4    5\n",
       "dtype: int64"
      ]
     },
     "execution_count": 26,
     "metadata": {},
     "output_type": "execute_result"
    }
   ],
   "source": [
    "my_ts = pd.Series([1, 2, 3, 4, 5])\n",
    "my_ts"
   ]
  },
  {
   "cell_type": "code",
   "execution_count": 27,
   "id": "0e574cf3",
   "metadata": {},
   "outputs": [
    {
     "data": {
      "text/plain": [
       "2020-01-01    1\n",
       "2020-01-02    2\n",
       "2020-01-03    3\n",
       "2020-01-04    4\n",
       "2020-01-05    5\n",
       "Freq: D, dtype: int64"
      ]
     },
     "execution_count": 27,
     "metadata": {},
     "output_type": "execute_result"
    }
   ],
   "source": [
    "# Series に日付インデックスを付与する例\n",
    "#\n",
    "# pd.date_range(start='2020-01-01', periods=5, freq='D')\n",
    "#   → 2020年1月1日から始まる 5日分の日付インデックスを生成（日単位）\n",
    "#\n",
    "# これを my_ts.index に代入することで、数値だけの Series に\n",
    "# 「日付インデックス」を割り当て、時系列データとして扱えるようにする。\n",
    "\n",
    "my_ts.index = pd.date_range(start=\"2020-01-01\", periods=5, freq=\"D\")\n",
    "my_ts"
   ]
  },
  {
   "cell_type": "code",
   "execution_count": 28,
   "id": "527e0cbb",
   "metadata": {},
   "outputs": [
    {
     "name": "stdout",
     "output_type": "stream",
     "text": [
      "            product_a  product_b\n",
      "2020-01-01          1          4\n",
      "2020-02-01          4          9\n",
      "2020-03-01          7          3\n",
      "2020-04-01          4          1\n",
      "2020-05-01          8          0\n"
     ]
    }
   ],
   "source": [
    "my_mts = pd.DataFrame({\"product_a\": [1, 4, 7, 4, 8], \"product_b\": [4, 9, 3, 1, 0]})\n",
    "my_mts.index = pd.date_range(start=\"2020-01-01\", periods=5, freq=\"MS\")\n",
    "print(my_mts)"
   ]
  },
  {
   "cell_type": "code",
   "execution_count": 29,
   "id": "d4d7569d",
   "metadata": {},
   "outputs": [
    {
     "name": "stdout",
     "output_type": "stream",
     "text": [
      "            product_a  product_b\n",
      "2020-01-05          1          4\n",
      "2020-01-12          4          9\n",
      "2020-01-19          7          3\n",
      "2020-01-26          4          1\n",
      "2020-02-02          8          0\n"
     ]
    }
   ],
   "source": [
    "my_mts.index = pd.date_range(start=\"2020-01-01\", periods=5, freq=\"W\")\n",
    "print(my_mts)"
   ]
  },
  {
   "cell_type": "code",
   "execution_count": 30,
   "id": "fdc41d18",
   "metadata": {},
   "outputs": [
    {
     "name": "stdout",
     "output_type": "stream",
     "text": [
      "            sales\n",
      "time             \n",
      "2000-01-01   10.0\n",
      "2000-02-01    5.0\n",
      "2000-03-01    8.0\n",
      "2000-04-01   14.0\n",
      "2000-05-01    9.0\n"
     ]
    }
   ],
   "source": [
    "# 月次時系列データの読み込みと頻度設定である\n",
    "\n",
    "ts_month = pd.read_csv(\n",
    "    \"2-4-1-time-series-month.csv\",  # 読み込むCSVファイル名である\n",
    "    index_col=\"time\",  # 'time' 列を行インデックスとして使用するである\n",
    "    parse_dates=True,  # インデックスを日付型 (datetime64[ns]) に変換するである\n",
    "    dtype=\"float\",  # データ本体は浮動小数点として読み込むである\n",
    ")\n",
    "\n",
    "# インデックスの「頻度（freq）」メタ情報を明示するである\n",
    "# 'MS' は Month Start（各月初日）の略である\n",
    "# 注意: ここで設定するのは“メタ情報”に過ぎず、実データの欠損月を自動補完はしないである。\n",
    "# 欠損月を明示的に作りたい／詰めたい場合は ts_month = ts_month.asfreq('MS') を用いるである。\n",
    "# また、読み込み後に pandas が推定した頻度を確認したい場合は ts_month.index.inferred_freq を見ると良いである。\n",
    "ts_month.index.freq = \"MS\"\n",
    "\n",
    "# 結果の確認である\n",
    "print(ts_month)"
   ]
  },
  {
   "cell_type": "code",
   "execution_count": 31,
   "id": "7d67a478",
   "metadata": {},
   "outputs": [
    {
     "name": "stdout",
     "output_type": "stream",
     "text": [
      "            value\n",
      "time             \n",
      "1990-01-01    1.0\n",
      "1990-01-02    2.0\n",
      "1990-01-03    3.0\n",
      "             value\n",
      "time              \n",
      "1999-12-29  3650.0\n",
      "1999-12-30  3651.0\n",
      "1999-12-31  3652.0\n"
     ]
    }
   ],
   "source": [
    "# 日単位の時系列データを読み込む処理である\n",
    "\n",
    "ts_day = pd.read_csv(\n",
    "    \"2-4-2-time-series-day.csv\",  # CSVファイルのパスを指定\n",
    "    index_col=\"time\",  # 'time'列を行インデックスに設定\n",
    "    parse_dates=True,  # インデックスを日付型 (datetime64) として解釈\n",
    "    dtype=\"float\",  # データ本体は浮動小数点型にする\n",
    ")\n",
    "\n",
    "# インデックスの「頻度」メタ情報を明示的に設定\n",
    "# 'D' は日単位 (Day) を意味する\n",
    "ts_day.index.freq = \"D\"\n",
    "\n",
    "# データの確認\n",
    "# head(3) → 先頭3行を表示\n",
    "# tail(3) → 末尾3行を表示\n",
    "print(ts_day.head(3))\n",
    "print(ts_day.tail(3))"
   ]
  },
  {
   "cell_type": "code",
   "execution_count": 32,
   "id": "567099cd",
   "metadata": {},
   "outputs": [
    {
     "data": {
      "text/plain": [
       "DatetimeIndex(['2000-01-01', '2000-02-01', '2000-03-01', '2000-04-01',\n",
       "               '2000-05-01'],\n",
       "              dtype='datetime64[ns]', name='time', freq='MS')"
      ]
     },
     "execution_count": 32,
     "metadata": {},
     "output_type": "execute_result"
    }
   ],
   "source": [
    "ts_month.index"
   ]
  },
  {
   "cell_type": "code",
   "execution_count": 33,
   "id": "e77e0e6f",
   "metadata": {},
   "outputs": [
    {
     "data": {
      "text/plain": [
       "pandas.core.indexes.datetimes.DatetimeIndex"
      ]
     },
     "execution_count": 33,
     "metadata": {},
     "output_type": "execute_result"
    }
   ],
   "source": [
    "# 参考：indexの型\n",
    "type(ts_month.index)"
   ]
  },
  {
   "cell_type": "code",
   "execution_count": 34,
   "id": "4eaf86f4",
   "metadata": {},
   "outputs": [
    {
     "name": "stdout",
     "output_type": "stream",
     "text": [
      "   year  month  day  value\n",
      "0  1990      1    1      1\n",
      "1  1990      1    2      2\n",
      "2  1990      1    3      3\n"
     ]
    }
   ],
   "source": [
    "# 列ごとに分かれて記録されている日付データを読み込む例\n",
    "\n",
    "# CSVを読み込み（この時点では 'year', 'month', 'day' などが別々の列として入っている想定）\n",
    "separate_day = pd.read_csv(\"2-4-3-separate-time-day.csv\")\n",
    "\n",
    "# 先頭3行を表示して内容を確認\n",
    "# → どのように「年月日」が分割されて格納されているかをチェックする\n",
    "print(separate_day.head(3))"
   ]
  },
  {
   "cell_type": "code",
   "execution_count": 35,
   "id": "9f38d5e5",
   "metadata": {},
   "outputs": [
    {
     "name": "stdout",
     "output_type": "stream",
     "text": [
      "            year  month  day  value\n",
      "1990-01-01  1990      1    1      1\n",
      "1990-01-02  1990      1    2      2\n",
      "1990-01-03  1990      1    3      3\n"
     ]
    }
   ],
   "source": [
    "# 列ごとに分かれていた年月日をまとめて日付型に変換してインデックスに設定する\n",
    "\n",
    "# 'year', 'month', 'day' から datetime 型のインデックスを作成\n",
    "separate_day.index = pd.to_datetime(separate_day[[\"year\", \"month\", \"day\"]])\n",
    "\n",
    "# インデックスの頻度を「日単位（D）」と明示的に指定\n",
    "# → 時系列解析で resample や shift などを利用するときに有効\n",
    "separate_day.index.freq = \"D\"\n",
    "\n",
    "# 先頭3行を表示して確認\n",
    "print(separate_day.head(3))"
   ]
  },
  {
   "cell_type": "code",
   "execution_count": 36,
   "id": "d708981a",
   "metadata": {},
   "outputs": [
    {
     "name": "stdout",
     "output_type": "stream",
     "text": [
      "            value\n",
      "1990-01-01      1\n",
      "1990-01-02      2\n",
      "1990-01-03      3\n"
     ]
    }
   ],
   "source": [
    "# すでに 'year', 'month', 'day' から日時インデックスを作成したため、\n",
    "# これらの列は不要となるので削除する\n",
    "\n",
    "# axis=1 は「列方向」を指定している\n",
    "separate_day = separate_day.drop([\"year\", \"month\", \"day\"], axis=1)\n",
    "\n",
    "# 先頭3行を表示して確認\n",
    "print(separate_day.head(3))"
   ]
  },
  {
   "cell_type": "code",
   "execution_count": 37,
   "id": "0b40c115",
   "metadata": {},
   "outputs": [
    {
     "name": "stdout",
     "output_type": "stream",
     "text": [
      "   year  month  value\n",
      "0  1990      1      1\n",
      "1  1990      2      2\n",
      "2  1990      3      3\n"
     ]
    }
   ],
   "source": [
    "# 時間情報がわかれたデータの読み込み\n",
    "separate_month = pd.read_csv(\"2-4-4-separate-time-month.csv\")\n",
    "\n",
    "# 結果の確認\n",
    "print(separate_month.head(3))"
   ]
  },
  {
   "cell_type": "code",
   "execution_count": 38,
   "id": "ef460295",
   "metadata": {},
   "outputs": [
    {
     "name": "stdout",
     "output_type": "stream",
     "text": [
      "            value\n",
      "1990-01-01      1\n",
      "1990-02-01      2\n",
      "1990-03-01      3\n"
     ]
    }
   ],
   "source": [
    "# 月単位のデータを扱うため、'year' と 'month' を結合して日時インデックスを作成する。\n",
    "# 'day' はダミーとして 1 を代入（各月の1日を代表日とする）。\n",
    "\n",
    "separate_month.index = pd.to_datetime(\n",
    "    {\n",
    "        \"year\": separate_month[\"year\"],  # 年\n",
    "        \"month\": separate_month[\"month\"],  # 月\n",
    "        \"day\": np.tile(1, len(separate_month)),  # 日は全て1に固定\n",
    "    }\n",
    ")\n",
    "\n",
    "# インデックスが「各月の初日」になるので freq を \"MS\" (Month-Start) に設定\n",
    "separate_month.index.freq = \"MS\"\n",
    "\n",
    "# すでにインデックスに変換した 'year' と 'month' 列は不要になるので削除\n",
    "separate_month = separate_month.drop([\"year\", \"month\"], axis=1)\n",
    "\n",
    "# 先頭3行を表示して確認\n",
    "print(separate_month.head(3))"
   ]
  },
  {
   "cell_type": "code",
   "execution_count": 39,
   "id": "c6127ad5",
   "metadata": {},
   "outputs": [
    {
     "name": "stdout",
     "output_type": "stream",
     "text": [
      "            value\n",
      "time             \n",
      "1990-01-01    1.0\n",
      "1990-01-02    2.0\n",
      "1990-01-03    3.0\n",
      "             value\n",
      "time              \n",
      "1999-12-29  3650.0\n",
      "1999-12-30  3651.0\n",
      "1999-12-31  3652.0\n"
     ]
    }
   ],
   "source": [
    "print(ts_day.head(3))\n",
    "print(ts_day.tail(3))"
   ]
  },
  {
   "cell_type": "code",
   "execution_count": 40,
   "id": "b2c5f577",
   "metadata": {},
   "outputs": [
    {
     "name": "stdout",
     "output_type": "stream",
     "text": [
      "value    2.0\n",
      "Name: 1990-01-02 00:00:00, dtype: float64\n"
     ]
    }
   ],
   "source": [
    "# loc を使って特定の日付のデータを取得する\n",
    "# '1990-01-02' という日付に対応する行を抽出して表示\n",
    "\n",
    "print(ts_day.loc[\"1990-01-02\"])"
   ]
  },
  {
   "cell_type": "code",
   "execution_count": 41,
   "id": "709d46f3",
   "metadata": {},
   "outputs": [
    {
     "name": "stdout",
     "output_type": "stream",
     "text": [
      "            value\n",
      "time             \n",
      "1990-01-02    2.0\n",
      "1990-01-03    3.0\n",
      "1990-01-04    4.0\n"
     ]
    }
   ],
   "source": [
    "# loc を使って日付の範囲を指定\n",
    "# '1990-01-02' から '1990-01-04' までのデータを抽出して表示\n",
    "print(ts_day.loc[\"1990-01-02\":\"1990-01-04\"])"
   ]
  },
  {
   "cell_type": "code",
   "execution_count": 42,
   "id": "81376ee4",
   "metadata": {},
   "outputs": [
    {
     "name": "stdout",
     "output_type": "stream",
     "text": [
      "            value\n",
      "time             \n",
      "1990-01-01    1.0\n",
      "1990-01-02    2.0\n",
      "1990-01-03    3.0\n",
      "1990-01-04    4.0\n",
      "1990-01-05    5.0\n",
      "1990-01-06    6.0\n",
      "1990-01-07    7.0\n",
      "1990-01-08    8.0\n",
      "1990-01-09    9.0\n",
      "1990-01-10   10.0\n",
      "1990-01-11   11.0\n",
      "1990-01-12   12.0\n",
      "1990-01-13   13.0\n",
      "1990-01-14   14.0\n",
      "1990-01-15   15.0\n",
      "1990-01-16   16.0\n",
      "1990-01-17   17.0\n",
      "1990-01-18   18.0\n",
      "1990-01-19   19.0\n",
      "1990-01-20   20.0\n",
      "1990-01-21   21.0\n",
      "1990-01-22   22.0\n",
      "1990-01-23   23.0\n",
      "1990-01-24   24.0\n",
      "1990-01-25   25.0\n",
      "1990-01-26   26.0\n",
      "1990-01-27   27.0\n",
      "1990-01-28   28.0\n",
      "1990-01-29   29.0\n",
      "1990-01-30   30.0\n",
      "1990-01-31   31.0\n"
     ]
    }
   ],
   "source": [
    "# loc で月単位のデータを抽出\n",
    "# '1990-01' を指定すると、1990年1月全体のデータが取得できる\n",
    "print(ts_day.loc[\"1990-01\"])"
   ]
  },
  {
   "cell_type": "code",
   "execution_count": 43,
   "id": "c5df0185",
   "metadata": {},
   "outputs": [
    {
     "name": "stdout",
     "output_type": "stream",
     "text": [
      "2020-01-01 00:00:00    0\n",
      "2020-01-01 00:15:00    1\n",
      "2020-01-01 00:30:00    2\n",
      "Freq: 15min, dtype: int64\n",
      "2020-12-31 23:15:00    35133\n",
      "2020-12-31 23:30:00    35134\n",
      "2020-12-31 23:45:00    35135\n",
      "Freq: 15min, dtype: int64\n"
     ]
    }
   ],
   "source": [
    "# 15分ごとの時間インデックスを作成\n",
    "time_idx = pd.date_range(\n",
    "    start=\"2020-01-01\",  # 開始日\n",
    "    end=\"2021-01-01\",  # 終了日（含まない設定）\n",
    "    freq=\"15min\",  # 15分ごとの頻度\n",
    "    inclusive=\"left\",  # end を含まない（デフォルトは 'both'）\n",
    ")\n",
    "\n",
    "# 作成したインデックスを使って時系列データを生成\n",
    "# 値は 0 から順にカウントアップ\n",
    "long_ts = pd.Series(np.arange(0, len(time_idx), 1), index=time_idx)\n",
    "\n",
    "# 先頭3件を表示\n",
    "print(long_ts.head(3))\n",
    "\n",
    "# 最後の3件を表示\n",
    "print(long_ts.tail(3))"
   ]
  },
  {
   "cell_type": "code",
   "execution_count": 44,
   "id": "c815b296",
   "metadata": {},
   "outputs": [
    {
     "data": {
      "text/plain": [
       "35136"
      ]
     },
     "execution_count": 44,
     "metadata": {},
     "output_type": "execute_result"
    }
   ],
   "source": [
    "# データの長さ\n",
    "366 * 24 * 4"
   ]
  },
  {
   "cell_type": "code",
   "execution_count": 45,
   "id": "1b2fcb5f",
   "metadata": {},
   "outputs": [
    {
     "data": {
      "text/plain": [
       "35134"
      ]
     },
     "execution_count": 45,
     "metadata": {},
     "output_type": "execute_result"
    }
   ],
   "source": [
    "# 特定の日付・時刻を指定して値を取得\n",
    "long_ts.loc[\"2020-12-31 23:30:00\"]"
   ]
  },
  {
   "cell_type": "code",
   "execution_count": 46,
   "id": "f078de37",
   "metadata": {},
   "outputs": [
    {
     "data": {
      "text/plain": [
       "Timestamp('2020-12-31 23:30:00')"
      ]
     },
     "execution_count": 46,
     "metadata": {},
     "output_type": "execute_result"
    }
   ],
   "source": [
    "# Timestampオブジェクトの作成\n",
    "pd.Timestamp(2020, 12, 31, 23, 30, 0)"
   ]
  },
  {
   "cell_type": "code",
   "execution_count": 47,
   "id": "e84a7433",
   "metadata": {},
   "outputs": [
    {
     "data": {
      "text/plain": [
       "35134"
      ]
     },
     "execution_count": 47,
     "metadata": {},
     "output_type": "execute_result"
    }
   ],
   "source": [
    "# Timestampを利用したデータの抽出\n",
    "# long_ts は DatetimeIndex を持つ時系列データ（Series）\n",
    "# loc に pd.Timestamp を指定することで、特定の日時に対応する値を取り出す\n",
    "# 今回は 2020年12月31日 23時30分 に対応するデータを抽出する\n",
    "long_ts.loc[pd.Timestamp(2020, 12, 31, 23, 30, 0)]"
   ]
  },
  {
   "cell_type": "code",
   "execution_count": 48,
   "id": "33bf3f19",
   "metadata": {},
   "outputs": [
    {
     "data": {
      "text/plain": [
       "2020-12-30 00:00:00    34944\n",
       "2020-12-30 00:15:00    34945\n",
       "2020-12-30 00:30:00    34946\n",
       "2020-12-30 00:45:00    34947\n",
       "2020-12-30 01:00:00    34948\n",
       "                       ...  \n",
       "2020-12-31 09:00:00    35076\n",
       "2020-12-31 09:15:00    35077\n",
       "2020-12-31 09:30:00    35078\n",
       "2020-12-31 09:45:00    35079\n",
       "2020-12-31 10:00:00    35080\n",
       "Freq: 15min, Length: 137, dtype: int64"
      ]
     },
     "execution_count": 48,
     "metadata": {},
     "output_type": "execute_result"
    }
   ],
   "source": [
    "# Timestampを利用した範囲指定によるデータ抽出\n",
    "# long_ts は 15分刻みで生成された時系列データ\n",
    "# loc に範囲 (start:end) を与えることで、その範囲内のデータを取得できる\n",
    "# 今回は 2020年12月30日 00:00 から 2020年12月31日 10:00 までのデータを抽出する\n",
    "long_ts.loc[pd.Timestamp(2020, 12, 30) : pd.Timestamp(2020, 12, 31, 10)]"
   ]
  },
  {
   "cell_type": "code",
   "execution_count": 49,
   "id": "8f8ccce5",
   "metadata": {},
   "outputs": [
    {
     "data": {
      "text/plain": [
       "2020-01-01 10:00:00       40\n",
       "2020-01-02 10:00:00      136\n",
       "2020-01-03 10:00:00      232\n",
       "2020-01-04 10:00:00      328\n",
       "2020-01-05 10:00:00      424\n",
       "                       ...  \n",
       "2020-12-27 10:00:00    34696\n",
       "2020-12-28 10:00:00    34792\n",
       "2020-12-29 10:00:00    34888\n",
       "2020-12-30 10:00:00    34984\n",
       "2020-12-31 10:00:00    35080\n",
       "Freq: 1440min, Length: 366, dtype: int64"
      ]
     },
     "execution_count": 49,
     "metadata": {},
     "output_type": "execute_result"
    }
   ],
   "source": [
    "# 特定の時刻（10:00:00）のデータのみ抽出する\n",
    "# at_time('10:00:00') は、全ての日付のうち「時刻が 10:00:00 に一致する行」だけを取り出すメソッド\n",
    "# long_ts は 15分刻みのデータなので、毎日 10:00:00 に相当する値が抽出される\n",
    "long_ts.at_time('10:00:00')"
   ]
  },
  {
   "cell_type": "code",
   "execution_count": 50,
   "id": "35c1bcca",
   "metadata": {},
   "outputs": [
    {
     "data": {
      "text/plain": [
       "2020-01-01 10:00:00       40\n",
       "2020-01-01 10:15:00       41\n",
       "2020-01-01 10:30:00       42\n",
       "2020-01-01 10:45:00       43\n",
       "2020-01-02 10:00:00      136\n",
       "                       ...  \n",
       "2020-12-30 10:45:00    34987\n",
       "2020-12-31 10:00:00    35080\n",
       "2020-12-31 10:15:00    35081\n",
       "2020-12-31 10:30:00    35082\n",
       "2020-12-31 10:45:00    35083\n",
       "Length: 1464, dtype: int64"
      ]
     },
     "execution_count": 50,
     "metadata": {},
     "output_type": "execute_result"
    }
   ],
   "source": [
    "# 毎日「10:00:00 以上 11:00:00 未満」のデータを抽出する\n",
    "# between_time(start_time, end_time) は「各日付における指定時間帯のデータ」を取り出すメソッド\n",
    "# inclusive='left' により、開始時刻(10:00:00)は含むが、終了時刻(11:00:00)は含まない\n",
    "# つまり、各日ごとに 10:00:00, 10:15:00, ..., 10:45:00 のデータが抽出される\n",
    "long_ts.between_time(start_time=\"10:00:00\", end_time=\"11:00:00\", inclusive=\"left\")"
   ]
  },
  {
   "cell_type": "code",
   "execution_count": 51,
   "id": "b24a5fc1",
   "metadata": {},
   "outputs": [
    {
     "name": "stdout",
     "output_type": "stream",
     "text": [
      "            value  month\n",
      "time                    \n",
      "1990-01-01    1.0      1\n",
      "1990-01-02    2.0      1\n",
      "1990-01-03    3.0      1\n"
     ]
    }
   ],
   "source": [
    "# 月を表す列を追加する処理\n",
    "\n",
    "# ts_day.index は DatetimeIndex なので、そこから月情報を直接取得できる\n",
    "# .month を使うと、各行の日付に対応する「月（1〜12）」が整数で得られる\n",
    "# これを新しい列 'month' として追加する\n",
    "ts_day[\"month\"] = ts_day.index.month\n",
    "\n",
    "# 先頭3行を確認して、month列が正しく追加されたことを確認\n",
    "print(ts_day.head(3))"
   ]
  },
  {
   "cell_type": "code",
   "execution_count": 52,
   "id": "087b1432",
   "metadata": {},
   "outputs": [
    {
     "name": "stdout",
     "output_type": "stream",
     "text": [
      "          value\n",
      "month          \n",
      "1      514445.0\n",
      "2      475961.0\n",
      "3      532797.0\n",
      "4      524760.0\n",
      "5      551707.0\n",
      "6      543060.0\n",
      "7      570617.0\n",
      "8      580227.0\n",
      "9      570660.0\n",
      "10     599137.0\n",
      "11     588960.0\n",
      "12     618047.0\n"
     ]
    }
   ],
   "source": [
    "# 月ごとの合計値を計算する\n",
    "\n",
    "# groupby('month') により、追加した 'month' 列をキーにしてデータをグループ化\n",
    "# つまり、同じ月（1月, 2月, …, 12月）ごとにデータをまとめる\n",
    "# その後 .sum() を適用することで、各月に属するデータを合計する\n",
    "# （例えば売上や観測値の合計を計算するようなイメージ）\n",
    "print(ts_day.groupby(\"month\").sum())"
   ]
  },
  {
   "cell_type": "code",
   "execution_count": null,
   "id": "bf99832e",
   "metadata": {},
   "outputs": [],
   "source": []
  }
 ],
 "metadata": {
  "kernelspec": {
   "display_name": "py_tsa_venv",
   "language": "python",
   "name": "python3"
  },
  "language_info": {
   "codemirror_mode": {
    "name": "ipython",
    "version": 3
   },
   "file_extension": ".py",
   "mimetype": "text/x-python",
   "name": "python",
   "nbconvert_exporter": "python",
   "pygments_lexer": "ipython3",
   "version": "3.10.13"
  }
 },
 "nbformat": 4,
 "nbformat_minor": 5
}
